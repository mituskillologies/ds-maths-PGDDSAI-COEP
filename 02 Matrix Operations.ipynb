{
 "cells": [
  {
   "cell_type": "markdown",
   "id": "4372f622-4f0f-49b6-833d-1a5d9963c342",
   "metadata": {},
   "source": [
    "##### Creating a matrix"
   ]
  },
  {
   "cell_type": "code",
   "execution_count": 2,
   "id": "724fbcd5-23b0-4cc0-b373-96fc2e72aab0",
   "metadata": {},
   "outputs": [],
   "source": [
    "import numpy as np"
   ]
  },
  {
   "cell_type": "code",
   "execution_count": 34,
   "id": "990511ed-0559-4367-bebf-fe4a32b434e1",
   "metadata": {},
   "outputs": [],
   "source": [
    "M1 = np.array([[3,4,5],[7,1,9]])"
   ]
  },
  {
   "cell_type": "code",
   "execution_count": 35,
   "id": "570c612f-6172-44e1-9405-36dcfa2e197a",
   "metadata": {},
   "outputs": [
    {
     "data": {
      "text/plain": [
       "array([[3, 4, 5],\n",
       "       [7, 1, 9]])"
      ]
     },
     "execution_count": 35,
     "metadata": {},
     "output_type": "execute_result"
    }
   ],
   "source": [
    "M1"
   ]
  },
  {
   "cell_type": "code",
   "execution_count": 36,
   "id": "cdd179cc-de05-4e50-a3de-dd52015c2286",
   "metadata": {},
   "outputs": [
    {
     "data": {
      "text/plain": [
       "(2, 3)"
      ]
     },
     "execution_count": 36,
     "metadata": {},
     "output_type": "execute_result"
    }
   ],
   "source": [
    "M1.shape"
   ]
  },
  {
   "cell_type": "code",
   "execution_count": 37,
   "id": "31dbb744-4206-4b93-b059-9a0355a614bc",
   "metadata": {},
   "outputs": [
    {
     "data": {
      "text/plain": [
       "array([[3, 4],\n",
       "       [7, 9],\n",
       "       [6, 2],\n",
       "       [8, 5]])"
      ]
     },
     "execution_count": 37,
     "metadata": {},
     "output_type": "execute_result"
    }
   ],
   "source": [
    "M2 = np.array([[3,4],[7,9],[6,2],[8,5]])\n",
    "M2"
   ]
  },
  {
   "cell_type": "code",
   "execution_count": 38,
   "id": "d882bdb5-988e-4571-af74-5f2eb63ef915",
   "metadata": {},
   "outputs": [
    {
     "data": {
      "text/plain": [
       "(4, 2)"
      ]
     },
     "execution_count": 38,
     "metadata": {},
     "output_type": "execute_result"
    }
   ],
   "source": [
    "M2.shape"
   ]
  },
  {
   "cell_type": "code",
   "execution_count": 39,
   "id": "a3f782d0-b567-4706-9342-13d955db49e5",
   "metadata": {},
   "outputs": [
    {
     "data": {
      "text/plain": [
       "6"
      ]
     },
     "execution_count": 39,
     "metadata": {},
     "output_type": "execute_result"
    }
   ],
   "source": [
    "M1.size"
   ]
  },
  {
   "cell_type": "code",
   "execution_count": 40,
   "id": "50f36101-5c90-44d4-a9ab-c8f3aff610c3",
   "metadata": {},
   "outputs": [
    {
     "data": {
      "text/plain": [
       "8"
      ]
     },
     "execution_count": 40,
     "metadata": {},
     "output_type": "execute_result"
    }
   ],
   "source": [
    "M2.size"
   ]
  },
  {
   "cell_type": "code",
   "execution_count": 41,
   "id": "0742b563-187b-4ea1-86eb-33a89e27fe8b",
   "metadata": {},
   "outputs": [
    {
     "data": {
      "text/plain": [
       "numpy.ndarray"
      ]
     },
     "execution_count": 41,
     "metadata": {},
     "output_type": "execute_result"
    }
   ],
   "source": [
    "type(M1)"
   ]
  },
  {
   "cell_type": "code",
   "execution_count": 42,
   "id": "29741bfa-54b5-408e-85b9-c6f091c9a5a0",
   "metadata": {},
   "outputs": [],
   "source": [
    "v1 = np.array([7,3,1,5,2,9,0,5,6])"
   ]
  },
  {
   "cell_type": "code",
   "execution_count": 43,
   "id": "433678d0-df05-4218-bf41-82925f6d50da",
   "metadata": {},
   "outputs": [
    {
     "data": {
      "text/plain": [
       "array([7, 3, 1, 5, 2, 9, 0, 5, 6])"
      ]
     },
     "execution_count": 43,
     "metadata": {},
     "output_type": "execute_result"
    }
   ],
   "source": [
    "v1"
   ]
  },
  {
   "cell_type": "code",
   "execution_count": 44,
   "id": "82ffdecb-1d1a-444b-aa8d-343adf980bb2",
   "metadata": {},
   "outputs": [
    {
     "data": {
      "text/plain": [
       "9"
      ]
     },
     "execution_count": 44,
     "metadata": {},
     "output_type": "execute_result"
    }
   ],
   "source": [
    "v1.size"
   ]
  },
  {
   "cell_type": "code",
   "execution_count": 45,
   "id": "560602f2-3dbe-47bf-ab67-fbf6ff3cd568",
   "metadata": {},
   "outputs": [],
   "source": [
    "M3 = v1.reshape(3,3)"
   ]
  },
  {
   "cell_type": "code",
   "execution_count": 46,
   "id": "1539cf50-67f6-44d3-b70c-aca294abdb65",
   "metadata": {},
   "outputs": [
    {
     "data": {
      "text/plain": [
       "array([[7, 3, 1],\n",
       "       [5, 2, 9],\n",
       "       [0, 5, 6]])"
      ]
     },
     "execution_count": 46,
     "metadata": {},
     "output_type": "execute_result"
    }
   ],
   "source": [
    "M3"
   ]
  },
  {
   "cell_type": "code",
   "execution_count": 47,
   "id": "7b4f4756-9b58-4008-b966-4a1aed71f8f1",
   "metadata": {},
   "outputs": [
    {
     "data": {
      "text/plain": [
       "array([[7, 3, 1],\n",
       "       [5, 2, 9],\n",
       "       [0, 5, 6]])"
      ]
     },
     "execution_count": 47,
     "metadata": {},
     "output_type": "execute_result"
    }
   ],
   "source": [
    "np.reshape(v1, (3 ,3) )"
   ]
  },
  {
   "cell_type": "code",
   "execution_count": 48,
   "id": "bab9fe4a-eb7f-448f-8e2d-96719d176264",
   "metadata": {},
   "outputs": [
    {
     "ename": "ValueError",
     "evalue": "cannot reshape array of size 9 into shape (3,4)",
     "output_type": "error",
     "traceback": [
      "\u001b[0;31m---------------------------------------------------------------------------\u001b[0m",
      "\u001b[0;31mValueError\u001b[0m                                Traceback (most recent call last)",
      "Cell \u001b[0;32mIn[48], line 1\u001b[0m\n\u001b[0;32m----> 1\u001b[0m \u001b[43mv1\u001b[49m\u001b[38;5;241;43m.\u001b[39;49m\u001b[43mreshape\u001b[49m\u001b[43m(\u001b[49m\u001b[38;5;241;43m3\u001b[39;49m\u001b[43m,\u001b[49m\u001b[38;5;241;43m4\u001b[39;49m\u001b[43m)\u001b[49m\n",
      "\u001b[0;31mValueError\u001b[0m: cannot reshape array of size 9 into shape (3,4)"
     ]
    }
   ],
   "source": [
    "v1.reshape(3,4)"
   ]
  },
  {
   "cell_type": "code",
   "execution_count": 22,
   "id": "17486734-3bb8-434c-89b0-11a1bf2fc525",
   "metadata": {},
   "outputs": [
    {
     "data": {
      "text/plain": [
       "array([[3, 4, 5],\n",
       "       [7, 1, 9]])"
      ]
     },
     "execution_count": 22,
     "metadata": {},
     "output_type": "execute_result"
    }
   ],
   "source": [
    "M1"
   ]
  },
  {
   "cell_type": "code",
   "execution_count": 23,
   "id": "7dee79af-487b-4b6c-aeef-0315b5743a71",
   "metadata": {},
   "outputs": [
    {
     "data": {
      "text/plain": [
       "array([3, 4, 5, 7, 1, 9])"
      ]
     },
     "execution_count": 23,
     "metadata": {},
     "output_type": "execute_result"
    }
   ],
   "source": [
    "M1.reshape(6)"
   ]
  },
  {
   "cell_type": "code",
   "execution_count": 24,
   "id": "84da7bfb-3c2b-4636-8f78-5615e9b055fe",
   "metadata": {},
   "outputs": [
    {
     "data": {
      "text/plain": [
       "array([3, 4, 5, 7, 1, 9])"
      ]
     },
     "execution_count": 24,
     "metadata": {},
     "output_type": "execute_result"
    }
   ],
   "source": [
    "M1.flatten()"
   ]
  },
  {
   "cell_type": "code",
   "execution_count": 25,
   "id": "98220b5f-6ef1-4434-b688-b49c5bb2d899",
   "metadata": {},
   "outputs": [
    {
     "data": {
      "text/plain": [
       "array([[7, 3, 1],\n",
       "       [5, 2, 9],\n",
       "       [0, 5, 6]])"
      ]
     },
     "execution_count": 25,
     "metadata": {},
     "output_type": "execute_result"
    }
   ],
   "source": [
    "v1.reshape(3,3)"
   ]
  },
  {
   "cell_type": "code",
   "execution_count": 26,
   "id": "27839d70-cb88-4f56-a04c-911e4479b061",
   "metadata": {},
   "outputs": [
    {
     "data": {
      "text/plain": [
       "array([[7, 3, 1],\n",
       "       [5, 2, 9],\n",
       "       [0, 5, 6]])"
      ]
     },
     "execution_count": 26,
     "metadata": {},
     "output_type": "execute_result"
    }
   ],
   "source": [
    "v1.reshape(-1,3)"
   ]
  },
  {
   "cell_type": "code",
   "execution_count": 27,
   "id": "a0814bf6-1556-414f-8435-2504c2aeed90",
   "metadata": {},
   "outputs": [
    {
     "data": {
      "text/plain": [
       "array([[7],\n",
       "       [3],\n",
       "       [1],\n",
       "       [5],\n",
       "       [2],\n",
       "       [9],\n",
       "       [0],\n",
       "       [5],\n",
       "       [6]])"
      ]
     },
     "execution_count": 27,
     "metadata": {},
     "output_type": "execute_result"
    }
   ],
   "source": [
    "v1.reshape(-1,1)"
   ]
  },
  {
   "cell_type": "code",
   "execution_count": 28,
   "id": "13019701-95fc-4722-9273-2353eaf6b2e1",
   "metadata": {},
   "outputs": [
    {
     "data": {
      "text/plain": [
       "array([[7, 3, 1],\n",
       "       [5, 2, 9],\n",
       "       [0, 5, 6]])"
      ]
     },
     "execution_count": 28,
     "metadata": {},
     "output_type": "execute_result"
    }
   ],
   "source": [
    "v1.reshape(3, -1)"
   ]
  },
  {
   "cell_type": "code",
   "execution_count": 29,
   "id": "4821f1ea-55e7-4379-a4a9-1926823bc3ae",
   "metadata": {},
   "outputs": [
    {
     "data": {
      "text/plain": [
       "array([[3, 4, 5],\n",
       "       [7, 1, 9]])"
      ]
     },
     "execution_count": 29,
     "metadata": {},
     "output_type": "execute_result"
    }
   ],
   "source": [
    "M1"
   ]
  },
  {
   "cell_type": "code",
   "execution_count": 30,
   "id": "4770b7b9-02ec-4e02-80b3-b3e165a27596",
   "metadata": {},
   "outputs": [
    {
     "data": {
      "text/plain": [
       "dtype('int64')"
      ]
     },
     "execution_count": 30,
     "metadata": {},
     "output_type": "execute_result"
    }
   ],
   "source": [
    "M1.dtype"
   ]
  },
  {
   "cell_type": "code",
   "execution_count": 31,
   "id": "316c9b99-f59c-4b81-b864-a8d0d9dd89d0",
   "metadata": {},
   "outputs": [],
   "source": [
    "M1 = np.array([[3,4,5],[7,1,9]], dtype = np.int8)"
   ]
  },
  {
   "cell_type": "code",
   "execution_count": 32,
   "id": "5c985fe3-7957-41e8-96a1-c9bed645e927",
   "metadata": {},
   "outputs": [
    {
     "data": {
      "text/plain": [
       "array([[3, 4, 5],\n",
       "       [7, 1, 9]], dtype=int8)"
      ]
     },
     "execution_count": 32,
     "metadata": {},
     "output_type": "execute_result"
    }
   ],
   "source": [
    "M1"
   ]
  },
  {
   "cell_type": "code",
   "execution_count": 49,
   "id": "f66160e9-dc3a-45c3-b363-353b61d1492e",
   "metadata": {},
   "outputs": [
    {
     "data": {
      "text/plain": [
       "array([3, 4, 5])"
      ]
     },
     "execution_count": 49,
     "metadata": {},
     "output_type": "execute_result"
    }
   ],
   "source": [
    "M1[0]"
   ]
  },
  {
   "cell_type": "code",
   "execution_count": 50,
   "id": "2ce0a0d0-6dcd-428f-ad8f-63992f8391f0",
   "metadata": {},
   "outputs": [
    {
     "data": {
      "text/plain": [
       "array([7, 1, 9])"
      ]
     },
     "execution_count": 50,
     "metadata": {},
     "output_type": "execute_result"
    }
   ],
   "source": [
    "M1[1]"
   ]
  },
  {
   "cell_type": "code",
   "execution_count": 51,
   "id": "fa607a97-4691-48c7-a1fa-cfedfc96e12f",
   "metadata": {},
   "outputs": [
    {
     "data": {
      "text/plain": [
       "array([[7, 3, 1],\n",
       "       [5, 2, 9],\n",
       "       [0, 5, 6]])"
      ]
     },
     "execution_count": 51,
     "metadata": {},
     "output_type": "execute_result"
    }
   ],
   "source": [
    "M3"
   ]
  },
  {
   "cell_type": "code",
   "execution_count": 52,
   "id": "11158b23-2fec-42b3-ae96-656032e364a3",
   "metadata": {},
   "outputs": [
    {
     "data": {
      "text/plain": [
       "3"
      ]
     },
     "execution_count": 52,
     "metadata": {},
     "output_type": "execute_result"
    }
   ],
   "source": [
    "M3[0][1]"
   ]
  },
  {
   "cell_type": "code",
   "execution_count": 53,
   "id": "3849b5f5-2947-4186-8388-a49cf25a8ad3",
   "metadata": {},
   "outputs": [],
   "source": [
    "M3[0][1] = 8"
   ]
  },
  {
   "cell_type": "code",
   "execution_count": 54,
   "id": "c91b4cf2-03a9-4c9e-bdae-0b28a3bd7565",
   "metadata": {},
   "outputs": [
    {
     "data": {
      "text/plain": [
       "array([[7, 8, 1],\n",
       "       [5, 2, 9],\n",
       "       [0, 5, 6]])"
      ]
     },
     "execution_count": 54,
     "metadata": {},
     "output_type": "execute_result"
    }
   ],
   "source": [
    "M3"
   ]
  },
  {
   "cell_type": "code",
   "execution_count": 55,
   "id": "ce6cb22b-758d-4c42-95c6-6c69745f5e44",
   "metadata": {},
   "outputs": [
    {
     "data": {
      "text/plain": [
       "8"
      ]
     },
     "execution_count": 55,
     "metadata": {},
     "output_type": "execute_result"
    }
   ],
   "source": [
    "M3[0,1]"
   ]
  },
  {
   "cell_type": "code",
   "execution_count": 57,
   "id": "311d74d4-ebd8-4089-8345-bc9f95171d5f",
   "metadata": {},
   "outputs": [
    {
     "data": {
      "text/plain": [
       "array([[5, 2],\n",
       "       [0, 5]])"
      ]
     },
     "execution_count": 57,
     "metadata": {},
     "output_type": "execute_result"
    }
   ],
   "source": [
    "# R -> 1 to 2 (3 -1)\n",
    "# C -> 0 to 1 (2 -1)\n",
    "M3[1:3,0:2]"
   ]
  },
  {
   "cell_type": "code",
   "execution_count": 59,
   "id": "7c3a4e86-2b38-4176-9ce7-a045d41ab2c8",
   "metadata": {},
   "outputs": [
    {
     "data": {
      "text/plain": [
       "array([[5, 2, 9],\n",
       "       [0, 5, 6]])"
      ]
     },
     "execution_count": 59,
     "metadata": {},
     "output_type": "execute_result"
    }
   ],
   "source": [
    "M3[1:,0:]"
   ]
  },
  {
   "cell_type": "code",
   "execution_count": 60,
   "id": "7d306ee7-ce63-49e6-9b15-25f39d19bf66",
   "metadata": {},
   "outputs": [
    {
     "data": {
      "text/plain": [
       "array([[7, 8],\n",
       "       [5, 2],\n",
       "       [0, 5]])"
      ]
     },
     "execution_count": 60,
     "metadata": {},
     "output_type": "execute_result"
    }
   ],
   "source": [
    "M3[:3,:2]"
   ]
  },
  {
   "cell_type": "code",
   "execution_count": 61,
   "id": "97fbdd1a-eff3-4726-9a59-b46421b3c8be",
   "metadata": {},
   "outputs": [
    {
     "data": {
      "text/plain": [
       "array([[7, 8, 1],\n",
       "       [5, 2, 9],\n",
       "       [0, 5, 6]])"
      ]
     },
     "execution_count": 61,
     "metadata": {},
     "output_type": "execute_result"
    }
   ],
   "source": [
    "M3[:,:]"
   ]
  },
  {
   "cell_type": "code",
   "execution_count": 62,
   "id": "67109555-8503-4c8a-8bf1-a7f5087d4490",
   "metadata": {},
   "outputs": [],
   "source": [
    "M4 = M3"
   ]
  },
  {
   "cell_type": "code",
   "execution_count": 63,
   "id": "d1b54d82-6d1b-4a1d-bb7b-b9dbd6739f86",
   "metadata": {},
   "outputs": [
    {
     "data": {
      "text/plain": [
       "array([[7, 8, 1],\n",
       "       [5, 2, 9],\n",
       "       [0, 5, 6]])"
      ]
     },
     "execution_count": 63,
     "metadata": {},
     "output_type": "execute_result"
    }
   ],
   "source": [
    "M4"
   ]
  },
  {
   "cell_type": "code",
   "execution_count": 64,
   "id": "28b28fc2-9b9d-46bf-90eb-f52aea39000f",
   "metadata": {},
   "outputs": [
    {
     "data": {
      "text/plain": [
       "6"
      ]
     },
     "execution_count": 64,
     "metadata": {},
     "output_type": "execute_result"
    }
   ],
   "source": [
    "M4[2][2]"
   ]
  },
  {
   "cell_type": "code",
   "execution_count": 65,
   "id": "507b5643-e3ce-4981-9f2a-2181a3eafeab",
   "metadata": {},
   "outputs": [],
   "source": [
    "M4[2][2] = 10"
   ]
  },
  {
   "cell_type": "code",
   "execution_count": 66,
   "id": "f76a3a24-6ce5-42de-b80c-1304c151dec6",
   "metadata": {},
   "outputs": [
    {
     "data": {
      "text/plain": [
       "array([[ 7,  8,  1],\n",
       "       [ 5,  2,  9],\n",
       "       [ 0,  5, 10]])"
      ]
     },
     "execution_count": 66,
     "metadata": {},
     "output_type": "execute_result"
    }
   ],
   "source": [
    "M4"
   ]
  },
  {
   "cell_type": "code",
   "execution_count": 67,
   "id": "fb17eb61-4a1d-4849-8ab1-dbaf829ed3ac",
   "metadata": {},
   "outputs": [
    {
     "data": {
      "text/plain": [
       "array([[ 7,  8,  1],\n",
       "       [ 5,  2,  9],\n",
       "       [ 0,  5, 10]])"
      ]
     },
     "execution_count": 67,
     "metadata": {},
     "output_type": "execute_result"
    }
   ],
   "source": [
    "M3"
   ]
  },
  {
   "cell_type": "code",
   "execution_count": 68,
   "id": "ef4fc46f-56db-4482-b7eb-b4bde5800931",
   "metadata": {},
   "outputs": [
    {
     "data": {
      "text/plain": [
       "137874558310064"
      ]
     },
     "execution_count": 68,
     "metadata": {},
     "output_type": "execute_result"
    }
   ],
   "source": [
    "id(M3)"
   ]
  },
  {
   "cell_type": "code",
   "execution_count": 69,
   "id": "66b91712-16c0-4368-8ae9-a1b0f72f9993",
   "metadata": {},
   "outputs": [
    {
     "data": {
      "text/plain": [
       "137874558310064"
      ]
     },
     "execution_count": 69,
     "metadata": {},
     "output_type": "execute_result"
    }
   ],
   "source": [
    "id(M4)"
   ]
  },
  {
   "cell_type": "code",
   "execution_count": 72,
   "id": "2f625599-55f6-4872-8650-0583a091e9c7",
   "metadata": {},
   "outputs": [],
   "source": [
    "# create a shallow copy of the data\n",
    "M4 = M3.copy()"
   ]
  },
  {
   "cell_type": "code",
   "execution_count": 71,
   "id": "0f94821b-9ea5-4712-b2c3-8e61acad9a93",
   "metadata": {},
   "outputs": [
    {
     "data": {
      "text/plain": [
       "array([[ 7,  8,  1],\n",
       "       [ 5,  2,  9],\n",
       "       [ 0,  5, 10]])"
      ]
     },
     "execution_count": 71,
     "metadata": {},
     "output_type": "execute_result"
    }
   ],
   "source": [
    "M4"
   ]
  },
  {
   "cell_type": "code",
   "execution_count": 73,
   "id": "96e580cd-1866-472a-8ec4-d85bce61e365",
   "metadata": {},
   "outputs": [
    {
     "data": {
      "text/plain": [
       "137874558310064"
      ]
     },
     "execution_count": 73,
     "metadata": {},
     "output_type": "execute_result"
    }
   ],
   "source": [
    "id(M3)"
   ]
  },
  {
   "cell_type": "code",
   "execution_count": 74,
   "id": "1305f432-4192-4557-b0ce-d3647a236675",
   "metadata": {},
   "outputs": [
    {
     "data": {
      "text/plain": [
       "137874624002064"
      ]
     },
     "execution_count": 74,
     "metadata": {},
     "output_type": "execute_result"
    }
   ],
   "source": [
    "id(M4)"
   ]
  },
  {
   "cell_type": "markdown",
   "id": "5aee2157-ab61-44c3-9c06-abe2b6239a9e",
   "metadata": {},
   "source": [
    "#### Matrix Operations"
   ]
  },
  {
   "cell_type": "markdown",
   "id": "9789f01e-b594-4a9d-9ea0-edf77bcc5377",
   "metadata": {},
   "source": [
    "##### Matrix Addition"
   ]
  },
  {
   "cell_type": "code",
   "execution_count": 77,
   "id": "3f993896-f7e9-412b-8377-f65f0419775c",
   "metadata": {},
   "outputs": [],
   "source": [
    "M5 = np.array([[7,3,1],[5,2,9],[0,5,6],[6,1,2]])"
   ]
  },
  {
   "cell_type": "code",
   "execution_count": 78,
   "id": "d75e1193-5869-45ad-93ad-218e652d3d2f",
   "metadata": {},
   "outputs": [],
   "source": [
    "M6 = np.array([[9,2,1],[8,8,2],[5,6,4],[0,1,3]])"
   ]
  },
  {
   "cell_type": "code",
   "execution_count": 79,
   "id": "30f7df2e-bbe2-428b-b2bc-7f20b152589a",
   "metadata": {},
   "outputs": [
    {
     "data": {
      "text/plain": [
       "array([[7, 3, 1],\n",
       "       [5, 2, 9],\n",
       "       [0, 5, 6],\n",
       "       [6, 1, 2]])"
      ]
     },
     "execution_count": 79,
     "metadata": {},
     "output_type": "execute_result"
    }
   ],
   "source": [
    "M5"
   ]
  },
  {
   "cell_type": "code",
   "execution_count": 80,
   "id": "37567ba2-900c-47dd-9b94-9b5f620df8ab",
   "metadata": {},
   "outputs": [
    {
     "data": {
      "text/plain": [
       "array([[9, 2, 1],\n",
       "       [8, 8, 2],\n",
       "       [5, 6, 4],\n",
       "       [0, 1, 3]])"
      ]
     },
     "execution_count": 80,
     "metadata": {},
     "output_type": "execute_result"
    }
   ],
   "source": [
    "M6"
   ]
  },
  {
   "cell_type": "code",
   "execution_count": 81,
   "id": "5c3ab721-4591-4da8-8802-a889e1fb0aea",
   "metadata": {},
   "outputs": [],
   "source": [
    "M7 = M5 + M6"
   ]
  },
  {
   "cell_type": "code",
   "execution_count": 82,
   "id": "c9fd13ea-4034-49a9-b700-c6d79061f43d",
   "metadata": {},
   "outputs": [
    {
     "data": {
      "text/plain": [
       "array([[16,  5,  2],\n",
       "       [13, 10, 11],\n",
       "       [ 5, 11, 10],\n",
       "       [ 6,  2,  5]])"
      ]
     },
     "execution_count": 82,
     "metadata": {},
     "output_type": "execute_result"
    }
   ],
   "source": [
    "M7"
   ]
  },
  {
   "cell_type": "code",
   "execution_count": 83,
   "id": "d5ce0c41-79b3-4bd7-b884-a0b148c9706a",
   "metadata": {},
   "outputs": [
    {
     "ename": "ValueError",
     "evalue": "operands could not be broadcast together with shapes (4,3) (3,3) ",
     "output_type": "error",
     "traceback": [
      "\u001b[0;31m---------------------------------------------------------------------------\u001b[0m",
      "\u001b[0;31mValueError\u001b[0m                                Traceback (most recent call last)",
      "Cell \u001b[0;32mIn[83], line 1\u001b[0m\n\u001b[0;32m----> 1\u001b[0m \u001b[43mM5\u001b[49m\u001b[43m \u001b[49m\u001b[38;5;241;43m+\u001b[39;49m\u001b[43m \u001b[49m\u001b[43mM3\u001b[49m\n",
      "\u001b[0;31mValueError\u001b[0m: operands could not be broadcast together with shapes (4,3) (3,3) "
     ]
    }
   ],
   "source": [
    "M5 + M3"
   ]
  },
  {
   "cell_type": "markdown",
   "id": "44097c47-efe7-4875-855b-caa15b8b9181",
   "metadata": {},
   "source": [
    "##### Matrix Subtraction"
   ]
  },
  {
   "cell_type": "code",
   "execution_count": 86,
   "id": "88b514b6-e6b2-4f32-88a3-c2959611051d",
   "metadata": {},
   "outputs": [],
   "source": [
    "M8 = M5 - M6"
   ]
  },
  {
   "cell_type": "code",
   "execution_count": 87,
   "id": "f71a2c13-df53-4f5e-8f7a-c4a095ebe41a",
   "metadata": {},
   "outputs": [
    {
     "data": {
      "text/plain": [
       "array([[-2,  1,  0],\n",
       "       [-3, -6,  7],\n",
       "       [-5, -1,  2],\n",
       "       [ 6,  0, -1]])"
      ]
     },
     "execution_count": 87,
     "metadata": {},
     "output_type": "execute_result"
    }
   ],
   "source": [
    "M8"
   ]
  },
  {
   "cell_type": "markdown",
   "id": "956a270b-eb53-40e1-b67a-ed32290ee5a8",
   "metadata": {},
   "source": [
    "##### Matrix Scalar Operations"
   ]
  },
  {
   "cell_type": "code",
   "execution_count": 90,
   "id": "d1ecfa60-359d-4523-b3f3-7f6cf7c26b7f",
   "metadata": {},
   "outputs": [
    {
     "data": {
      "text/plain": [
       "array([[ 9, 10,  3],\n",
       "       [ 7,  4, 11],\n",
       "       [ 2,  7, 12]])"
      ]
     },
     "execution_count": 90,
     "metadata": {},
     "output_type": "execute_result"
    }
   ],
   "source": [
    "M4 + 2"
   ]
  },
  {
   "cell_type": "code",
   "execution_count": 91,
   "id": "2a6d5f4b-bbcb-4eeb-a7d4-a23abd7d224a",
   "metadata": {},
   "outputs": [
    {
     "data": {
      "text/plain": [
       "array([[ 4,  5, -2],\n",
       "       [ 2, -1,  6],\n",
       "       [-3,  2,  7]])"
      ]
     },
     "execution_count": 91,
     "metadata": {},
     "output_type": "execute_result"
    }
   ],
   "source": [
    "M4 - 3"
   ]
  },
  {
   "cell_type": "code",
   "execution_count": 92,
   "id": "44090a89-d54f-4c8e-91c8-a79db946a7ca",
   "metadata": {},
   "outputs": [
    {
     "data": {
      "text/plain": [
       "array([[14, 16,  2],\n",
       "       [10,  4, 18],\n",
       "       [ 0, 10, 20]])"
      ]
     },
     "execution_count": 92,
     "metadata": {},
     "output_type": "execute_result"
    }
   ],
   "source": [
    "M4 * 2"
   ]
  },
  {
   "cell_type": "code",
   "execution_count": 94,
   "id": "3efe0453-2b61-437a-ae20-73f0c34f6349",
   "metadata": {},
   "outputs": [
    {
     "data": {
      "text/plain": [
       "array([[25,  7,  3],\n",
       "       [21, 18, 13],\n",
       "       [10, 17, 14],\n",
       "       [ 6,  3,  8]])"
      ]
     },
     "execution_count": 94,
     "metadata": {},
     "output_type": "execute_result"
    }
   ],
   "source": [
    "2 * M6 + M5"
   ]
  },
  {
   "cell_type": "code",
   "execution_count": 95,
   "id": "4cb56291-9b37-4b65-a42f-a918b4f6ee4c",
   "metadata": {},
   "outputs": [
    {
     "data": {
      "text/plain": [
       "array([[ -7,  -8,  -1],\n",
       "       [ -5,  -2,  -9],\n",
       "       [  0,  -5, -10]])"
      ]
     },
     "execution_count": 95,
     "metadata": {},
     "output_type": "execute_result"
    }
   ],
   "source": [
    "-1 * M4"
   ]
  },
  {
   "cell_type": "code",
   "execution_count": 96,
   "id": "8758e783-5088-4599-8adf-a3159d7b7259",
   "metadata": {},
   "outputs": [
    {
     "data": {
      "text/plain": [
       "array([[32, 10,  4],\n",
       "       [26, 20, 22],\n",
       "       [10, 22, 20],\n",
       "       [12,  4, 10]])"
      ]
     },
     "execution_count": 96,
     "metadata": {},
     "output_type": "execute_result"
    }
   ],
   "source": [
    "2 * M5 + 2 * M6 "
   ]
  },
  {
   "cell_type": "code",
   "execution_count": 97,
   "id": "0d5d3cdf-335e-4896-bb28-c980aea49d00",
   "metadata": {},
   "outputs": [
    {
     "data": {
      "text/plain": [
       "array([[32, 10,  4],\n",
       "       [26, 20, 22],\n",
       "       [10, 22, 20],\n",
       "       [12,  4, 10]])"
      ]
     },
     "execution_count": 97,
     "metadata": {},
     "output_type": "execute_result"
    }
   ],
   "source": [
    "2 * (M5 + M6)"
   ]
  },
  {
   "cell_type": "markdown",
   "id": "10c743e8-9d44-4df5-8cbb-84d4b2e18043",
   "metadata": {},
   "source": [
    "##### Matrix Multiplication"
   ]
  },
  {
   "cell_type": "code",
   "execution_count": 99,
   "id": "3187ca26-fd76-4289-bc15-9dac2ee24717",
   "metadata": {},
   "outputs": [
    {
     "data": {
      "text/plain": [
       "(3, 3)"
      ]
     },
     "execution_count": 99,
     "metadata": {},
     "output_type": "execute_result"
    }
   ],
   "source": [
    "M4.shape"
   ]
  },
  {
   "cell_type": "code",
   "execution_count": 100,
   "id": "2ecbead6-9a32-4714-9c81-8840d658f6e7",
   "metadata": {},
   "outputs": [
    {
     "data": {
      "text/plain": [
       "(4, 3)"
      ]
     },
     "execution_count": 100,
     "metadata": {},
     "output_type": "execute_result"
    }
   ],
   "source": [
    "M5.shape"
   ]
  },
  {
   "cell_type": "code",
   "execution_count": 101,
   "id": "a029b0d1-2017-4f5c-a1e4-f068a92f3b60",
   "metadata": {},
   "outputs": [
    {
     "data": {
      "text/plain": [
       "(4, 3)"
      ]
     },
     "execution_count": 101,
     "metadata": {},
     "output_type": "execute_result"
    }
   ],
   "source": [
    "M6.shape"
   ]
  },
  {
   "cell_type": "code",
   "execution_count": 102,
   "id": "a6273457-5eb3-46fe-aa46-53ee4e7bc60a",
   "metadata": {},
   "outputs": [
    {
     "ename": "ValueError",
     "evalue": "operands could not be broadcast together with shapes (4,3) (3,3) ",
     "output_type": "error",
     "traceback": [
      "\u001b[0;31m---------------------------------------------------------------------------\u001b[0m",
      "\u001b[0;31mValueError\u001b[0m                                Traceback (most recent call last)",
      "Cell \u001b[0;32mIn[102], line 1\u001b[0m\n\u001b[0;32m----> 1\u001b[0m \u001b[43mM5\u001b[49m\u001b[43m \u001b[49m\u001b[38;5;241;43m*\u001b[39;49m\u001b[43m \u001b[49m\u001b[43mM4\u001b[49m\n",
      "\u001b[0;31mValueError\u001b[0m: operands could not be broadcast together with shapes (4,3) (3,3) "
     ]
    }
   ],
   "source": [
    "M5 * M4"
   ]
  },
  {
   "cell_type": "code",
   "execution_count": 103,
   "id": "bfd6b216-d2b3-475b-b120-8e27f1638c57",
   "metadata": {},
   "outputs": [
    {
     "data": {
      "text/plain": [
       "array([[ 64,  67,  44],\n",
       "       [ 45,  89, 113],\n",
       "       [ 25,  40, 105],\n",
       "       [ 47,  60,  35]])"
      ]
     },
     "execution_count": 103,
     "metadata": {},
     "output_type": "execute_result"
    }
   ],
   "source": [
    "np.matmul(M5, M4)"
   ]
  },
  {
   "cell_type": "code",
   "execution_count": 104,
   "id": "0da7e508-3b6a-4701-93a8-ee13a16479b3",
   "metadata": {},
   "outputs": [
    {
     "data": {
      "text/plain": [
       "array([[ 64,  67,  44],\n",
       "       [ 45,  89, 113],\n",
       "       [ 25,  40, 105],\n",
       "       [ 47,  60,  35]])"
      ]
     },
     "execution_count": 104,
     "metadata": {},
     "output_type": "execute_result"
    }
   ],
   "source": [
    "M5 @ M4"
   ]
  },
  {
   "cell_type": "code",
   "execution_count": 105,
   "id": "e475e6c0-7963-4f6f-af0b-a19d72716d6c",
   "metadata": {},
   "outputs": [
    {
     "data": {
      "text/plain": [
       "array([[ 73,  81,  37],\n",
       "       [ 96,  90, 100],\n",
       "       [ 65,  72,  99],\n",
       "       [  5,  17,  39]])"
      ]
     },
     "execution_count": 105,
     "metadata": {},
     "output_type": "execute_result"
    }
   ],
   "source": [
    "M6 @ M4"
   ]
  },
  {
   "cell_type": "code",
   "execution_count": 106,
   "id": "7bc7accc-8db6-41c6-a1c7-a6dd551000c2",
   "metadata": {},
   "outputs": [
    {
     "ename": "ValueError",
     "evalue": "matmul: Input operand 1 has a mismatch in its core dimension 0, with gufunc signature (n?,k),(k,m?)->(n?,m?) (size 4 is different from 3)",
     "output_type": "error",
     "traceback": [
      "\u001b[0;31m---------------------------------------------------------------------------\u001b[0m",
      "\u001b[0;31mValueError\u001b[0m                                Traceback (most recent call last)",
      "Cell \u001b[0;32mIn[106], line 1\u001b[0m\n\u001b[0;32m----> 1\u001b[0m \u001b[43mM4\u001b[49m\u001b[43m \u001b[49m\u001b[38;5;241;43m@\u001b[39;49m\u001b[43m \u001b[49m\u001b[43mM5\u001b[49m\n",
      "\u001b[0;31mValueError\u001b[0m: matmul: Input operand 1 has a mismatch in its core dimension 0, with gufunc signature (n?,k),(k,m?)->(n?,m?) (size 4 is different from 3)"
     ]
    }
   ],
   "source": [
    "M4 @ M5"
   ]
  },
  {
   "cell_type": "markdown",
   "id": "f331957c-7cd9-4430-ad8e-0a6a533afcc1",
   "metadata": {},
   "source": [
    "##### Transpose of the matrix"
   ]
  },
  {
   "cell_type": "code",
   "execution_count": 108,
   "id": "ce6140fd-9b79-44d4-9894-ef0bc344fecc",
   "metadata": {},
   "outputs": [
    {
     "data": {
      "text/plain": [
       "array([[7, 3, 1],\n",
       "       [5, 2, 9],\n",
       "       [0, 5, 6],\n",
       "       [6, 1, 2]])"
      ]
     },
     "execution_count": 108,
     "metadata": {},
     "output_type": "execute_result"
    }
   ],
   "source": [
    "M5"
   ]
  },
  {
   "cell_type": "code",
   "execution_count": 109,
   "id": "33592266-b479-44b2-80fa-3a3d2ccef0c2",
   "metadata": {},
   "outputs": [
    {
     "data": {
      "text/plain": [
       "array([[7, 5, 0, 6],\n",
       "       [3, 2, 5, 1],\n",
       "       [1, 9, 6, 2]])"
      ]
     },
     "execution_count": 109,
     "metadata": {},
     "output_type": "execute_result"
    }
   ],
   "source": [
    "np.transpose(M5)"
   ]
  },
  {
   "cell_type": "code",
   "execution_count": 110,
   "id": "cea49ed7-80de-4eb7-802f-6e22f777bedf",
   "metadata": {},
   "outputs": [
    {
     "data": {
      "text/plain": [
       "array([[ 7,  5,  0],\n",
       "       [ 8,  2,  5],\n",
       "       [ 1,  9, 10]])"
      ]
     },
     "execution_count": 110,
     "metadata": {},
     "output_type": "execute_result"
    }
   ],
   "source": [
    "np.transpose(M3)"
   ]
  },
  {
   "cell_type": "code",
   "execution_count": 111,
   "id": "a76792e1-e2a1-47b0-bb60-359bce7803ba",
   "metadata": {},
   "outputs": [
    {
     "data": {
      "text/plain": [
       "array([[7, 5, 0, 6],\n",
       "       [3, 2, 5, 1],\n",
       "       [1, 9, 6, 2]])"
      ]
     },
     "execution_count": 111,
     "metadata": {},
     "output_type": "execute_result"
    }
   ],
   "source": [
    "M5.T"
   ]
  },
  {
   "cell_type": "code",
   "execution_count": 112,
   "id": "6697d11d-6a4c-4d00-8e43-abba396df2e2",
   "metadata": {},
   "outputs": [
    {
     "data": {
      "text/plain": [
       "array([[ 7,  5,  0],\n",
       "       [ 8,  2,  5],\n",
       "       [ 1,  9, 10]])"
      ]
     },
     "execution_count": 112,
     "metadata": {},
     "output_type": "execute_result"
    }
   ],
   "source": [
    "M3.T"
   ]
  },
  {
   "cell_type": "code",
   "execution_count": 113,
   "id": "54f1e7b9-47c2-4106-9716-142a6033dbbb",
   "metadata": {},
   "outputs": [
    {
     "data": {
      "text/plain": [
       "(3, 3)"
      ]
     },
     "execution_count": 113,
     "metadata": {},
     "output_type": "execute_result"
    }
   ],
   "source": [
    "M3.T.shape"
   ]
  },
  {
   "cell_type": "code",
   "execution_count": 114,
   "id": "07dd8bb6-09c6-4229-ab90-303244bbd077",
   "metadata": {},
   "outputs": [
    {
     "data": {
      "text/plain": [
       "(4, 3)"
      ]
     },
     "execution_count": 114,
     "metadata": {},
     "output_type": "execute_result"
    }
   ],
   "source": [
    "M5.shape"
   ]
  },
  {
   "cell_type": "code",
   "execution_count": 115,
   "id": "d539b0f2-5b8a-4f1e-86fe-721e73191eeb",
   "metadata": {},
   "outputs": [
    {
     "data": {
      "text/plain": [
       "(3, 4)"
      ]
     },
     "execution_count": 115,
     "metadata": {},
     "output_type": "execute_result"
    }
   ],
   "source": [
    "M5.T.shape"
   ]
  },
  {
   "cell_type": "code",
   "execution_count": 117,
   "id": "3a909bef-bb21-42eb-b7d2-bec061ceb785",
   "metadata": {},
   "outputs": [
    {
     "ename": "ValueError",
     "evalue": "matmul: Input operand 1 has a mismatch in its core dimension 0, with gufunc signature (n?,k),(k,m?)->(n?,m?) (size 4 is different from 3)",
     "output_type": "error",
     "traceback": [
      "\u001b[0;31m---------------------------------------------------------------------------\u001b[0m",
      "\u001b[0;31mValueError\u001b[0m                                Traceback (most recent call last)",
      "Cell \u001b[0;32mIn[117], line 1\u001b[0m\n\u001b[0;32m----> 1\u001b[0m \u001b[43mM3\u001b[49m\u001b[43m \u001b[49m\u001b[38;5;241;43m@\u001b[39;49m\u001b[43m \u001b[49m\u001b[43mM5\u001b[49m\n",
      "\u001b[0;31mValueError\u001b[0m: matmul: Input operand 1 has a mismatch in its core dimension 0, with gufunc signature (n?,k),(k,m?)->(n?,m?) (size 4 is different from 3)"
     ]
    }
   ],
   "source": [
    "M3 @ M5"
   ]
  },
  {
   "cell_type": "code",
   "execution_count": 118,
   "id": "4d50d9e8-75ce-4a89-8f12-eb6edfd7d80e",
   "metadata": {},
   "outputs": [
    {
     "data": {
      "text/plain": [
       "array([[ 74,  60,  46,  52],\n",
       "       [ 50, 110,  64,  50],\n",
       "       [ 25, 100,  85,  25]])"
      ]
     },
     "execution_count": 118,
     "metadata": {},
     "output_type": "execute_result"
    }
   ],
   "source": [
    "M3 @ M5.T"
   ]
  },
  {
   "cell_type": "code",
   "execution_count": 121,
   "id": "06061d23-04d6-4de2-9512-7cfee05903ca",
   "metadata": {},
   "outputs": [
    {
     "data": {
      "text/plain": [
       "array([[7, 3, 1],\n",
       "       [5, 2, 9],\n",
       "       [0, 5, 6],\n",
       "       [6, 1, 2]])"
      ]
     },
     "execution_count": 121,
     "metadata": {},
     "output_type": "execute_result"
    }
   ],
   "source": [
    "M5"
   ]
  },
  {
   "cell_type": "code",
   "execution_count": 122,
   "id": "8ae3b2cb-6c69-4c37-a58a-a2274d68d22b",
   "metadata": {},
   "outputs": [
    {
     "data": {
      "text/plain": [
       "array([[7, 3, 1],\n",
       "       [5, 2, 9],\n",
       "       [0, 5, 6],\n",
       "       [6, 1, 2]])"
      ]
     },
     "execution_count": 122,
     "metadata": {},
     "output_type": "execute_result"
    }
   ],
   "source": [
    "M5.T.T"
   ]
  },
  {
   "cell_type": "code",
   "execution_count": 123,
   "id": "cc2e1530-5ea0-494d-9520-c7cdbdb0b0ea",
   "metadata": {},
   "outputs": [
    {
     "data": {
      "text/plain": [
       "array([[14, 16,  2],\n",
       "       [10,  4, 18],\n",
       "       [ 0, 10, 20]])"
      ]
     },
     "execution_count": 123,
     "metadata": {},
     "output_type": "execute_result"
    }
   ],
   "source": [
    "M3 + M4"
   ]
  },
  {
   "cell_type": "code",
   "execution_count": 124,
   "id": "71290bc3-7310-4ef5-a9e4-f15837faac82",
   "metadata": {},
   "outputs": [
    {
     "data": {
      "text/plain": [
       "array([[14, 10,  0],\n",
       "       [16,  4, 10],\n",
       "       [ 2, 18, 20]])"
      ]
     },
     "execution_count": 124,
     "metadata": {},
     "output_type": "execute_result"
    }
   ],
   "source": [
    "(M3 + M4).T"
   ]
  },
  {
   "cell_type": "code",
   "execution_count": 125,
   "id": "04b63c8c-71be-4c4c-a61f-036fa5dea489",
   "metadata": {},
   "outputs": [
    {
     "data": {
      "text/plain": [
       "array([[14, 10,  0],\n",
       "       [16,  4, 10],\n",
       "       [ 2, 18, 20]])"
      ]
     },
     "execution_count": 125,
     "metadata": {},
     "output_type": "execute_result"
    }
   ],
   "source": [
    "M3.T + M4.T"
   ]
  },
  {
   "cell_type": "markdown",
   "id": "5525cc0b-b8a3-4145-b310-9654112a7019",
   "metadata": {},
   "source": [
    "##### Trace of Matrix"
   ]
  },
  {
   "cell_type": "code",
   "execution_count": 127,
   "id": "511634ec-7ee2-4666-836b-f52ac37c30bf",
   "metadata": {},
   "outputs": [
    {
     "data": {
      "text/plain": [
       "array([[ 7,  8,  1],\n",
       "       [ 5,  2,  9],\n",
       "       [ 0,  5, 10]])"
      ]
     },
     "execution_count": 127,
     "metadata": {},
     "output_type": "execute_result"
    }
   ],
   "source": [
    "M3"
   ]
  },
  {
   "cell_type": "code",
   "execution_count": 128,
   "id": "c3c0a90a-30a9-4789-a62f-e5e6d34c120e",
   "metadata": {},
   "outputs": [
    {
     "name": "stdout",
     "output_type": "stream",
     "text": [
      "[7 8 1]\n",
      "[5 2 9]\n",
      "[ 0  5 10]\n"
     ]
    }
   ],
   "source": [
    "for row in M3:\n",
    "    print(row)"
   ]
  },
  {
   "cell_type": "code",
   "execution_count": 129,
   "id": "53924b3b-e924-4161-94f7-f4a4a8544d41",
   "metadata": {},
   "outputs": [
    {
     "name": "stdout",
     "output_type": "stream",
     "text": [
      "7\n",
      "8\n",
      "1\n",
      "5\n",
      "2\n",
      "9\n",
      "0\n",
      "5\n",
      "10\n"
     ]
    }
   ],
   "source": [
    "for row in M3:\n",
    "    for val in row:\n",
    "        print(val)"
   ]
  },
  {
   "cell_type": "code",
   "execution_count": 131,
   "id": "87806088-1d29-4526-91e6-124bccafe8a5",
   "metadata": {},
   "outputs": [
    {
     "name": "stdout",
     "output_type": "stream",
     "text": [
      "7\n",
      "2\n",
      "10\n"
     ]
    }
   ],
   "source": [
    "add = 0\n",
    "rn = 0\n",
    "for row in M3:\n",
    "    print(row[rn])\n",
    "    add += row[rn]\n",
    "    rn += 1"
   ]
  },
  {
   "cell_type": "code",
   "execution_count": 132,
   "id": "32a0a5c5-a2d7-477f-96e0-0b15a6d235f7",
   "metadata": {},
   "outputs": [
    {
     "name": "stdout",
     "output_type": "stream",
     "text": [
      "19\n"
     ]
    }
   ],
   "source": [
    "print(add)"
   ]
  },
  {
   "cell_type": "code",
   "execution_count": 133,
   "id": "366cc3d5-0fc7-4029-88eb-131ac9c06e9a",
   "metadata": {},
   "outputs": [
    {
     "data": {
      "text/plain": [
       "19"
      ]
     },
     "execution_count": 133,
     "metadata": {},
     "output_type": "execute_result"
    }
   ],
   "source": [
    "np.trace(M3)"
   ]
  },
  {
   "cell_type": "code",
   "execution_count": 134,
   "id": "213b68d4-822f-4100-b501-fc1b485c6a33",
   "metadata": {},
   "outputs": [
    {
     "data": {
      "text/plain": [
       "19"
      ]
     },
     "execution_count": 134,
     "metadata": {},
     "output_type": "execute_result"
    }
   ],
   "source": [
    "M3.trace()"
   ]
  },
  {
   "cell_type": "code",
   "execution_count": 136,
   "id": "d551d3c7-c5ad-420a-8656-5a5048fd4348",
   "metadata": {},
   "outputs": [
    {
     "data": {
      "text/plain": [
       "array([[7, 3, 1],\n",
       "       [5, 2, 9],\n",
       "       [0, 5, 6],\n",
       "       [6, 1, 2]])"
      ]
     },
     "execution_count": 136,
     "metadata": {},
     "output_type": "execute_result"
    }
   ],
   "source": [
    "M5"
   ]
  },
  {
   "cell_type": "code",
   "execution_count": 137,
   "id": "37d6e5fc-99ee-43f1-bb8e-d5f91f9c3a23",
   "metadata": {},
   "outputs": [
    {
     "data": {
      "text/plain": [
       "15"
      ]
     },
     "execution_count": 137,
     "metadata": {},
     "output_type": "execute_result"
    }
   ],
   "source": [
    "M5.trace()"
   ]
  },
  {
   "cell_type": "code",
   "execution_count": 138,
   "id": "63d108fd-26ae-40ce-a43b-134a34ce0994",
   "metadata": {},
   "outputs": [
    {
     "data": {
      "text/plain": [
       "323"
      ]
     },
     "execution_count": 138,
     "metadata": {},
     "output_type": "execute_result"
    }
   ],
   "source": [
    "np.trace(M3 @ M4)"
   ]
  },
  {
   "cell_type": "code",
   "execution_count": 139,
   "id": "a98afcd9-c330-44c5-8fd4-2cd9985efa5a",
   "metadata": {},
   "outputs": [
    {
     "data": {
      "text/plain": [
       "323"
      ]
     },
     "execution_count": 139,
     "metadata": {},
     "output_type": "execute_result"
    }
   ],
   "source": [
    "np.trace(M4 @ M3)"
   ]
  },
  {
   "cell_type": "code",
   "execution_count": 140,
   "id": "1998b4dd-4be8-4f90-b40f-1986ad4cebbb",
   "metadata": {},
   "outputs": [
    {
     "data": {
      "text/plain": [
       "19"
      ]
     },
     "execution_count": 140,
     "metadata": {},
     "output_type": "execute_result"
    }
   ],
   "source": [
    "M3.T.trace()"
   ]
  },
  {
   "cell_type": "code",
   "execution_count": 141,
   "id": "e6d2c4e4-4cee-47cb-88f2-b1f460ea65a4",
   "metadata": {},
   "outputs": [
    {
     "data": {
      "text/plain": [
       "19"
      ]
     },
     "execution_count": 141,
     "metadata": {},
     "output_type": "execute_result"
    }
   ],
   "source": [
    "M3.trace()"
   ]
  },
  {
   "cell_type": "markdown",
   "id": "a339b9ba-d0e5-4b8d-a9b0-135969aeb93e",
   "metadata": {},
   "source": [
    "##### Determinant of Matrix"
   ]
  },
  {
   "cell_type": "code",
   "execution_count": 143,
   "id": "6379c000-4f7d-419b-bdc1-5877e2f2b953",
   "metadata": {},
   "outputs": [
    {
     "data": {
      "text/plain": [
       "array([[ 7,  8,  1],\n",
       "       [ 5,  2,  9],\n",
       "       [ 0,  5, 10]])"
      ]
     },
     "execution_count": 143,
     "metadata": {},
     "output_type": "execute_result"
    }
   ],
   "source": [
    "M3"
   ]
  },
  {
   "cell_type": "code",
   "execution_count": 144,
   "id": "48ed2adf-6e4c-4426-bcfd-9daf5159f379",
   "metadata": {},
   "outputs": [
    {
     "data": {
      "text/plain": [
       "-549.9999999999998"
      ]
     },
     "execution_count": 144,
     "metadata": {},
     "output_type": "execute_result"
    }
   ],
   "source": [
    "np.linalg.det(M3)"
   ]
  },
  {
   "cell_type": "code",
   "execution_count": 145,
   "id": "a3fd5f05-c5ff-4a23-9bd3-83b4cfa704fb",
   "metadata": {},
   "outputs": [
    {
     "data": {
      "text/plain": [
       "-550"
      ]
     },
     "execution_count": 145,
     "metadata": {},
     "output_type": "execute_result"
    }
   ],
   "source": [
    "7 * (2 * 10 - 9 * 5) - 8 * (5 * 10 - 9 * 0) + 1 * (5 * 5 - 2 * 0)"
   ]
  },
  {
   "cell_type": "markdown",
   "id": "77ee4546-0aee-4aca-8e80-70cfee43548c",
   "metadata": {},
   "source": [
    "##### Inverse of matrix"
   ]
  },
  {
   "cell_type": "code",
   "execution_count": 149,
   "id": "08841d72-966c-4d07-8760-e4b6d75a8be6",
   "metadata": {},
   "outputs": [
    {
     "data": {
      "text/plain": [
       "array([[ 7,  8,  1],\n",
       "       [ 5,  2,  9],\n",
       "       [ 0,  5, 10]])"
      ]
     },
     "execution_count": 149,
     "metadata": {},
     "output_type": "execute_result"
    }
   ],
   "source": [
    "M3"
   ]
  },
  {
   "cell_type": "code",
   "execution_count": 150,
   "id": "2c970a77-a5d3-4667-abbb-a0d80c2747c8",
   "metadata": {},
   "outputs": [
    {
     "data": {
      "text/plain": [
       "array([[ 0.04545455,  0.13636364, -0.12727273],\n",
       "       [ 0.09090909, -0.12727273,  0.10545455],\n",
       "       [-0.04545455,  0.06363636,  0.04727273]])"
      ]
     },
     "execution_count": 150,
     "metadata": {},
     "output_type": "execute_result"
    }
   ],
   "source": [
    "np.linalg.inv(M3)"
   ]
  },
  {
   "cell_type": "markdown",
   "id": "eafc7a71-0289-4956-b28e-ffeacd0f391d",
   "metadata": {},
   "source": [
    "##### Rank of matrix"
   ]
  },
  {
   "cell_type": "code",
   "execution_count": 154,
   "id": "405a9cdc-721e-4ba3-8c4c-49e4ff6f691f",
   "metadata": {},
   "outputs": [
    {
     "data": {
      "text/plain": [
       "array([[ 7,  8,  1],\n",
       "       [ 5,  2,  9],\n",
       "       [ 0,  5, 10]])"
      ]
     },
     "execution_count": 154,
     "metadata": {},
     "output_type": "execute_result"
    }
   ],
   "source": [
    "M3"
   ]
  },
  {
   "cell_type": "code",
   "execution_count": 155,
   "id": "99c4bfe0-c7dc-4c99-ba53-cd0df96e1110",
   "metadata": {},
   "outputs": [
    {
     "data": {
      "text/plain": [
       "3"
      ]
     },
     "execution_count": 155,
     "metadata": {},
     "output_type": "execute_result"
    }
   ],
   "source": [
    "np.linalg.matrix_rank(M3)"
   ]
  },
  {
   "cell_type": "code",
   "execution_count": 162,
   "id": "802b0803-5fa0-4d5b-b675-d7b857b04ea4",
   "metadata": {},
   "outputs": [],
   "source": [
    "M7 = np.array([[1,2,3],[6,2,9],[2,4,6]])"
   ]
  },
  {
   "cell_type": "code",
   "execution_count": 163,
   "id": "675cd2d1-335b-43e8-84dc-478bda3dc8ff",
   "metadata": {},
   "outputs": [
    {
     "data": {
      "text/plain": [
       "array([[1, 2, 3],\n",
       "       [6, 2, 9],\n",
       "       [2, 4, 6]])"
      ]
     },
     "execution_count": 163,
     "metadata": {},
     "output_type": "execute_result"
    }
   ],
   "source": [
    "M7"
   ]
  },
  {
   "cell_type": "code",
   "execution_count": 164,
   "id": "64ce0b95-4230-4369-a4b8-c1611b374941",
   "metadata": {},
   "outputs": [
    {
     "data": {
      "text/plain": [
       "2"
      ]
     },
     "execution_count": 164,
     "metadata": {},
     "output_type": "execute_result"
    }
   ],
   "source": [
    "np.linalg.matrix_rank(M7)"
   ]
  },
  {
   "cell_type": "code",
   "execution_count": 165,
   "id": "73eac61f-0d61-4b72-b6c4-69a3b602ba30",
   "metadata": {},
   "outputs": [],
   "source": [
    "M8 = np.array([[1,2,3],[3,6,9],[2,4,6]])"
   ]
  },
  {
   "cell_type": "code",
   "execution_count": 166,
   "id": "288d0b85-5bd4-42a3-8c56-05db67f830bc",
   "metadata": {},
   "outputs": [
    {
     "data": {
      "text/plain": [
       "1"
      ]
     },
     "execution_count": 166,
     "metadata": {},
     "output_type": "execute_result"
    }
   ],
   "source": [
    "np.linalg.matrix_rank(M8)"
   ]
  },
  {
   "cell_type": "code",
   "execution_count": 168,
   "id": "44723e8f-64d7-427d-84a5-6ea706a012c2",
   "metadata": {},
   "outputs": [
    {
     "data": {
      "text/plain": [
       "array([2, 4, 6])"
      ]
     },
     "execution_count": 168,
     "metadata": {},
     "output_type": "execute_result"
    }
   ],
   "source": [
    "M7[0] * 2"
   ]
  },
  {
   "cell_type": "code",
   "execution_count": 169,
   "id": "b45db694-e355-4f7d-bfee-990a976b7ab3",
   "metadata": {},
   "outputs": [
    {
     "data": {
      "text/plain": [
       "array([[1, 2, 3],\n",
       "       [3, 6, 9],\n",
       "       [2, 4, 6]])"
      ]
     },
     "execution_count": 169,
     "metadata": {},
     "output_type": "execute_result"
    }
   ],
   "source": [
    "M8"
   ]
  },
  {
   "cell_type": "code",
   "execution_count": 170,
   "id": "f99676c0-9c5e-4cb1-a0c4-d926653a190d",
   "metadata": {},
   "outputs": [
    {
     "data": {
      "text/plain": [
       "array([2, 4, 6])"
      ]
     },
     "execution_count": 170,
     "metadata": {},
     "output_type": "execute_result"
    }
   ],
   "source": [
    "M8[0] * 2"
   ]
  },
  {
   "cell_type": "code",
   "execution_count": 171,
   "id": "a6c0ed81-f620-47dc-b8e9-118482b9d62a",
   "metadata": {},
   "outputs": [
    {
     "data": {
      "text/plain": [
       "array([3, 6, 9])"
      ]
     },
     "execution_count": 171,
     "metadata": {},
     "output_type": "execute_result"
    }
   ],
   "source": [
    "M8[0] * 3"
   ]
  },
  {
   "cell_type": "markdown",
   "id": "179f6ace-6b0b-4992-b886-8258d2ec897a",
   "metadata": {},
   "source": [
    "#### Types of Matrices"
   ]
  },
  {
   "cell_type": "markdown",
   "id": "0d6bf8d9-b593-4130-bbf7-d078a1d7a19a",
   "metadata": {},
   "source": [
    "##### Row Matrix"
   ]
  },
  {
   "cell_type": "code",
   "execution_count": 7,
   "id": "f1673015-959c-4270-be89-ab99355d3b90",
   "metadata": {},
   "outputs": [],
   "source": [
    "R = np.array([[4,7,4,2,7,8]])"
   ]
  },
  {
   "cell_type": "code",
   "execution_count": 8,
   "id": "aba4e7ac-1905-4b15-bd2c-04610bf643a1",
   "metadata": {},
   "outputs": [
    {
     "data": {
      "text/plain": [
       "array([[4, 7, 4, 2, 7, 8]])"
      ]
     },
     "execution_count": 8,
     "metadata": {},
     "output_type": "execute_result"
    }
   ],
   "source": [
    "R"
   ]
  },
  {
   "cell_type": "code",
   "execution_count": 9,
   "id": "7c9d31c1-f3c5-42e4-80c6-31dada49bb06",
   "metadata": {},
   "outputs": [
    {
     "data": {
      "text/plain": [
       "(1, 6)"
      ]
     },
     "execution_count": 9,
     "metadata": {},
     "output_type": "execute_result"
    }
   ],
   "source": [
    "R.shape"
   ]
  },
  {
   "cell_type": "code",
   "execution_count": 10,
   "id": "99e42bd4-2671-4394-ad79-25a04b15dee6",
   "metadata": {},
   "outputs": [
    {
     "data": {
      "text/plain": [
       "array([[4, 7],\n",
       "       [4, 2],\n",
       "       [7, 8]])"
      ]
     },
     "execution_count": 10,
     "metadata": {},
     "output_type": "execute_result"
    }
   ],
   "source": [
    "R.reshape(3,2)"
   ]
  },
  {
   "cell_type": "markdown",
   "id": "0e7b1f88-e77e-4205-971f-c613e861e1c4",
   "metadata": {},
   "source": [
    "##### Column Matrix"
   ]
  },
  {
   "cell_type": "code",
   "execution_count": 15,
   "id": "372a5ad3-0844-406e-adc1-4aa3847cfb70",
   "metadata": {},
   "outputs": [],
   "source": [
    "C = np.array([[4],[7],[4],[2],[7],[8]])"
   ]
  },
  {
   "cell_type": "code",
   "execution_count": 16,
   "id": "a00a062c-fe37-454a-b8a9-85f58b60c1d0",
   "metadata": {},
   "outputs": [
    {
     "data": {
      "text/plain": [
       "array([[4],\n",
       "       [7],\n",
       "       [4],\n",
       "       [2],\n",
       "       [7],\n",
       "       [8]])"
      ]
     },
     "execution_count": 16,
     "metadata": {},
     "output_type": "execute_result"
    }
   ],
   "source": [
    "C"
   ]
  },
  {
   "cell_type": "code",
   "execution_count": 17,
   "id": "ae1ba438-c129-4443-9c48-6dbfa46145f1",
   "metadata": {},
   "outputs": [
    {
     "data": {
      "text/plain": [
       "(6, 1)"
      ]
     },
     "execution_count": 17,
     "metadata": {},
     "output_type": "execute_result"
    }
   ],
   "source": [
    "C.shape"
   ]
  },
  {
   "cell_type": "code",
   "execution_count": 18,
   "id": "9548e2ac-2558-4e8f-ab12-05d81a020405",
   "metadata": {},
   "outputs": [
    {
     "data": {
      "text/plain": [
       "array([[4, 7],\n",
       "       [4, 2],\n",
       "       [7, 8]])"
      ]
     },
     "execution_count": 18,
     "metadata": {},
     "output_type": "execute_result"
    }
   ],
   "source": [
    "C.reshape(3,2)"
   ]
  },
  {
   "cell_type": "code",
   "execution_count": 19,
   "id": "c7a74a25-2c27-4fd8-9c66-7711063bba3b",
   "metadata": {},
   "outputs": [
    {
     "data": {
      "text/plain": [
       "array([[4, 7, 4, 2, 7, 8]])"
      ]
     },
     "execution_count": 19,
     "metadata": {},
     "output_type": "execute_result"
    }
   ],
   "source": [
    "C.reshape(1,6)"
   ]
  },
  {
   "cell_type": "code",
   "execution_count": 21,
   "id": "7604e2db-3cf6-4ca7-aadc-427522a836fc",
   "metadata": {},
   "outputs": [
    {
     "data": {
      "text/plain": [
       "array([[4],\n",
       "       [7],\n",
       "       [4],\n",
       "       [2],\n",
       "       [7],\n",
       "       [8]])"
      ]
     },
     "execution_count": 21,
     "metadata": {},
     "output_type": "execute_result"
    }
   ],
   "source": [
    "R.reshape(6,1)"
   ]
  },
  {
   "cell_type": "code",
   "execution_count": 22,
   "id": "51e52d58-3d35-46ff-9ada-b4007572ae60",
   "metadata": {},
   "outputs": [
    {
     "data": {
      "text/plain": [
       "array([[4, 7, 4, 2, 7, 8]])"
      ]
     },
     "execution_count": 22,
     "metadata": {},
     "output_type": "execute_result"
    }
   ],
   "source": [
    "C.T"
   ]
  },
  {
   "cell_type": "code",
   "execution_count": 23,
   "id": "71e20f72-8d68-4e8d-9139-3205d229dcd8",
   "metadata": {},
   "outputs": [
    {
     "data": {
      "text/plain": [
       "array([[4],\n",
       "       [7],\n",
       "       [4],\n",
       "       [2],\n",
       "       [7],\n",
       "       [8]])"
      ]
     },
     "execution_count": 23,
     "metadata": {},
     "output_type": "execute_result"
    }
   ],
   "source": [
    "R.T"
   ]
  },
  {
   "cell_type": "markdown",
   "id": "a2827b3b-5e51-4726-80c7-82d5c66ab1ea",
   "metadata": {},
   "source": [
    "##### Square Matrix"
   ]
  },
  {
   "cell_type": "code",
   "execution_count": 26,
   "id": "21a3f03f-8ecc-4ffd-9cef-7abeeec906e1",
   "metadata": {},
   "outputs": [],
   "source": [
    "M1 = np.array([[5,6,7],[2,8,9],[2,1,4]])"
   ]
  },
  {
   "cell_type": "code",
   "execution_count": 27,
   "id": "3eee6380-fb92-47b7-ad7d-c834de8eb839",
   "metadata": {},
   "outputs": [
    {
     "data": {
      "text/plain": [
       "array([[5, 6, 7],\n",
       "       [2, 8, 9],\n",
       "       [2, 1, 4]])"
      ]
     },
     "execution_count": 27,
     "metadata": {},
     "output_type": "execute_result"
    }
   ],
   "source": [
    "M1"
   ]
  },
  {
   "cell_type": "code",
   "execution_count": 28,
   "id": "e3a1f40e-f572-415b-b433-20f9fa91ab34",
   "metadata": {},
   "outputs": [],
   "source": [
    "def isSquareMatrix(M):\n",
    "    if M.shape[0] == M.shape[1]:\n",
    "        return True\n",
    "    else:\n",
    "        return False"
   ]
  },
  {
   "cell_type": "code",
   "execution_count": 29,
   "id": "1c19bc35-d0e0-4953-afbc-2913fe17f201",
   "metadata": {},
   "outputs": [
    {
     "data": {
      "text/plain": [
       "True"
      ]
     },
     "execution_count": 29,
     "metadata": {},
     "output_type": "execute_result"
    }
   ],
   "source": [
    "isSquareMatrix(M1)"
   ]
  },
  {
   "cell_type": "code",
   "execution_count": 30,
   "id": "cf2798ff-b473-45d4-8b2d-18e16e7c0d33",
   "metadata": {},
   "outputs": [
    {
     "data": {
      "text/plain": [
       "False"
      ]
     },
     "execution_count": 30,
     "metadata": {},
     "output_type": "execute_result"
    }
   ],
   "source": [
    "isSquareMatrix(R)"
   ]
  },
  {
   "cell_type": "markdown",
   "id": "c301aafc-bdd8-465a-b31a-62772afdb634",
   "metadata": {},
   "source": [
    "##### Rectangular Matrix"
   ]
  },
  {
   "cell_type": "code",
   "execution_count": 32,
   "id": "8eecb7e2-2dea-44f7-b281-192dcea015e2",
   "metadata": {},
   "outputs": [],
   "source": [
    "M2 = np.array([[5,6,7],[2,8,9]])"
   ]
  },
  {
   "cell_type": "code",
   "execution_count": 33,
   "id": "acb975fd-fe73-43d6-bd00-448fb2c59191",
   "metadata": {},
   "outputs": [
    {
     "data": {
      "text/plain": [
       "array([[5, 6, 7],\n",
       "       [2, 8, 9]])"
      ]
     },
     "execution_count": 33,
     "metadata": {},
     "output_type": "execute_result"
    }
   ],
   "source": [
    "M2"
   ]
  },
  {
   "cell_type": "code",
   "execution_count": 34,
   "id": "051e55d6-9eca-4e4f-8f07-e2c499d2c62a",
   "metadata": {},
   "outputs": [],
   "source": [
    "def isRectangularMatrix(M):\n",
    "    if M.shape[0] == M.shape[1]:\n",
    "        return False\n",
    "    else:\n",
    "        return True"
   ]
  },
  {
   "cell_type": "code",
   "execution_count": 35,
   "id": "a8d6712b-285c-4de4-b3c3-6e81aad4502d",
   "metadata": {},
   "outputs": [
    {
     "data": {
      "text/plain": [
       "True"
      ]
     },
     "execution_count": 35,
     "metadata": {},
     "output_type": "execute_result"
    }
   ],
   "source": [
    "isRectangularMatrix(M2)"
   ]
  },
  {
   "cell_type": "code",
   "execution_count": 36,
   "id": "54710de5-a5d5-4ecb-8067-7adb47ecc2df",
   "metadata": {},
   "outputs": [
    {
     "data": {
      "text/plain": [
       "False"
      ]
     },
     "execution_count": 36,
     "metadata": {},
     "output_type": "execute_result"
    }
   ],
   "source": [
    "isRectangularMatrix(M1)"
   ]
  },
  {
   "cell_type": "code",
   "execution_count": 37,
   "id": "0e47350c-c991-41e2-848e-f196e58ef696",
   "metadata": {},
   "outputs": [
    {
     "data": {
      "text/plain": [
       "(3, 3)"
      ]
     },
     "execution_count": 37,
     "metadata": {},
     "output_type": "execute_result"
    }
   ],
   "source": [
    "M1.shape"
   ]
  },
  {
   "cell_type": "code",
   "execution_count": 38,
   "id": "2ac38364-dab7-49ae-ad23-b1d4a0dcf54a",
   "metadata": {},
   "outputs": [
    {
     "data": {
      "text/plain": [
       "array([5, 6, 7])"
      ]
     },
     "execution_count": 38,
     "metadata": {},
     "output_type": "execute_result"
    }
   ],
   "source": [
    "M1[0]"
   ]
  },
  {
   "cell_type": "code",
   "execution_count": 41,
   "id": "25dc03ec-0b03-415c-88e4-224b8c08c765",
   "metadata": {},
   "outputs": [],
   "source": [
    "M3 = np.zeros([4,4], dtype=np.int8)"
   ]
  },
  {
   "cell_type": "code",
   "execution_count": 42,
   "id": "8fae2188-6c43-47f8-a781-c8d4153223ff",
   "metadata": {},
   "outputs": [
    {
     "data": {
      "text/plain": [
       "array([[0, 0, 0, 0],\n",
       "       [0, 0, 0, 0],\n",
       "       [0, 0, 0, 0],\n",
       "       [0, 0, 0, 0]], dtype=int8)"
      ]
     },
     "execution_count": 42,
     "metadata": {},
     "output_type": "execute_result"
    }
   ],
   "source": [
    "M3"
   ]
  },
  {
   "cell_type": "code",
   "execution_count": 43,
   "id": "6c714d91-fd20-48b9-8be8-e8f7fad46c59",
   "metadata": {},
   "outputs": [],
   "source": [
    "M3 = M3 + 4"
   ]
  },
  {
   "cell_type": "code",
   "execution_count": 44,
   "id": "f8b6ca94-d289-4a2e-b5c6-0bb401cfe214",
   "metadata": {},
   "outputs": [
    {
     "data": {
      "text/plain": [
       "array([[4, 4, 4, 4],\n",
       "       [4, 4, 4, 4],\n",
       "       [4, 4, 4, 4],\n",
       "       [4, 4, 4, 4]], dtype=int8)"
      ]
     },
     "execution_count": 44,
     "metadata": {},
     "output_type": "execute_result"
    }
   ],
   "source": [
    "M3"
   ]
  },
  {
   "cell_type": "markdown",
   "id": "57435806-c741-40cd-bedd-f2f2f5d07680",
   "metadata": {},
   "source": [
    "##### Diagonal Matrix"
   ]
  },
  {
   "cell_type": "code",
   "execution_count": 48,
   "id": "a28a3f7e-6525-4f30-adc0-3b0bb45f8f1a",
   "metadata": {},
   "outputs": [],
   "source": [
    "D = np.array([[1,0,0],[0,8,0],[0,0,9]])"
   ]
  },
  {
   "cell_type": "code",
   "execution_count": 49,
   "id": "57822401-07da-49de-88b7-27bb53c416c5",
   "metadata": {},
   "outputs": [
    {
     "data": {
      "text/plain": [
       "array([[1, 0, 0],\n",
       "       [0, 8, 0],\n",
       "       [0, 0, 9]])"
      ]
     },
     "execution_count": 49,
     "metadata": {},
     "output_type": "execute_result"
    }
   ],
   "source": [
    "D"
   ]
  },
  {
   "cell_type": "code",
   "execution_count": 50,
   "id": "1ddd1012-b66a-46d8-8ec7-732c05d63997",
   "metadata": {},
   "outputs": [],
   "source": [
    "D = np.zeros([4,4], dtype=np.int8)"
   ]
  },
  {
   "cell_type": "code",
   "execution_count": 51,
   "id": "9ad1894f-7071-48fb-9089-d95832ceae27",
   "metadata": {},
   "outputs": [
    {
     "data": {
      "text/plain": [
       "array([[0, 0, 0, 0],\n",
       "       [0, 0, 0, 0],\n",
       "       [0, 0, 0, 0],\n",
       "       [0, 0, 0, 0]], dtype=int8)"
      ]
     },
     "execution_count": 51,
     "metadata": {},
     "output_type": "execute_result"
    }
   ],
   "source": [
    "D"
   ]
  },
  {
   "cell_type": "code",
   "execution_count": 52,
   "id": "eeeffc4c-2d41-47b6-a454-f3dc4ef563fb",
   "metadata": {},
   "outputs": [],
   "source": [
    "for i in range(4):\n",
    "    D[i][i] = 6"
   ]
  },
  {
   "cell_type": "code",
   "execution_count": 53,
   "id": "b487dd28-c131-43a7-9cad-bd2d38d71c91",
   "metadata": {},
   "outputs": [
    {
     "data": {
      "text/plain": [
       "array([[6, 0, 0, 0],\n",
       "       [0, 6, 0, 0],\n",
       "       [0, 0, 6, 0],\n",
       "       [0, 0, 0, 6]], dtype=int8)"
      ]
     },
     "execution_count": 53,
     "metadata": {},
     "output_type": "execute_result"
    }
   ],
   "source": [
    "D"
   ]
  },
  {
   "cell_type": "code",
   "execution_count": 59,
   "id": "ef6eaaac-1e88-405c-90e4-0afe1a44572d",
   "metadata": {},
   "outputs": [],
   "source": [
    "def isDiagonalMatrix(M):\n",
    "    for i in range(M.shape[0]):\n",
    "        for j in range(M.shape[1]):\n",
    "            if i != j and M[i][j] != 0:\n",
    "                return False\n",
    "    return True"
   ]
  },
  {
   "cell_type": "code",
   "execution_count": 60,
   "id": "99366235-fdbc-4851-8fa0-6524da42f296",
   "metadata": {},
   "outputs": [
    {
     "data": {
      "text/plain": [
       "True"
      ]
     },
     "execution_count": 60,
     "metadata": {},
     "output_type": "execute_result"
    }
   ],
   "source": [
    "isDiagonalMatrix(D)"
   ]
  },
  {
   "cell_type": "code",
   "execution_count": 62,
   "id": "729c85f8-202e-4a14-a747-3d6f350ccb53",
   "metadata": {},
   "outputs": [
    {
     "data": {
      "text/plain": [
       "False"
      ]
     },
     "execution_count": 62,
     "metadata": {},
     "output_type": "execute_result"
    }
   ],
   "source": [
    "isDiagonalMatrix(M1)"
   ]
  },
  {
   "cell_type": "markdown",
   "id": "d1277b62-b463-48b4-9f9f-55ecc0c73c4b",
   "metadata": {},
   "source": [
    "##### Identity Matrix"
   ]
  },
  {
   "cell_type": "code",
   "execution_count": 64,
   "id": "350ad0a6-3f9b-4cbd-92c1-c89b1169b512",
   "metadata": {},
   "outputs": [],
   "source": [
    "I = np.zeros([4,4], dtype=np.int8)"
   ]
  },
  {
   "cell_type": "code",
   "execution_count": 65,
   "id": "5074099f-6edf-4989-80f2-17b7cb9ae6f1",
   "metadata": {},
   "outputs": [
    {
     "data": {
      "text/plain": [
       "array([[0, 0, 0, 0],\n",
       "       [0, 0, 0, 0],\n",
       "       [0, 0, 0, 0],\n",
       "       [0, 0, 0, 0]], dtype=int8)"
      ]
     },
     "execution_count": 65,
     "metadata": {},
     "output_type": "execute_result"
    }
   ],
   "source": [
    "I"
   ]
  },
  {
   "cell_type": "code",
   "execution_count": 66,
   "id": "c1ca70f7-6380-41ba-abde-5f3dc982b91c",
   "metadata": {},
   "outputs": [],
   "source": [
    "for i in range(4):\n",
    "    I[i][i] = 1"
   ]
  },
  {
   "cell_type": "code",
   "execution_count": 67,
   "id": "018f422d-f5eb-406d-89b1-fc58bd996a2e",
   "metadata": {},
   "outputs": [
    {
     "data": {
      "text/plain": [
       "array([[1, 0, 0, 0],\n",
       "       [0, 1, 0, 0],\n",
       "       [0, 0, 1, 0],\n",
       "       [0, 0, 0, 1]], dtype=int8)"
      ]
     },
     "execution_count": 67,
     "metadata": {},
     "output_type": "execute_result"
    }
   ],
   "source": [
    "I"
   ]
  },
  {
   "cell_type": "code",
   "execution_count": 68,
   "id": "5e38ad84-7428-4189-bac3-f5cb5d69e820",
   "metadata": {},
   "outputs": [
    {
     "data": {
      "text/plain": [
       "array([1, 1, 1, 1], dtype=int8)"
      ]
     },
     "execution_count": 68,
     "metadata": {},
     "output_type": "execute_result"
    }
   ],
   "source": [
    "I.diagonal()"
   ]
  },
  {
   "cell_type": "code",
   "execution_count": 69,
   "id": "c0ff6779-a76e-4dbf-b0e1-040bd1c7c62d",
   "metadata": {},
   "outputs": [
    {
     "data": {
      "text/plain": [
       "array([1, 1, 1, 1], dtype=int8)"
      ]
     },
     "execution_count": 69,
     "metadata": {},
     "output_type": "execute_result"
    }
   ],
   "source": [
    "np.diag(I)"
   ]
  },
  {
   "cell_type": "markdown",
   "id": "a3fa9fd7-8f6e-4821-9f60-173993fa5d68",
   "metadata": {},
   "source": [
    "##### Symmetric Matrix"
   ]
  },
  {
   "cell_type": "code",
   "execution_count": 71,
   "id": "7d744e62-c45f-43a1-859a-4a594824d52e",
   "metadata": {},
   "outputs": [],
   "source": [
    "S1 = np.array([[2,3,6],[3,4,5],[6,5,9]])"
   ]
  },
  {
   "cell_type": "code",
   "execution_count": 72,
   "id": "6608b60a-989e-4378-9e78-36e02525e492",
   "metadata": {},
   "outputs": [
    {
     "data": {
      "text/plain": [
       "array([[2, 3, 6],\n",
       "       [3, 4, 5],\n",
       "       [6, 5, 9]])"
      ]
     },
     "execution_count": 72,
     "metadata": {},
     "output_type": "execute_result"
    }
   ],
   "source": [
    "S1"
   ]
  },
  {
   "cell_type": "code",
   "execution_count": 73,
   "id": "ccc1647a-76aa-484a-8b53-7b3dd6604891",
   "metadata": {},
   "outputs": [
    {
     "data": {
      "text/plain": [
       "array([[2, 3, 6],\n",
       "       [3, 4, 5],\n",
       "       [6, 5, 9]])"
      ]
     },
     "execution_count": 73,
     "metadata": {},
     "output_type": "execute_result"
    }
   ],
   "source": [
    "S1.T"
   ]
  },
  {
   "cell_type": "code",
   "execution_count": 75,
   "id": "1f05749d-8e90-4387-b3aa-75abffe93f10",
   "metadata": {},
   "outputs": [
    {
     "data": {
      "text/plain": [
       "array([[ True,  True,  True],\n",
       "       [ True,  True,  True],\n",
       "       [ True,  True,  True]])"
      ]
     },
     "execution_count": 75,
     "metadata": {},
     "output_type": "execute_result"
    }
   ],
   "source": [
    "S1 == S1.T"
   ]
  },
  {
   "cell_type": "code",
   "execution_count": 76,
   "id": "c1560f4b-e2a3-4b7e-9fb0-5832f3d82125",
   "metadata": {},
   "outputs": [
    {
     "data": {
      "text/plain": [
       "9"
      ]
     },
     "execution_count": 76,
     "metadata": {},
     "output_type": "execute_result"
    }
   ],
   "source": [
    "(S1 == S1.T).sum()"
   ]
  },
  {
   "cell_type": "code",
   "execution_count": 77,
   "id": "e4d4de54-3893-4a30-811c-3447d6c08d1c",
   "metadata": {},
   "outputs": [
    {
     "data": {
      "text/plain": [
       "9"
      ]
     },
     "execution_count": 77,
     "metadata": {},
     "output_type": "execute_result"
    }
   ],
   "source": [
    "S1.size"
   ]
  },
  {
   "cell_type": "code",
   "execution_count": 78,
   "id": "0c333cac-d217-4a6b-b638-5ed90e7201e8",
   "metadata": {},
   "outputs": [],
   "source": [
    "def isSymmetricMatrix(M):\n",
    "    if (M == M.T).sum() == M.size:\n",
    "        return True\n",
    "    else:\n",
    "        return False"
   ]
  },
  {
   "cell_type": "code",
   "execution_count": 79,
   "id": "a5caff4d-5aee-42a9-8d1d-0f9a97858fcb",
   "metadata": {},
   "outputs": [
    {
     "data": {
      "text/plain": [
       "True"
      ]
     },
     "execution_count": 79,
     "metadata": {},
     "output_type": "execute_result"
    }
   ],
   "source": [
    "isSymmetricMatrix(S1)"
   ]
  },
  {
   "cell_type": "code",
   "execution_count": 80,
   "id": "e6df4f08-ee17-412e-a6bd-0ecf401abdbb",
   "metadata": {},
   "outputs": [
    {
     "data": {
      "text/plain": [
       "False"
      ]
     },
     "execution_count": 80,
     "metadata": {},
     "output_type": "execute_result"
    }
   ],
   "source": [
    "isSymmetricMatrix(M1)"
   ]
  },
  {
   "cell_type": "markdown",
   "id": "b75124c0-745a-440a-9961-a25bd371b570",
   "metadata": {},
   "source": [
    "##### Skew-Symmetric Matrix"
   ]
  },
  {
   "cell_type": "code",
   "execution_count": 83,
   "id": "ed574895-7bc2-40bf-a927-d25cbb6f78e5",
   "metadata": {},
   "outputs": [],
   "source": [
    "S2 = np.array([[0, 3],[-3, 0]])"
   ]
  },
  {
   "cell_type": "code",
   "execution_count": 84,
   "id": "feb5b0a1-8352-4ae3-bc86-51d836768ecd",
   "metadata": {},
   "outputs": [
    {
     "data": {
      "text/plain": [
       "array([[ 0,  3],\n",
       "       [-3,  0]])"
      ]
     },
     "execution_count": 84,
     "metadata": {},
     "output_type": "execute_result"
    }
   ],
   "source": [
    "S2"
   ]
  },
  {
   "cell_type": "code",
   "execution_count": 85,
   "id": "2b433ed6-86b3-40be-ba61-f89171ac4e0b",
   "metadata": {},
   "outputs": [
    {
     "data": {
      "text/plain": [
       "array([[ 0, -3],\n",
       "       [ 3,  0]])"
      ]
     },
     "execution_count": 85,
     "metadata": {},
     "output_type": "execute_result"
    }
   ],
   "source": [
    "S2.T"
   ]
  },
  {
   "cell_type": "code",
   "execution_count": 86,
   "id": "86ef844b-6423-4ded-a51a-fcc5b1e48bae",
   "metadata": {},
   "outputs": [
    {
     "data": {
      "text/plain": [
       "array([[ 0, -3],\n",
       "       [ 3,  0]])"
      ]
     },
     "execution_count": 86,
     "metadata": {},
     "output_type": "execute_result"
    }
   ],
   "source": [
    "-S2"
   ]
  },
  {
   "cell_type": "markdown",
   "id": "58ad74ea-11af-4357-ac4f-c83ac1511f4b",
   "metadata": {},
   "source": [
    "#### Eigenvector and Eigenvalues"
   ]
  },
  {
   "cell_type": "code",
   "execution_count": 88,
   "id": "6e787050-4fa4-4cf6-afa7-949fab63c464",
   "metadata": {},
   "outputs": [],
   "source": [
    "# Define a matrix\n",
    "A = np.array([[-6, 3], [4, 5]])"
   ]
  },
  {
   "cell_type": "code",
   "execution_count": 89,
   "id": "64980e96-92fa-4fae-9afe-bac2d187af84",
   "metadata": {},
   "outputs": [
    {
     "data": {
      "text/plain": [
       "array([[-6,  3],\n",
       "       [ 4,  5]])"
      ]
     },
     "execution_count": 89,
     "metadata": {},
     "output_type": "execute_result"
    }
   ],
   "source": [
    "A"
   ]
  },
  {
   "cell_type": "code",
   "execution_count": 93,
   "id": "252cf84a-6b85-4c53-af19-f0efbdf16984",
   "metadata": {},
   "outputs": [],
   "source": [
    "# calculate eigenvector and eigenvalues\n",
    "eval, evect = np.linalg.eig(A)"
   ]
  },
  {
   "cell_type": "code",
   "execution_count": 94,
   "id": "800b411e-da48-480e-bbb2-1a173b00dbc0",
   "metadata": {},
   "outputs": [
    {
     "data": {
      "text/plain": [
       "array([[-0.9486833 , -0.24253563],\n",
       "       [ 0.31622777, -0.9701425 ]])"
      ]
     },
     "execution_count": 94,
     "metadata": {},
     "output_type": "execute_result"
    }
   ],
   "source": [
    "evect"
   ]
  },
  {
   "cell_type": "code",
   "execution_count": 95,
   "id": "fd485471-2101-45b4-99de-d28b4fcee3cb",
   "metadata": {},
   "outputs": [
    {
     "data": {
      "text/plain": [
       "array([-7.,  6.])"
      ]
     },
     "execution_count": 95,
     "metadata": {},
     "output_type": "execute_result"
    }
   ],
   "source": [
    "eval"
   ]
  },
  {
   "cell_type": "code",
   "execution_count": 96,
   "id": "3f8ce445-1cce-41e0-a8c9-7ba39f76152b",
   "metadata": {},
   "outputs": [
    {
     "data": {
      "text/plain": [
       "array([[ 6.64078309, -1.45521375],\n",
       "       [-2.21359436, -5.820855  ]])"
      ]
     },
     "execution_count": 96,
     "metadata": {},
     "output_type": "execute_result"
    }
   ],
   "source": [
    "A @ evect"
   ]
  },
  {
   "cell_type": "code",
   "execution_count": 98,
   "id": "e5797c36-e136-461f-b0d3-938443adcb68",
   "metadata": {},
   "outputs": [
    {
     "data": {
      "text/plain": [
       "array([[ 6.64078309, -1.45521375],\n",
       "       [-2.21359436, -5.820855  ]])"
      ]
     },
     "execution_count": 98,
     "metadata": {},
     "output_type": "execute_result"
    }
   ],
   "source": [
    "eval * evect"
   ]
  },
  {
   "cell_type": "code",
   "execution_count": null,
   "id": "fc9b8a54-d043-4462-a0e0-3f5065e127de",
   "metadata": {},
   "outputs": [],
   "source": [
    "# break"
   ]
  }
 ],
 "metadata": {
  "kernelspec": {
   "display_name": "Python 3 (ipykernel)",
   "language": "python",
   "name": "python3"
  },
  "language_info": {
   "codemirror_mode": {
    "name": "ipython",
    "version": 3
   },
   "file_extension": ".py",
   "mimetype": "text/x-python",
   "name": "python",
   "nbconvert_exporter": "python",
   "pygments_lexer": "ipython3",
   "version": "3.10.12"
  }
 },
 "nbformat": 4,
 "nbformat_minor": 5
}
