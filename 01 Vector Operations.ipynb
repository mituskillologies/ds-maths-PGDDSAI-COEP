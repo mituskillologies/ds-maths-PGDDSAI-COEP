{
 "cells": [
  {
   "cell_type": "code",
   "execution_count": 1,
   "id": "c5fabe58-22c6-453f-81a7-4f3e94a14cec",
   "metadata": {},
   "outputs": [],
   "source": [
    "import numpy as np"
   ]
  },
  {
   "cell_type": "code",
   "execution_count": 2,
   "id": "697e53ac-8601-4d1e-8596-df51bfc9850b",
   "metadata": {},
   "outputs": [],
   "source": [
    "# create a vector\n",
    "v1 = np.arange(10)"
   ]
  },
  {
   "cell_type": "code",
   "execution_count": 3,
   "id": "1b47ef1b-800a-408f-b41b-88dd096806e4",
   "metadata": {},
   "outputs": [
    {
     "data": {
      "text/plain": [
       "array([0, 1, 2, 3, 4, 5, 6, 7, 8, 9])"
      ]
     },
     "execution_count": 3,
     "metadata": {},
     "output_type": "execute_result"
    }
   ],
   "source": [
    "v1"
   ]
  },
  {
   "cell_type": "code",
   "execution_count": 4,
   "id": "eacb3ee0-f808-4908-a62b-3bdeba1fafd1",
   "metadata": {},
   "outputs": [],
   "source": [
    "import matplotlib.pyplot as plt"
   ]
  },
  {
   "cell_type": "code",
   "execution_count": 5,
   "id": "6c307245-dd77-4384-bc76-e56cf305c017",
   "metadata": {},
   "outputs": [
    {
     "data": {
      "text/plain": [
       "[<matplotlib.lines.Line2D at 0x7ad5d822b0d0>]"
      ]
     },
     "execution_count": 5,
     "metadata": {},
     "output_type": "execute_result"
    },
    {
     "data": {
      "image/png": "[encoded data removed]",
      "text/plain": [
       "<Figure size 640x480 with 1 Axes>"
      ]
     },
     "metadata": {},
     "output_type": "display_data"
    }
   ],
   "source": [
    "plt.plot(v1)"
   ]
  },
  {
   "cell_type": "code",
   "execution_count": 6,
   "id": "ba152db9-15aa-4cb4-924a-1f6a93cb334e",
   "metadata": {},
   "outputs": [
    {
     "data": {
      "text/plain": [
       "numpy.ndarray"
      ]
     },
     "execution_count": 6,
     "metadata": {},
     "output_type": "execute_result"
    }
   ],
   "source": [
    "type(v1)"
   ]
  },
  {
   "cell_type": "code",
   "execution_count": 7,
   "id": "a4c62483-129d-4370-acb2-5d7c35a187a7",
   "metadata": {},
   "outputs": [
    {
     "data": {
      "text/plain": [
       "dtype('int64')"
      ]
     },
     "execution_count": 7,
     "metadata": {},
     "output_type": "execute_result"
    }
   ],
   "source": [
    "v1.dtype"
   ]
  },
  {
   "cell_type": "code",
   "execution_count": 8,
   "id": "9349139e-58d3-4a8a-a8f1-f5a6ac556286",
   "metadata": {},
   "outputs": [
    {
     "name": "stdout",
     "output_type": "stream",
     "text": [
      "[0 1 2 3 4 5 6 7 8 9]\n"
     ]
    }
   ],
   "source": [
    "print(v1)"
   ]
  },
  {
   "cell_type": "code",
   "execution_count": 9,
   "id": "f6b1ea68-8a01-4393-895a-bcd7a238b7d5",
   "metadata": {},
   "outputs": [],
   "source": [
    "x = 578687565654567987679876523456780987654458977653645786"
   ]
  },
  {
   "cell_type": "code",
   "execution_count": 10,
   "id": "9364ddac-214f-47d1-a833-7eb425eb6202",
   "metadata": {},
   "outputs": [
    {
     "data": {
      "text/plain": [
       "578687565654567987679876523456780987654458977653645786"
      ]
     },
     "execution_count": 10,
     "metadata": {},
     "output_type": "execute_result"
    }
   ],
   "source": [
    "x"
   ]
  },
  {
   "cell_type": "code",
   "execution_count": 11,
   "id": "fa369c23-362f-4e6e-898b-0e4dd7f752b8",
   "metadata": {},
   "outputs": [],
   "source": [
    "arr1 = np.array([5,6,4,3,1,8,9])"
   ]
  },
  {
   "cell_type": "code",
   "execution_count": 12,
   "id": "a94b8226-a37d-40fd-9e9a-039ee906d641",
   "metadata": {},
   "outputs": [
    {
     "data": {
      "text/plain": [
       "dtype('int64')"
      ]
     },
     "execution_count": 12,
     "metadata": {},
     "output_type": "execute_result"
    }
   ],
   "source": [
    "arr1.dtype"
   ]
  },
  {
   "cell_type": "code",
   "execution_count": 13,
   "id": "60c2f95b-bac8-4dad-a312-a5342221a281",
   "metadata": {},
   "outputs": [],
   "source": [
    "arr1 = np.array([5,6,4,3,1,8,9], dtype=np.int16)"
   ]
  },
  {
   "cell_type": "code",
   "execution_count": 14,
   "id": "6c03b8d2-8177-49b5-af1a-7f625eba84a7",
   "metadata": {},
   "outputs": [
    {
     "data": {
      "text/plain": [
       "array([5, 6, 4, 3, 1, 8, 9], dtype=int16)"
      ]
     },
     "execution_count": 14,
     "metadata": {},
     "output_type": "execute_result"
    }
   ],
   "source": [
    "arr1"
   ]
  },
  {
   "cell_type": "code",
   "execution_count": 15,
   "id": "7d23b7ee-36b3-497a-beab-b13497ad72f1",
   "metadata": {},
   "outputs": [
    {
     "data": {
      "text/plain": [
       "'0b101'"
      ]
     },
     "execution_count": 15,
     "metadata": {},
     "output_type": "execute_result"
    }
   ],
   "source": [
    "bin(5)"
   ]
  },
  {
   "cell_type": "code",
   "execution_count": 16,
   "id": "7fc61db2-a910-4efd-8c0b-6d4b78be24a7",
   "metadata": {},
   "outputs": [],
   "source": [
    "arr1 = np.array([5.6, 6.1, 4.0, 3.2, 1, 8, 9])"
   ]
  },
  {
   "cell_type": "code",
   "execution_count": 17,
   "id": "7329e354-da09-43c5-ad53-7cc7dff03f59",
   "metadata": {},
   "outputs": [
    {
     "data": {
      "text/plain": [
       "array([5.6, 6.1, 4. , 3.2, 1. , 8. , 9. ])"
      ]
     },
     "execution_count": 17,
     "metadata": {},
     "output_type": "execute_result"
    }
   ],
   "source": [
    "arr1"
   ]
  },
  {
   "cell_type": "code",
   "execution_count": 18,
   "id": "42cec1cf-3599-4d74-ba59-b5c4583d7643",
   "metadata": {},
   "outputs": [
    {
     "data": {
      "text/plain": [
       "dtype('float64')"
      ]
     },
     "execution_count": 18,
     "metadata": {},
     "output_type": "execute_result"
    }
   ],
   "source": [
    "arr1.dtype"
   ]
  },
  {
   "cell_type": "code",
   "execution_count": 19,
   "id": "7f1785ef-0709-4036-ac06-84e13196e2f6",
   "metadata": {},
   "outputs": [
    {
     "data": {
      "text/plain": [
       "1"
      ]
     },
     "execution_count": 19,
     "metadata": {},
     "output_type": "execute_result"
    }
   ],
   "source": [
    "v1.ndim"
   ]
  },
  {
   "cell_type": "code",
   "execution_count": 20,
   "id": "e6b6dbee-5e4c-4efe-9a81-2b2db18b124b",
   "metadata": {},
   "outputs": [
    {
     "data": {
      "text/plain": [
       "2"
      ]
     },
     "execution_count": 20,
     "metadata": {},
     "output_type": "execute_result"
    }
   ],
   "source": [
    "v1[2]"
   ]
  },
  {
   "cell_type": "code",
   "execution_count": 21,
   "id": "a80cab9d-7ed4-4944-8042-bc2270d85a05",
   "metadata": {},
   "outputs": [
    {
     "data": {
      "text/plain": [
       "10"
      ]
     },
     "execution_count": 21,
     "metadata": {},
     "output_type": "execute_result"
    }
   ],
   "source": [
    "len(v1)"
   ]
  },
  {
   "cell_type": "markdown",
   "id": "53b651a1-f3ad-487a-ad81-eb99689c013a",
   "metadata": {},
   "source": [
    "##### Vector / Array creating routines"
   ]
  },
  {
   "cell_type": "code",
   "execution_count": 22,
   "id": "ca113a32-55e7-41b4-9838-f1c06bc8e70e",
   "metadata": {},
   "outputs": [
    {
     "data": {
      "text/plain": [
       "array([0, 1, 2, 3, 4, 5, 6, 7, 8, 9])"
      ]
     },
     "execution_count": 22,
     "metadata": {},
     "output_type": "execute_result"
    }
   ],
   "source": [
    "v1 = np.arange(10)\n",
    "v1"
   ]
  },
  {
   "cell_type": "code",
   "execution_count": 23,
   "id": "3c90f8f6-bf1c-4cbe-a955-db082871433b",
   "metadata": {},
   "outputs": [
    {
     "data": {
      "text/plain": [
       "array([4, 5, 6, 7, 8, 9])"
      ]
     },
     "execution_count": 23,
     "metadata": {},
     "output_type": "execute_result"
    }
   ],
   "source": [
    "v2 = np.arange(4,10)\n",
    "v2"
   ]
  },
  {
   "cell_type": "code",
   "execution_count": 24,
   "id": "e82c4595-e9f3-4d19-b307-e4fdf25d68dd",
   "metadata": {},
   "outputs": [
    {
     "data": {
      "text/plain": [
       "array([ 4,  6,  8, 10, 12, 14])"
      ]
     },
     "execution_count": 24,
     "metadata": {},
     "output_type": "execute_result"
    }
   ],
   "source": [
    "v3 = np.arange(4,15,2)\n",
    "v3"
   ]
  },
  {
   "cell_type": "code",
   "execution_count": 25,
   "id": "57196642-61fa-487f-a877-8fb67d34b748",
   "metadata": {},
   "outputs": [
    {
     "data": {
      "text/plain": [
       "array([ 4. ,  6.5,  9. , 11.5, 14. ])"
      ]
     },
     "execution_count": 25,
     "metadata": {},
     "output_type": "execute_result"
    }
   ],
   "source": [
    "v4 = np.arange(4,15,2.5)\n",
    "v4"
   ]
  },
  {
   "cell_type": "code",
   "execution_count": 26,
   "id": "a87461f7-0a01-4ab2-a4de-e82e18cb1a93",
   "metadata": {},
   "outputs": [
    {
     "data": {
      "text/plain": [
       "array([15, 13, 11,  9,  7,  5,  3])"
      ]
     },
     "execution_count": 26,
     "metadata": {},
     "output_type": "execute_result"
    }
   ],
   "source": [
    "v5 = np.arange(15,2,-2)\n",
    "v5"
   ]
  },
  {
   "cell_type": "code",
   "execution_count": 27,
   "id": "acc957c6-b4b6-4f5f-8c46-addae66b9a83",
   "metadata": {},
   "outputs": [
    {
     "data": {
      "text/plain": [
       "[<matplotlib.lines.Line2D at 0x7ad5d615d120>]"
      ]
     },
     "execution_count": 27,
     "metadata": {},
     "output_type": "execute_result"
    },
    {
     "data": {
      "image/png": "[encoded data removed]",
      "text/plain": [
       "<Figure size 640x480 with 1 Axes>"
      ]
     },
     "metadata": {},
     "output_type": "display_data"
    }
   ],
   "source": [
    "plt.plot(v5)"
   ]
  },
  {
   "cell_type": "code",
   "execution_count": 28,
   "id": "05ca82a5-751f-437e-83b1-97aff44c7a39",
   "metadata": {},
   "outputs": [],
   "source": [
    "A = np.array([0,3])\n",
    "B = np.array([3,5])"
   ]
  },
  {
   "cell_type": "code",
   "execution_count": 29,
   "id": "25578565-7b86-4e08-b41d-50e2fae5607b",
   "metadata": {},
   "outputs": [
    {
     "data": {
      "text/plain": [
       "[<matplotlib.lines.Line2D at 0x7ad5d61c72b0>]"
      ]
     },
     "execution_count": 29,
     "metadata": {},
     "output_type": "execute_result"
    },
    {
     "data": {
      "image/png": "[encoded data removed]",
      "text/plain": [
       "<Figure size 640x480 with 1 Axes>"
      ]
     },
     "metadata": {},
     "output_type": "display_data"
    }
   ],
   "source": [
    "plt.plot(A, B)"
   ]
  },
  {
   "cell_type": "code",
   "execution_count": 30,
   "id": "f1ed7079-c0c4-47c0-a300-c5d9192c6ae8",
   "metadata": {},
   "outputs": [],
   "source": [
    "v6 = np.linspace(1,10,5)"
   ]
  },
  {
   "cell_type": "code",
   "execution_count": 31,
   "id": "1fec7926-d724-4646-a603-601bc697f1c7",
   "metadata": {},
   "outputs": [
    {
     "data": {
      "text/plain": [
       "array([ 1.  ,  3.25,  5.5 ,  7.75, 10.  ])"
      ]
     },
     "execution_count": 31,
     "metadata": {},
     "output_type": "execute_result"
    }
   ],
   "source": [
    "v6"
   ]
  },
  {
   "cell_type": "code",
   "execution_count": 32,
   "id": "9a68fd3d-3a50-4495-b2c7-9085d5f08f2d",
   "metadata": {},
   "outputs": [
    {
     "data": {
      "text/plain": [
       "3.25"
      ]
     },
     "execution_count": 32,
     "metadata": {},
     "output_type": "execute_result"
    }
   ],
   "source": [
    "1 + 2.25"
   ]
  },
  {
   "cell_type": "code",
   "execution_count": 33,
   "id": "972ac444-1cee-4055-b8b1-c67d31afec8b",
   "metadata": {},
   "outputs": [
    {
     "data": {
      "text/plain": [
       "5.5"
      ]
     },
     "execution_count": 33,
     "metadata": {},
     "output_type": "execute_result"
    }
   ],
   "source": [
    "3.25 + 2.25"
   ]
  },
  {
   "cell_type": "code",
   "execution_count": 34,
   "id": "3cb10a8d-64c8-4978-b81a-5e38498f4a15",
   "metadata": {},
   "outputs": [
    {
     "data": {
      "text/plain": [
       "7.75"
      ]
     },
     "execution_count": 34,
     "metadata": {},
     "output_type": "execute_result"
    }
   ],
   "source": [
    "5.5 + 2.25"
   ]
  },
  {
   "cell_type": "code",
   "execution_count": 35,
   "id": "776b1703-c161-4e55-abf4-2d5b96da1495",
   "metadata": {},
   "outputs": [
    {
     "data": {
      "text/plain": [
       "10.0"
      ]
     },
     "execution_count": 35,
     "metadata": {},
     "output_type": "execute_result"
    }
   ],
   "source": [
    "7.75 + 2.25"
   ]
  },
  {
   "cell_type": "code",
   "execution_count": 36,
   "id": "90ecad39-8e5a-4376-9a2f-7712c1532d46",
   "metadata": {},
   "outputs": [
    {
     "data": {
      "text/plain": [
       "[<matplotlib.lines.Line2D at 0x7ad5d604f340>]"
      ]
     },
     "execution_count": 36,
     "metadata": {},
     "output_type": "execute_result"
    },
    {
     "data": {
      "image/png": "[encoded data removed]",
      "text/plain": [
       "<Figure size 640x480 with 1 Axes>"
      ]
     },
     "metadata": {},
     "output_type": "display_data"
    }
   ],
   "source": [
    "plt.plot(v6)"
   ]
  },
  {
   "cell_type": "code",
   "execution_count": 37,
   "id": "5a9d58af-1dc9-4c14-96da-f3657d7fa6e7",
   "metadata": {},
   "outputs": [],
   "source": [
    "v6 = np.linspace(1,10,8)"
   ]
  },
  {
   "cell_type": "code",
   "execution_count": 38,
   "id": "108c168a-533f-4027-913d-6dfea3cd115b",
   "metadata": {},
   "outputs": [
    {
     "data": {
      "text/plain": [
       "array([ 1.        ,  2.28571429,  3.57142857,  4.85714286,  6.14285714,\n",
       "        7.42857143,  8.71428571, 10.        ])"
      ]
     },
     "execution_count": 38,
     "metadata": {},
     "output_type": "execute_result"
    }
   ],
   "source": [
    "v6"
   ]
  },
  {
   "cell_type": "code",
   "execution_count": 39,
   "id": "75afa755-5f85-4900-982f-f2e7ae31ae72",
   "metadata": {},
   "outputs": [
    {
     "data": {
      "text/plain": [
       "array([ 1.,  2.,  3.,  4.,  5.,  6.,  7.,  8.,  9., 10.])"
      ]
     },
     "execution_count": 39,
     "metadata": {},
     "output_type": "execute_result"
    }
   ],
   "source": [
    "np.linspace(1,10,10)"
   ]
  },
  {
   "cell_type": "markdown",
   "id": "2d82d833-deb1-4b8f-9581-7f07d4cd6f14",
   "metadata": {},
   "source": [
    "##### Types of the vectors"
   ]
  },
  {
   "cell_type": "code",
   "execution_count": 40,
   "id": "073af837-58de-40d9-8eb3-7a619605f45b",
   "metadata": {},
   "outputs": [],
   "source": [
    "z = np.zeros(10)"
   ]
  },
  {
   "cell_type": "code",
   "execution_count": 41,
   "id": "65009c78-fbce-4355-9a6b-5765390cec8f",
   "metadata": {},
   "outputs": [
    {
     "data": {
      "text/plain": [
       "array([0., 0., 0., 0., 0., 0., 0., 0., 0., 0.])"
      ]
     },
     "execution_count": 41,
     "metadata": {},
     "output_type": "execute_result"
    }
   ],
   "source": [
    "z"
   ]
  },
  {
   "cell_type": "code",
   "execution_count": 42,
   "id": "5fd92a48-3ddf-4cbb-bd9f-a2342eb9b5ba",
   "metadata": {},
   "outputs": [
    {
     "data": {
      "text/plain": [
       "array([ 0.,  0.,  0.,  0., 67.,  0.,  0.,  0.,  0.,  0.])"
      ]
     },
     "execution_count": 42,
     "metadata": {},
     "output_type": "execute_result"
    }
   ],
   "source": [
    "z[4] = 67\n",
    "z"
   ]
  },
  {
   "cell_type": "code",
   "execution_count": 43,
   "id": "7ee13208-efdb-4434-80d4-2f10ace5e560",
   "metadata": {},
   "outputs": [
    {
     "data": {
      "text/plain": [
       "dtype('float64')"
      ]
     },
     "execution_count": 43,
     "metadata": {},
     "output_type": "execute_result"
    }
   ],
   "source": [
    "z.dtype"
   ]
  },
  {
   "cell_type": "code",
   "execution_count": 44,
   "id": "cd4edcdc-bc04-49f0-89b8-70bba7a75bf4",
   "metadata": {},
   "outputs": [],
   "source": [
    "z = np.zeros(10, dtype=np.int8)"
   ]
  },
  {
   "cell_type": "code",
   "execution_count": 45,
   "id": "52caf923-3c5e-4877-9db4-8031d47f41ef",
   "metadata": {},
   "outputs": [
    {
     "data": {
      "text/plain": [
       "array([0, 0, 0, 0, 0, 0, 0, 0, 0, 0], dtype=int8)"
      ]
     },
     "execution_count": 45,
     "metadata": {},
     "output_type": "execute_result"
    }
   ],
   "source": [
    "z"
   ]
  },
  {
   "cell_type": "code",
   "execution_count": 46,
   "id": "574ff552-dd24-4d66-a9e1-3fe3f5873709",
   "metadata": {},
   "outputs": [
    {
     "name": "stderr",
     "output_type": "stream",
     "text": [
      "/tmp/ipykernel_466908/2415546876.py:1: DeprecationWarning: NumPy will stop allowing conversion of out-of-bound Python integers to integer arrays.  The conversion of 541724 to int8 will fail in the future.\n",
      "For the old behavior, usually:\n",
      "    np.array(value).astype(dtype)\n",
      "will give the desired result (the cast overflows).\n",
      "  z[4] = 541724\n"
     ]
    }
   ],
   "source": [
    "z[4] = 541724"
   ]
  },
  {
   "cell_type": "code",
   "execution_count": 47,
   "id": "4ddd6e55-99b5-46b7-8783-981690d6b480",
   "metadata": {},
   "outputs": [
    {
     "data": {
      "text/plain": [
       "array([ 0,  0,  0,  0, 28,  0,  0,  0,  0,  0], dtype=int8)"
      ]
     },
     "execution_count": 47,
     "metadata": {},
     "output_type": "execute_result"
    }
   ],
   "source": [
    "z"
   ]
  },
  {
   "cell_type": "code",
   "execution_count": 48,
   "id": "593292a5-9fe7-4053-8182-decc631476e1",
   "metadata": {},
   "outputs": [],
   "source": [
    "z[3] = 127"
   ]
  },
  {
   "cell_type": "code",
   "execution_count": 49,
   "id": "48fd1ccd-4951-4d6e-9329-30929588a4c9",
   "metadata": {},
   "outputs": [
    {
     "data": {
      "text/plain": [
       "array([  0,   0,   0, 127,  28,   0,   0,   0,   0,   0], dtype=int8)"
      ]
     },
     "execution_count": 49,
     "metadata": {},
     "output_type": "execute_result"
    }
   ],
   "source": [
    "z"
   ]
  },
  {
   "cell_type": "code",
   "execution_count": 50,
   "id": "394b42d2-fdc9-43cc-ad2c-ca307495191e",
   "metadata": {},
   "outputs": [
    {
     "name": "stderr",
     "output_type": "stream",
     "text": [
      "/tmp/ipykernel_466908/1260580863.py:1: DeprecationWarning: NumPy will stop allowing conversion of out-of-bound Python integers to integer arrays.  The conversion of 128 to int8 will fail in the future.\n",
      "For the old behavior, usually:\n",
      "    np.array(value).astype(dtype)\n",
      "will give the desired result (the cast overflows).\n",
      "  z[3] = 128\n"
     ]
    }
   ],
   "source": [
    "z[3] = 128"
   ]
  },
  {
   "cell_type": "code",
   "execution_count": 51,
   "id": "be2c9625-0e97-4d94-86cd-bb8b2462de21",
   "metadata": {},
   "outputs": [
    {
     "data": {
      "text/plain": [
       "array([   0,    0,    0, -128,   28,    0,    0,    0,    0,    0],\n",
       "      dtype=int8)"
      ]
     },
     "execution_count": 51,
     "metadata": {},
     "output_type": "execute_result"
    }
   ],
   "source": [
    "z"
   ]
  },
  {
   "cell_type": "markdown",
   "id": "913c2669-cfdd-4d1b-a00a-9a4b2ea1190b",
   "metadata": {},
   "source": [
    "##### Unit Vectors"
   ]
  },
  {
   "cell_type": "code",
   "execution_count": 53,
   "id": "67de782a-caa5-42fd-a8a3-e6a4cffa90e4",
   "metadata": {},
   "outputs": [],
   "source": [
    "u = np.ones(10)"
   ]
  },
  {
   "cell_type": "code",
   "execution_count": 54,
   "id": "e8e238de-ef72-427f-99b2-327e8c82988e",
   "metadata": {},
   "outputs": [
    {
     "data": {
      "text/plain": [
       "array([1., 1., 1., 1., 1., 1., 1., 1., 1., 1.])"
      ]
     },
     "execution_count": 54,
     "metadata": {},
     "output_type": "execute_result"
    }
   ],
   "source": [
    "u"
   ]
  },
  {
   "cell_type": "code",
   "execution_count": 55,
   "id": "5b6c0e7e-cd4b-4e9a-ab40-dfecaf4de29f",
   "metadata": {},
   "outputs": [],
   "source": [
    "u = np.ones(10, dtype=np.int8)"
   ]
  },
  {
   "cell_type": "code",
   "execution_count": 56,
   "id": "d488a20e-8793-47b2-8ae5-51099f49dcd4",
   "metadata": {},
   "outputs": [
    {
     "data": {
      "text/plain": [
       "array([1, 1, 1, 1, 1, 1, 1, 1, 1, 1], dtype=int8)"
      ]
     },
     "execution_count": 56,
     "metadata": {},
     "output_type": "execute_result"
    }
   ],
   "source": [
    "u"
   ]
  },
  {
   "cell_type": "code",
   "execution_count": 57,
   "id": "748fc492-64aa-46fe-87f2-f9ae4034bc8b",
   "metadata": {},
   "outputs": [
    {
     "data": {
      "text/plain": [
       "122"
      ]
     },
     "execution_count": 57,
     "metadata": {},
     "output_type": "execute_result"
    }
   ],
   "source": [
    "import sys\n",
    "sys.getsizeof(u)"
   ]
  },
  {
   "cell_type": "markdown",
   "id": "0014b0d5-859f-4667-8819-b8bba9829792",
   "metadata": {},
   "source": [
    "##### Equal Vectors"
   ]
  },
  {
   "cell_type": "code",
   "execution_count": 60,
   "id": "67210a0c-dd23-4235-a6e4-b96c6e5aff46",
   "metadata": {},
   "outputs": [],
   "source": [
    "x = np.array([1,2,3,4,5])"
   ]
  },
  {
   "cell_type": "code",
   "execution_count": 61,
   "id": "6822bfa5-dede-415a-a536-41fb7b8f607b",
   "metadata": {},
   "outputs": [],
   "source": [
    "y = x"
   ]
  },
  {
   "cell_type": "code",
   "execution_count": 63,
   "id": "e8a75e40-4274-489b-b2bd-d714d8287d79",
   "metadata": {},
   "outputs": [
    {
     "data": {
      "text/plain": [
       "3"
      ]
     },
     "execution_count": 63,
     "metadata": {},
     "output_type": "execute_result"
    }
   ],
   "source": [
    "y[2]"
   ]
  },
  {
   "cell_type": "code",
   "execution_count": 64,
   "id": "f58eca40-189d-4a59-85e7-4088bbffc155",
   "metadata": {},
   "outputs": [],
   "source": [
    "y[2] = 10"
   ]
  },
  {
   "cell_type": "code",
   "execution_count": 65,
   "id": "7bc8850f-7599-4bcb-b005-a271e925faed",
   "metadata": {},
   "outputs": [
    {
     "name": "stdout",
     "output_type": "stream",
     "text": [
      "[ 1  2 10  4  5]\n"
     ]
    }
   ],
   "source": [
    "print(x)"
   ]
  },
  {
   "cell_type": "code",
   "execution_count": 66,
   "id": "84a5dd61-d277-4ecb-b776-776484ee920d",
   "metadata": {},
   "outputs": [
    {
     "data": {
      "text/plain": [
       "135058831934736"
      ]
     },
     "execution_count": 66,
     "metadata": {},
     "output_type": "execute_result"
    }
   ],
   "source": [
    "id(y)"
   ]
  },
  {
   "cell_type": "code",
   "execution_count": 67,
   "id": "a9ebf31d-99e3-454c-99a2-b6dd86da5a85",
   "metadata": {},
   "outputs": [
    {
     "data": {
      "text/plain": [
       "135058831934736"
      ]
     },
     "execution_count": 67,
     "metadata": {},
     "output_type": "execute_result"
    }
   ],
   "source": [
    "id(x)"
   ]
  },
  {
   "cell_type": "code",
   "execution_count": 68,
   "id": "64fa786a-c068-4cf1-b27b-5d94bdf545fa",
   "metadata": {},
   "outputs": [],
   "source": [
    "x = np.array([1,2,3,4,5])\n",
    "y = x.copy()"
   ]
  },
  {
   "cell_type": "code",
   "execution_count": 69,
   "id": "e1f2090b-b846-4300-bd30-1214c1cb3167",
   "metadata": {},
   "outputs": [
    {
     "data": {
      "text/plain": [
       "135058831936080"
      ]
     },
     "execution_count": 69,
     "metadata": {},
     "output_type": "execute_result"
    }
   ],
   "source": [
    "id(x)"
   ]
  },
  {
   "cell_type": "code",
   "execution_count": 70,
   "id": "5005a406-fd9e-44d9-86e5-e459225824dd",
   "metadata": {},
   "outputs": [
    {
     "data": {
      "text/plain": [
       "135058831936176"
      ]
     },
     "execution_count": 70,
     "metadata": {},
     "output_type": "execute_result"
    }
   ],
   "source": [
    "id(y)"
   ]
  },
  {
   "cell_type": "code",
   "execution_count": 71,
   "id": "8dc313e5-c04b-4b61-abc9-70a49cb68bba",
   "metadata": {},
   "outputs": [
    {
     "data": {
      "text/plain": [
       "array([ True,  True,  True,  True,  True])"
      ]
     },
     "execution_count": 71,
     "metadata": {},
     "output_type": "execute_result"
    }
   ],
   "source": [
    "x == y"
   ]
  },
  {
   "cell_type": "code",
   "execution_count": 72,
   "id": "90f74d83-9d5c-43aa-a8b9-306098a23a96",
   "metadata": {},
   "outputs": [
    {
     "data": {
      "text/plain": [
       "1"
      ]
     },
     "execution_count": 72,
     "metadata": {},
     "output_type": "execute_result"
    }
   ],
   "source": [
    "True + False"
   ]
  },
  {
   "cell_type": "code",
   "execution_count": 73,
   "id": "196a4286-52dd-4515-90e3-5d66742d5f25",
   "metadata": {},
   "outputs": [
    {
     "data": {
      "text/plain": [
       "2"
      ]
     },
     "execution_count": 73,
     "metadata": {},
     "output_type": "execute_result"
    }
   ],
   "source": [
    "True + True"
   ]
  },
  {
   "cell_type": "code",
   "execution_count": 74,
   "id": "a9acca54-f9c7-423a-b3e5-62a1743c9ebf",
   "metadata": {},
   "outputs": [
    {
     "data": {
      "text/plain": [
       "5"
      ]
     },
     "execution_count": 74,
     "metadata": {},
     "output_type": "execute_result"
    }
   ],
   "source": [
    "sum(x == y)"
   ]
  },
  {
   "cell_type": "code",
   "execution_count": 75,
   "id": "f6f43990-d000-429b-bd34-1b13843c12ad",
   "metadata": {},
   "outputs": [
    {
     "name": "stdout",
     "output_type": "stream",
     "text": [
      "Equal Vectors!\n"
     ]
    }
   ],
   "source": [
    "if sum(x == y) == len(x):\n",
    "    print('Equal Vectors!')\n",
    "else:\n",
    "    print('Non Equal Vectors')"
   ]
  },
  {
   "cell_type": "code",
   "execution_count": 77,
   "id": "d5cd2478-ed39-45a6-ab2e-598b5c85edd2",
   "metadata": {},
   "outputs": [],
   "source": [
    "x1 = np.array([1,2,3,4,5])\n",
    "y1 = np.array([1,6,3,4,5])"
   ]
  },
  {
   "cell_type": "code",
   "execution_count": 78,
   "id": "70ab0911-5c65-496b-bc1a-8fee35041742",
   "metadata": {},
   "outputs": [
    {
     "name": "stdout",
     "output_type": "stream",
     "text": [
      "Non Equal Vectors\n"
     ]
    }
   ],
   "source": [
    "if sum(x1 == y1) == len(x1):\n",
    "    print('Equal Vectors!')\n",
    "else:\n",
    "    print('Non Equal Vectors')"
   ]
  },
  {
   "cell_type": "markdown",
   "id": "9a8b3268-6a5b-4ba3-86ce-cc9dfd813edc",
   "metadata": {},
   "source": [
    "##### Negative Vector"
   ]
  },
  {
   "cell_type": "code",
   "execution_count": 80,
   "id": "3cc2dd08-482c-4b6d-938e-af213530172f",
   "metadata": {},
   "outputs": [],
   "source": [
    "x = np.array([1,2,3,4,5])"
   ]
  },
  {
   "cell_type": "code",
   "execution_count": 81,
   "id": "70de456e-49e9-45ab-adfb-4eeaed9040f7",
   "metadata": {},
   "outputs": [],
   "source": [
    "y = np.array([5,4,3,2,1])"
   ]
  },
  {
   "cell_type": "code",
   "execution_count": 82,
   "id": "e3ac6b5b-cc9e-4ec6-b432-c733890c6a01",
   "metadata": {},
   "outputs": [
    {
     "data": {
      "text/plain": [
       "array([5, 4, 3, 2, 1])"
      ]
     },
     "execution_count": 82,
     "metadata": {},
     "output_type": "execute_result"
    }
   ],
   "source": [
    "np.flip(x)"
   ]
  },
  {
   "cell_type": "code",
   "execution_count": 84,
   "id": "3bbfbcc5-db2b-4de4-9569-7e898316ff8f",
   "metadata": {},
   "outputs": [
    {
     "name": "stdout",
     "output_type": "stream",
     "text": [
      "Negative Vectors!\n"
     ]
    }
   ],
   "source": [
    "if sum(x == np.flip(y)) == len(x):\n",
    "    print('Negative Vectors!')\n",
    "else:\n",
    "    print('Non Negative Vectors')"
   ]
  },
  {
   "cell_type": "markdown",
   "id": "c8924377-60a5-4dc0-8aad-fd97fba40b47",
   "metadata": {},
   "source": [
    "##### Parallel Vectors"
   ]
  },
  {
   "cell_type": "code",
   "execution_count": 86,
   "id": "e58cfb2e-72e9-40a2-9185-1a1b988e16e0",
   "metadata": {},
   "outputs": [],
   "source": [
    "x = np.arange(10)"
   ]
  },
  {
   "cell_type": "code",
   "execution_count": 89,
   "id": "06fafefb-7878-4138-9504-cc4a8557cdbe",
   "metadata": {},
   "outputs": [],
   "source": [
    "y = x + 3"
   ]
  },
  {
   "cell_type": "code",
   "execution_count": 90,
   "id": "64cf45c9-69ed-46cc-aa0d-954f480a7534",
   "metadata": {},
   "outputs": [
    {
     "data": {
      "text/plain": [
       "array([ 3,  4,  5,  6,  7,  8,  9, 10, 11, 12])"
      ]
     },
     "execution_count": 90,
     "metadata": {},
     "output_type": "execute_result"
    }
   ],
   "source": [
    "y"
   ]
  },
  {
   "cell_type": "code",
   "execution_count": 91,
   "id": "af2a0bf1-10be-4940-9f21-d6e3b5315d33",
   "metadata": {},
   "outputs": [
    {
     "data": {
      "text/plain": [
       "[<matplotlib.lines.Line2D at 0x7ad5d5bb2e00>]"
      ]
     },
     "execution_count": 91,
     "metadata": {},
     "output_type": "execute_result"
    },
    {
     "data": {
      "image/png": "[encoded data removed]",
      "text/plain": [
       "<Figure size 640x480 with 1 Axes>"
      ]
     },
     "metadata": {},
     "output_type": "display_data"
    }
   ],
   "source": [
    "plt.plot(x),\n",
    "plt.plot(y)"
   ]
  },
  {
   "cell_type": "markdown",
   "id": "be99a7d0-7333-4b2d-92d6-3e7b7918d767",
   "metadata": {},
   "source": [
    "##### dot product of vectors"
   ]
  },
  {
   "cell_type": "code",
   "execution_count": 93,
   "id": "08db1cef-a31b-4f03-be55-4c7c9df49689",
   "metadata": {},
   "outputs": [],
   "source": [
    "x = np.arange(1,10)"
   ]
  },
  {
   "cell_type": "code",
   "execution_count": 94,
   "id": "9cab400f-d34b-43be-8ee2-86660e8f0606",
   "metadata": {},
   "outputs": [],
   "source": [
    "y = np.arange(2,20,2)"
   ]
  },
  {
   "cell_type": "code",
   "execution_count": 95,
   "id": "070475e4-0513-4112-be26-9e10ea4ad78f",
   "metadata": {},
   "outputs": [
    {
     "data": {
      "text/plain": [
       "array([ 2,  4,  6,  8, 10, 12, 14, 16, 18])"
      ]
     },
     "execution_count": 95,
     "metadata": {},
     "output_type": "execute_result"
    }
   ],
   "source": [
    "y"
   ]
  },
  {
   "cell_type": "code",
   "execution_count": 96,
   "id": "cca90a5d-d7a8-4e47-a7bf-3cf2c18a28de",
   "metadata": {},
   "outputs": [
    {
     "data": {
      "text/plain": [
       "array([1, 2, 3, 4, 5, 6, 7, 8, 9])"
      ]
     },
     "execution_count": 96,
     "metadata": {},
     "output_type": "execute_result"
    }
   ],
   "source": [
    "x"
   ]
  },
  {
   "cell_type": "code",
   "execution_count": 97,
   "id": "c6e55464-aa00-4f6a-9b2d-9e70429fb653",
   "metadata": {},
   "outputs": [
    {
     "data": {
      "text/plain": [
       "570"
      ]
     },
     "execution_count": 97,
     "metadata": {},
     "output_type": "execute_result"
    }
   ],
   "source": [
    "x.dot(y)"
   ]
  },
  {
   "cell_type": "code",
   "execution_count": 98,
   "id": "865962c7-8a65-485e-bd71-7404022d02cd",
   "metadata": {},
   "outputs": [
    {
     "data": {
      "text/plain": [
       "570"
      ]
     },
     "execution_count": 98,
     "metadata": {},
     "output_type": "execute_result"
    }
   ],
   "source": [
    "np.dot(x, y)"
   ]
  },
  {
   "cell_type": "code",
   "execution_count": 99,
   "id": "e9e8378e-8a86-4b81-bfbd-af2c23309d04",
   "metadata": {},
   "outputs": [
    {
     "data": {
      "text/plain": [
       "array([1, 2, 3, 4, 5, 6, 7, 8, 9])"
      ]
     },
     "execution_count": 99,
     "metadata": {},
     "output_type": "execute_result"
    }
   ],
   "source": [
    "x"
   ]
  },
  {
   "cell_type": "code",
   "execution_count": 100,
   "id": "74ac35eb-eca6-4f3a-9f88-f4039b209778",
   "metadata": {},
   "outputs": [
    {
     "data": {
      "text/plain": [
       "array([ 1,  4,  9, 16, 25, 36, 49, 64, 81])"
      ]
     },
     "execution_count": 100,
     "metadata": {},
     "output_type": "execute_result"
    }
   ],
   "source": [
    "x ** 2"
   ]
  },
  {
   "cell_type": "code",
   "execution_count": 102,
   "id": "23a5f0ca-e1d9-4029-8929-622380b7d588",
   "metadata": {},
   "outputs": [
    {
     "data": {
      "text/plain": [
       "285"
      ]
     },
     "execution_count": 102,
     "metadata": {},
     "output_type": "execute_result"
    }
   ],
   "source": [
    "np.sum(x**2)"
   ]
  },
  {
   "cell_type": "code",
   "execution_count": 103,
   "id": "35a93f20-5234-4151-bca8-44203ec57f16",
   "metadata": {},
   "outputs": [
    {
     "data": {
      "text/plain": [
       "16.881943016134134"
      ]
     },
     "execution_count": 103,
     "metadata": {},
     "output_type": "execute_result"
    }
   ],
   "source": [
    "np.sqrt(np.sum(x**2))"
   ]
  },
  {
   "cell_type": "markdown",
   "id": "e621f604-2e5d-4cfb-b6f6-30b84e6a4bcb",
   "metadata": {},
   "source": [
    "##### Orthogonal Vectors"
   ]
  },
  {
   "cell_type": "code",
   "execution_count": 105,
   "id": "7fbedac1-0de1-4001-9704-2fbabc4f0fa2",
   "metadata": {},
   "outputs": [],
   "source": [
    "x = np.arange(1,11)"
   ]
  },
  {
   "cell_type": "code",
   "execution_count": 108,
   "id": "23456f60-99ff-4b83-bf30-c8316f0b5728",
   "metadata": {},
   "outputs": [],
   "source": [
    "y = np.arange(10,0,-1)"
   ]
  },
  {
   "cell_type": "code",
   "execution_count": 109,
   "id": "e32c0ca5-571d-4695-b8c0-f11f53948ace",
   "metadata": {},
   "outputs": [
    {
     "data": {
      "text/plain": [
       "array([10,  9,  8,  7,  6,  5,  4,  3,  2,  1])"
      ]
     },
     "execution_count": 109,
     "metadata": {},
     "output_type": "execute_result"
    }
   ],
   "source": [
    "y"
   ]
  },
  {
   "cell_type": "code",
   "execution_count": 110,
   "id": "f6424272-ce9b-492e-a520-3e2fccf8b06a",
   "metadata": {},
   "outputs": [],
   "source": [
    "u = np.array([0,1])\n",
    "v = np.array([1,0])"
   ]
  },
  {
   "cell_type": "code",
   "execution_count": 111,
   "id": "2ea11d65-1251-4243-b150-43d7c1964bb9",
   "metadata": {},
   "outputs": [
    {
     "data": {
      "text/plain": [
       "[<matplotlib.lines.Line2D at 0x7ad5d539df90>]"
      ]
     },
     "execution_count": 111,
     "metadata": {},
     "output_type": "execute_result"
    },
    {
     "data": {
      "image/png": "[encoded data removed]",
      "text/plain": [
       "<Figure size 640x480 with 1 Axes>"
      ]
     },
     "metadata": {},
     "output_type": "display_data"
    }
   ],
   "source": [
    "plt.plot(u)\n",
    "plt.plot(v)"
   ]
  },
  {
   "cell_type": "code",
   "execution_count": 112,
   "id": "26e4b1ad-91a7-4e65-af8d-c9a40a29e754",
   "metadata": {},
   "outputs": [
    {
     "data": {
      "text/plain": [
       "[<matplotlib.lines.Line2D at 0x7ad5d5920c40>]"
      ]
     },
     "execution_count": 112,
     "metadata": {},
     "output_type": "execute_result"
    },
    {
     "data": {
      "image/png": "[encoded data removed]",
      "text/plain": [
       "<Figure size 500x500 with 1 Axes>"
      ]
     },
     "metadata": {},
     "output_type": "display_data"
    }
   ],
   "source": [
    "plt.figure(figsize=(5,5))\n",
    "plt.plot(u)\n",
    "plt.plot(v)"
   ]
  },
  {
   "cell_type": "code",
   "execution_count": 113,
   "id": "feeb691d-9233-480a-86de-d5d21e8387b8",
   "metadata": {},
   "outputs": [
    {
     "data": {
      "text/plain": [
       "0"
      ]
     },
     "execution_count": 113,
     "metadata": {},
     "output_type": "execute_result"
    }
   ],
   "source": [
    "u.dot(v)"
   ]
  },
  {
   "cell_type": "code",
   "execution_count": 114,
   "id": "e5b01a79-eed5-40f9-b20c-2be2b6c6ff82",
   "metadata": {},
   "outputs": [
    {
     "data": {
      "text/plain": [
       "0"
      ]
     },
     "execution_count": 114,
     "metadata": {},
     "output_type": "execute_result"
    }
   ],
   "source": [
    "np.dot(u, v)"
   ]
  },
  {
   "cell_type": "markdown",
   "id": "87a69b2d-7530-4e19-8605-d8342a07a3f7",
   "metadata": {},
   "source": [
    "##### Co-initial vectors"
   ]
  },
  {
   "cell_type": "code",
   "execution_count": 116,
   "id": "2d1fce1a-9e95-499c-9bf5-e250a6ae1a70",
   "metadata": {},
   "outputs": [],
   "source": [
    "x = np.arange(10)"
   ]
  },
  {
   "cell_type": "code",
   "execution_count": 117,
   "id": "7754e5ac-70c2-4230-99ca-0179f0612657",
   "metadata": {},
   "outputs": [],
   "source": [
    "y = x * 2"
   ]
  },
  {
   "cell_type": "code",
   "execution_count": 118,
   "id": "ad93b80a-16ad-4011-896a-21dc7dc3138c",
   "metadata": {},
   "outputs": [
    {
     "data": {
      "text/plain": [
       "array([ 0,  2,  4,  6,  8, 10, 12, 14, 16, 18])"
      ]
     },
     "execution_count": 118,
     "metadata": {},
     "output_type": "execute_result"
    }
   ],
   "source": [
    "y"
   ]
  },
  {
   "cell_type": "code",
   "execution_count": 119,
   "id": "bec54a63-305e-4c32-9eed-42d3673b4b77",
   "metadata": {},
   "outputs": [
    {
     "data": {
      "text/plain": [
       "[<matplotlib.lines.Line2D at 0x7ad5d503e740>]"
      ]
     },
     "execution_count": 119,
     "metadata": {},
     "output_type": "execute_result"
    },
    {
     "data": {
      "image/png": "[encoded data removed]",
      "text/plain": [
       "<Figure size 640x480 with 1 Axes>"
      ]
     },
     "metadata": {},
     "output_type": "display_data"
    }
   ],
   "source": [
    "plt.plot(x)\n",
    "plt.plot(y)"
   ]
  },
  {
   "cell_type": "code",
   "execution_count": 120,
   "id": "65a73019-e907-4178-a241-d6bbf12dfd22",
   "metadata": {},
   "outputs": [],
   "source": [
    "z = x * -2"
   ]
  },
  {
   "cell_type": "code",
   "execution_count": 121,
   "id": "750dba44-ec85-44ed-b273-420b48ac11a6",
   "metadata": {},
   "outputs": [
    {
     "data": {
      "text/plain": [
       "array([  0,  -2,  -4,  -6,  -8, -10, -12, -14, -16, -18])"
      ]
     },
     "execution_count": 121,
     "metadata": {},
     "output_type": "execute_result"
    }
   ],
   "source": [
    "z"
   ]
  },
  {
   "cell_type": "code",
   "execution_count": 122,
   "id": "2dce1575-99d6-410d-802c-7619dbdbffb5",
   "metadata": {},
   "outputs": [
    {
     "data": {
      "text/plain": [
       "[<matplotlib.lines.Line2D at 0x7ad5d518cfa0>]"
      ]
     },
     "execution_count": 122,
     "metadata": {},
     "output_type": "execute_result"
    },
    {
     "data": {
      "image/png": "[encoded data removed]",
      "text/plain": [
       "<Figure size 640x480 with 1 Axes>"
      ]
     },
     "metadata": {},
     "output_type": "display_data"
    }
   ],
   "source": [
    "plt.plot(x)\n",
    "plt.plot(y)\n",
    "plt.plot(z)"
   ]
  },
  {
   "cell_type": "markdown",
   "id": "2ebadb76-bfef-4d15-9a7c-953562c90652",
   "metadata": {},
   "source": [
    "##### Scaler operations on vectors"
   ]
  },
  {
   "cell_type": "code",
   "execution_count": 124,
   "id": "97705213-8846-44eb-b3a1-c02fe7b63e00",
   "metadata": {},
   "outputs": [],
   "source": [
    "a = [4,5,6,7,8]"
   ]
  },
  {
   "cell_type": "code",
   "execution_count": 125,
   "id": "606889e1-2e55-4dd8-9edf-d7bf3ddb2590",
   "metadata": {},
   "outputs": [
    {
     "ename": "TypeError",
     "evalue": "can only concatenate list (not \"int\") to list",
     "output_type": "error",
     "traceback": [
      "\u001b[0;31m---------------------------------------------------------------------------\u001b[0m",
      "\u001b[0;31mTypeError\u001b[0m                                 Traceback (most recent call last)",
      "Cell \u001b[0;32mIn[125], line 1\u001b[0m\n\u001b[0;32m----> 1\u001b[0m \u001b[43ma\u001b[49m\u001b[43m \u001b[49m\u001b[38;5;241;43m+\u001b[39;49m\u001b[43m \u001b[49m\u001b[38;5;241;43m2\u001b[39;49m\n",
      "\u001b[0;31mTypeError\u001b[0m: can only concatenate list (not \"int\") to list"
     ]
    }
   ],
   "source": [
    "a + 2"
   ]
  },
  {
   "cell_type": "code",
   "execution_count": 126,
   "id": "009fe1e4-d439-41a9-b3b2-c8ee16daac89",
   "metadata": {},
   "outputs": [
    {
     "data": {
      "text/plain": [
       "[4, 5, 6, 7, 8, 4, 5, 6, 7, 8]"
      ]
     },
     "execution_count": 126,
     "metadata": {},
     "output_type": "execute_result"
    }
   ],
   "source": [
    "a * 2"
   ]
  },
  {
   "cell_type": "code",
   "execution_count": 127,
   "id": "3872a572-2ac9-4950-a0ff-4a476caddd0e",
   "metadata": {},
   "outputs": [],
   "source": [
    "x = np.array([6,8,7,3,1,9,2])"
   ]
  },
  {
   "cell_type": "code",
   "execution_count": 128,
   "id": "1e07e25c-fe71-49bc-aa86-b227d9eadf9e",
   "metadata": {},
   "outputs": [
    {
     "data": {
      "text/plain": [
       "array([10, 12, 11,  7,  5, 13,  6])"
      ]
     },
     "execution_count": 128,
     "metadata": {},
     "output_type": "execute_result"
    }
   ],
   "source": [
    "x + 4"
   ]
  },
  {
   "cell_type": "code",
   "execution_count": 129,
   "id": "d6d56088-8ece-42a3-a33e-70fc83851793",
   "metadata": {},
   "outputs": [
    {
     "data": {
      "text/plain": [
       "array([ 2,  4,  3, -1, -3,  5, -2])"
      ]
     },
     "execution_count": 129,
     "metadata": {},
     "output_type": "execute_result"
    }
   ],
   "source": [
    "x - 4"
   ]
  },
  {
   "cell_type": "code",
   "execution_count": 130,
   "id": "45fb0aba-00be-4434-a457-0fab3ae6928a",
   "metadata": {},
   "outputs": [
    {
     "data": {
      "text/plain": [
       "array([ 72,  96,  84,  36,  12, 108,  24])"
      ]
     },
     "execution_count": 130,
     "metadata": {},
     "output_type": "execute_result"
    }
   ],
   "source": [
    "x * 12"
   ]
  },
  {
   "cell_type": "code",
   "execution_count": 131,
   "id": "616d5fdb-d7ed-461d-a045-aa9a912bfb24",
   "metadata": {},
   "outputs": [
    {
     "data": {
      "text/plain": [
       "array([0.6, 0.8, 0.7, 0.3, 0.1, 0.9, 0.2])"
      ]
     },
     "execution_count": 131,
     "metadata": {},
     "output_type": "execute_result"
    }
   ],
   "source": [
    "x / 10"
   ]
  },
  {
   "cell_type": "code",
   "execution_count": 132,
   "id": "4b0e0622-0b5c-44db-aafe-858bfb893e7c",
   "metadata": {},
   "outputs": [
    {
     "data": {
      "text/plain": [
       "array([ True,  True,  True, False, False,  True, False])"
      ]
     },
     "execution_count": 132,
     "metadata": {},
     "output_type": "execute_result"
    }
   ],
   "source": [
    "x > 5"
   ]
  },
  {
   "cell_type": "code",
   "execution_count": 133,
   "id": "ba743021-62fc-4573-a18d-eca4d8d40255",
   "metadata": {},
   "outputs": [
    {
     "data": {
      "text/plain": [
       "array([6, 8, 7, 9])"
      ]
     },
     "execution_count": 133,
     "metadata": {},
     "output_type": "execute_result"
    }
   ],
   "source": [
    "x[x > 5]"
   ]
  },
  {
   "cell_type": "markdown",
   "id": "d7dfc819-d3d8-4177-bde2-cccd131a60c3",
   "metadata": {},
   "source": [
    "##### Vector Operations on Vector"
   ]
  },
  {
   "cell_type": "code",
   "execution_count": 135,
   "id": "42f48dd1-2771-49dd-86a2-a1a043b442ef",
   "metadata": {},
   "outputs": [],
   "source": [
    "x = np.array([6,8,1,2,3,9])\n",
    "y = np.array([2,4,0,7,9,5,])"
   ]
  },
  {
   "cell_type": "code",
   "execution_count": 136,
   "id": "1acb947c-6d00-4a6d-a16f-f9869291ace9",
   "metadata": {},
   "outputs": [
    {
     "data": {
      "text/plain": [
       "array([ 8, 12,  1,  9, 12, 14])"
      ]
     },
     "execution_count": 136,
     "metadata": {},
     "output_type": "execute_result"
    }
   ],
   "source": [
    "x + y"
   ]
  },
  {
   "cell_type": "code",
   "execution_count": 137,
   "id": "918cb43b-44ff-411c-ac01-befc3d58cd59",
   "metadata": {},
   "outputs": [
    {
     "data": {
      "text/plain": [
       "array([ 4,  4,  1, -5, -6,  4])"
      ]
     },
     "execution_count": 137,
     "metadata": {},
     "output_type": "execute_result"
    }
   ],
   "source": [
    "x - y"
   ]
  },
  {
   "cell_type": "code",
   "execution_count": 138,
   "id": "adffc621-c828-4ac3-8df3-4cbcb12eb5a9",
   "metadata": {},
   "outputs": [
    {
     "data": {
      "text/plain": [
       "array([12, 32,  0, 14, 27, 45])"
      ]
     },
     "execution_count": 138,
     "metadata": {},
     "output_type": "execute_result"
    }
   ],
   "source": [
    "x * y"
   ]
  },
  {
   "cell_type": "code",
   "execution_count": 139,
   "id": "1befd30e-6856-4d41-a1f4-9cec2c356192",
   "metadata": {},
   "outputs": [
    {
     "name": "stderr",
     "output_type": "stream",
     "text": [
      "/tmp/ipykernel_466908/3016948717.py:1: RuntimeWarning: divide by zero encountered in divide\n",
      "  x / y\n"
     ]
    },
    {
     "data": {
      "text/plain": [
       "array([3.        , 2.        ,        inf, 0.28571429, 0.33333333,\n",
       "       1.8       ])"
      ]
     },
     "execution_count": 139,
     "metadata": {},
     "output_type": "execute_result"
    }
   ],
   "source": [
    "x / y"
   ]
  },
  {
   "cell_type": "code",
   "execution_count": 140,
   "id": "d2e46158-daf0-4c3c-8abe-3b846ca88f75",
   "metadata": {},
   "outputs": [
    {
     "name": "stderr",
     "output_type": "stream",
     "text": [
      "/tmp/ipykernel_466908/2460002147.py:1: RuntimeWarning: divide by zero encountered in floor_divide\n",
      "  x // y\n"
     ]
    },
    {
     "data": {
      "text/plain": [
       "array([3, 2, 0, 0, 0, 1])"
      ]
     },
     "execution_count": 140,
     "metadata": {},
     "output_type": "execute_result"
    }
   ],
   "source": [
    "x // y"
   ]
  },
  {
   "cell_type": "code",
   "execution_count": 141,
   "id": "353a07b7-335c-411c-9ed0-ce8578388968",
   "metadata": {},
   "outputs": [
    {
     "data": {
      "text/plain": [
       "array([ True,  True,  True, False, False,  True])"
      ]
     },
     "execution_count": 141,
     "metadata": {},
     "output_type": "execute_result"
    }
   ],
   "source": [
    "x > y"
   ]
  },
  {
   "cell_type": "code",
   "execution_count": 142,
   "id": "e1c55242-5439-43f4-8748-cfb7ae751318",
   "metadata": {},
   "outputs": [
    {
     "data": {
      "text/plain": [
       "array([6, 8, 1, 9])"
      ]
     },
     "execution_count": 142,
     "metadata": {},
     "output_type": "execute_result"
    }
   ],
   "source": [
    "x[x > y]"
   ]
  },
  {
   "cell_type": "markdown",
   "id": "57beef04-8580-43f8-b06c-1970a423910f",
   "metadata": {},
   "source": [
    "##### Linear Combination"
   ]
  },
  {
   "cell_type": "code",
   "execution_count": 144,
   "id": "17e3203f-66f9-4f2c-9f41-ea3aa9234668",
   "metadata": {},
   "outputs": [],
   "source": [
    "x = np.array([4,7,5,9,1,2])"
   ]
  },
  {
   "cell_type": "code",
   "execution_count": 155,
   "id": "56c19ea5-c660-4f2d-acfb-39053068b8cc",
   "metadata": {},
   "outputs": [],
   "source": [
    "y = x * 1.043 + 5.287"
   ]
  },
  {
   "cell_type": "code",
   "execution_count": 156,
   "id": "a397bc2e-7a78-42f5-86a4-f51dd635236a",
   "metadata": {},
   "outputs": [
    {
     "data": {
      "text/plain": [
       "array([ 9.459, 12.588, 10.502, 14.674,  6.33 ,  7.373])"
      ]
     },
     "execution_count": 156,
     "metadata": {},
     "output_type": "execute_result"
    }
   ],
   "source": [
    "y"
   ]
  },
  {
   "cell_type": "code",
   "execution_count": 157,
   "id": "325d725d-041e-4ecc-bf53-7d16f28858cf",
   "metadata": {},
   "outputs": [
    {
     "data": {
      "text/plain": [
       "[<matplotlib.lines.Line2D at 0x7ad5d4852620>]"
      ]
     },
     "execution_count": 157,
     "metadata": {},
     "output_type": "execute_result"
    },
    {
     "data": {
      "image/png": "[encoded data removed]",
      "text/plain": [
       "<Figure size 640x480 with 1 Axes>"
      ]
     },
     "metadata": {},
     "output_type": "display_data"
    }
   ],
   "source": [
    "plt.plot(x, y)"
   ]
  },
  {
   "cell_type": "code",
   "execution_count": 158,
   "id": "66645323-2f9f-47e1-9c8b-039087c46556",
   "metadata": {},
   "outputs": [],
   "source": [
    "y1 = x * 13.167 + 0.35672"
   ]
  },
  {
   "cell_type": "code",
   "execution_count": 160,
   "id": "26f04f8e-6771-4980-a1a1-d9ac26ca93a9",
   "metadata": {},
   "outputs": [
    {
     "data": {
      "text/plain": [
       "[<matplotlib.lines.Line2D at 0x7ad5d46ea350>]"
      ]
     },
     "execution_count": 160,
     "metadata": {},
     "output_type": "execute_result"
    },
    {
     "data": {
      "image/png": "[encoded data removed]",
      "text/plain": [
       "<Figure size 640x480 with 1 Axes>"
      ]
     },
     "metadata": {},
     "output_type": "display_data"
    }
   ],
   "source": [
    "plt.plot(x, y)\n",
    "plt.plot(x, y1)"
   ]
  },
  {
   "cell_type": "markdown",
   "id": "895e000e-9e12-41e8-a8c0-a79df6f51398",
   "metadata": {},
   "source": [
    "##### Linear Dependency"
   ]
  },
  {
   "cell_type": "code",
   "execution_count": 168,
   "id": "127cda04-d4d8-41b7-85c6-f8dd10f958d1",
   "metadata": {},
   "outputs": [],
   "source": [
    "x = np.array([5,2,3,8,5,4])\n",
    "y = np.array([6,5,1,8,9,5]) \n",
    "z = np.array([15,6,9,24,15,12]) # z = 3 * x "
   ]
  },
  {
   "cell_type": "code",
   "execution_count": 166,
   "id": "c2c796c3-79d6-4f1f-826d-444424261499",
   "metadata": {},
   "outputs": [
    {
     "data": {
      "text/plain": [
       "[<matplotlib.lines.Line2D at 0x7ad5d4507c40>]"
      ]
     },
     "execution_count": 166,
     "metadata": {},
     "output_type": "execute_result"
    },
    {
     "data": {
      "image/png": "[encoded data removed]",
      "text/plain": [
       "<Figure size 640x480 with 1 Axes>"
      ]
     },
     "metadata": {},
     "output_type": "display_data"
    }
   ],
   "source": [
    "plt.plot(x, y)"
   ]
  },
  {
   "cell_type": "code",
   "execution_count": 167,
   "id": "79ea6130-e44a-4d5b-a4f5-ee16917c46b3",
   "metadata": {},
   "outputs": [
    {
     "data": {
      "text/plain": [
       "[<matplotlib.lines.Line2D at 0x7ad5d45d69b0>]"
      ]
     },
     "execution_count": 167,
     "metadata": {},
     "output_type": "execute_result"
    },
    {
     "data": {
      "image/png": "[encoded data removed]",
      "text/plain": [
       "<Figure size 640x480 with 1 Axes>"
      ]
     },
     "metadata": {},
     "output_type": "display_data"
    }
   ],
   "source": [
    "plt.plot(x, z)"
   ]
  },
  {
   "cell_type": "code",
   "execution_count": null,
   "id": "5e15cd13-62db-4bb5-80ee-813997a7bb0b",
   "metadata": {},
   "outputs": [],
   "source": []
  }
 ],
 "metadata": {
  "kernelspec": {
   "display_name": "Python 3 (ipykernel)",
   "language": "python",
   "name": "python3"
  },
  "language_info": {
   "codemirror_mode": {
    "name": "ipython",
    "version": 3
   },
   "file_extension": ".py",
   "mimetype": "text/x-python",
   "name": "python",
   "nbconvert_exporter": "python",
   "pygments_lexer": "ipython3",
   "version": "3.10.12"
  }
 },
 "nbformat": 4,
 "nbformat_minor": 5
}
