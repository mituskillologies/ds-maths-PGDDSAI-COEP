{
 "cells": [
  {
   "cell_type": "markdown",
   "id": "accb0fc5-f9e9-4dfb-808f-52ebfba2b133",
   "metadata": {},
   "source": [
    "#### Matrix Decomposition"
   ]
  },
  {
   "cell_type": "markdown",
   "id": "92318585-d046-4948-8c42-d96d104bb3a7",
   "metadata": {},
   "source": [
    "##### LU Decomposition"
   ]
  },
  {
   "cell_type": "code",
   "execution_count": 1,
   "id": "d2e78369-cb48-47e5-95ef-08fd37a7ff18",
   "metadata": {},
   "outputs": [],
   "source": [
    "import numpy as np\n",
    "from scipy.linalg import lu"
   ]
  },
  {
   "cell_type": "code",
   "execution_count": 2,
   "id": "3b3ef5a2-c779-4415-8b76-1c78323a1271",
   "metadata": {},
   "outputs": [],
   "source": [
    "# define the matrix\n",
    "M = np.array([[7,3,4],[2,1,4],[5,9,2]])"
   ]
  },
  {
   "cell_type": "code",
   "execution_count": 3,
   "id": "3d52b02a-2410-4d92-ab6c-78774d84be6c",
   "metadata": {},
   "outputs": [
    {
     "data": {
      "text/plain": [
       "array([[7, 3, 4],\n",
       "       [2, 1, 4],\n",
       "       [5, 9, 2]])"
      ]
     },
     "execution_count": 3,
     "metadata": {},
     "output_type": "execute_result"
    }
   ],
   "source": [
    "M"
   ]
  },
  {
   "cell_type": "code",
   "execution_count": 4,
   "id": "04d867ad-7a4e-42ca-93ca-c104379cc0a2",
   "metadata": {},
   "outputs": [
    {
     "name": "stdout",
     "output_type": "stream",
     "text": [
      "Help on function lu in module scipy.linalg._decomp_lu:\n",
      "\n",
      "lu(a, permute_l=False, overwrite_a=False, check_finite=True, p_indices=False)\n",
      "    Compute LU decomposition of a matrix with partial pivoting.\n",
      "    \n",
      "    The decomposition satisfies::\n",
      "    \n",
      "        A = P @ L @ U\n",
      "    \n",
      "    where ``P`` is a permutation matrix, ``L`` lower triangular with unit\n",
      "    diagonal elements, and ``U`` upper triangular. If `permute_l` is set to\n",
      "    ``True`` then ``L`` is returned already permuted and hence satisfying\n",
      "    ``A = L @ U``.\n",
      "    \n",
      "    Parameters\n",
      "    ----------\n",
      "    a : (M, N) array_like\n",
      "        Array to decompose\n",
      "    permute_l : bool, optional\n",
      "        Perform the multiplication P*L (Default: do not permute)\n",
      "    overwrite_a : bool, optional\n",
      "        Whether to overwrite data in a (may improve performance)\n",
      "    check_finite : bool, optional\n",
      "        Whether to check that the input matrix contains only finite numbers.\n",
      "        Disabling may give a performance gain, but may result in problems\n",
      "        (crashes, non-termination) if the inputs do contain infinities or NaNs.\n",
      "    p_indices : bool, optional\n",
      "        If ``True`` the permutation information is returned as row indices.\n",
      "        The default is ``False`` for backwards-compatibility reasons.\n",
      "    \n",
      "    Returns\n",
      "    -------\n",
      "    **(If `permute_l` is ``False``)**\n",
      "    \n",
      "    p : (..., M, M) ndarray\n",
      "        Permutation arrays or vectors depending on `p_indices`\n",
      "    l : (..., M, K) ndarray\n",
      "        Lower triangular or trapezoidal array with unit diagonal.\n",
      "        ``K = min(M, N)``\n",
      "    u : (..., K, N) ndarray\n",
      "        Upper triangular or trapezoidal array\n",
      "    \n",
      "    **(If `permute_l` is ``True``)**\n",
      "    \n",
      "    pl : (..., M, K) ndarray\n",
      "        Permuted L matrix.\n",
      "        ``K = min(M, N)``\n",
      "    u : (..., K, N) ndarray\n",
      "        Upper triangular or trapezoidal array\n",
      "    \n",
      "    Notes\n",
      "    -----\n",
      "    Permutation matrices are costly since they are nothing but row reorder of\n",
      "    ``L`` and hence indices are strongly recommended to be used instead if the\n",
      "    permutation is required. The relation in the 2D case then becomes simply\n",
      "    ``A = L[P, :] @ U``. In higher dimensions, it is better to use `permute_l`\n",
      "    to avoid complicated indexing tricks.\n",
      "    \n",
      "    In 2D case, if one has the indices however, for some reason, the\n",
      "    permutation matrix is still needed then it can be constructed by\n",
      "    ``np.eye(M)[P, :]``.\n",
      "    \n",
      "    Examples\n",
      "    --------\n",
      "    \n",
      "    >>> import numpy as np\n",
      "    >>> from scipy.linalg import lu\n",
      "    >>> A = np.array([[2, 5, 8, 7], [5, 2, 2, 8], [7, 5, 6, 6], [5, 4, 4, 8]])\n",
      "    >>> p, l, u = lu(A)\n",
      "    >>> np.allclose(A, p @ l @ u)\n",
      "    True\n",
      "    >>> p  # Permutation matrix\n",
      "    array([[0., 1., 0., 0.],  # Row index 1\n",
      "           [0., 0., 0., 1.],  # Row index 3\n",
      "           [1., 0., 0., 0.],  # Row index 0\n",
      "           [0., 0., 1., 0.]]) # Row index 2\n",
      "    >>> p, _, _ = lu(A, p_indices=True)\n",
      "    >>> p\n",
      "    array([1, 3, 0, 2])  # as given by row indices above\n",
      "    >>> np.allclose(A, l[p, :] @ u)\n",
      "    True\n",
      "    \n",
      "    We can also use nd-arrays, for example, a demonstration with 4D array:\n",
      "    \n",
      "    >>> rng = np.random.default_rng()\n",
      "    >>> A = rng.uniform(low=-4, high=4, size=[3, 2, 4, 8])\n",
      "    >>> p, l, u = lu(A)\n",
      "    >>> p.shape, l.shape, u.shape\n",
      "    ((3, 2, 4, 4), (3, 2, 4, 4), (3, 2, 4, 8))\n",
      "    >>> np.allclose(A, p @ l @ u)\n",
      "    True\n",
      "    >>> PL, U = lu(A, permute_l=True)\n",
      "    >>> np.allclose(A, PL @ U)\n",
      "    True\n",
      "\n"
     ]
    }
   ],
   "source": [
    "help(lu)"
   ]
  },
  {
   "cell_type": "code",
   "execution_count": 5,
   "id": "6b77533c-fc88-4470-9466-585e5bbe4be2",
   "metadata": {},
   "outputs": [],
   "source": [
    "P, L, U = lu(M)"
   ]
  },
  {
   "cell_type": "code",
   "execution_count": 6,
   "id": "77f2c989-8128-4438-b84d-4475dd9c56b7",
   "metadata": {},
   "outputs": [
    {
     "data": {
      "text/plain": [
       "array([[1., 0., 0.],\n",
       "       [0., 0., 1.],\n",
       "       [0., 1., 0.]])"
      ]
     },
     "execution_count": 6,
     "metadata": {},
     "output_type": "execute_result"
    }
   ],
   "source": [
    "P"
   ]
  },
  {
   "cell_type": "code",
   "execution_count": 7,
   "id": "d9325d08-630b-428b-ba9e-476292c78b8a",
   "metadata": {},
   "outputs": [
    {
     "data": {
      "text/plain": [
       "array([[1.        , 0.        , 0.        ],\n",
       "       [0.71428571, 1.        , 0.        ],\n",
       "       [0.28571429, 0.02083333, 1.        ]])"
      ]
     },
     "execution_count": 7,
     "metadata": {},
     "output_type": "execute_result"
    }
   ],
   "source": [
    "L"
   ]
  },
  {
   "cell_type": "code",
   "execution_count": 8,
   "id": "257a5d36-0a57-4b45-b72e-9cc2de572a49",
   "metadata": {},
   "outputs": [
    {
     "data": {
      "text/plain": [
       "array([[ 7.        ,  3.        ,  4.        ],\n",
       "       [ 0.        ,  6.85714286, -0.85714286],\n",
       "       [ 0.        ,  0.        ,  2.875     ]])"
      ]
     },
     "execution_count": 8,
     "metadata": {},
     "output_type": "execute_result"
    }
   ],
   "source": [
    "U"
   ]
  },
  {
   "cell_type": "code",
   "execution_count": 9,
   "id": "56503007-7d65-404a-9430-d31474dd3966",
   "metadata": {},
   "outputs": [
    {
     "data": {
      "text/plain": [
       "array([[7, 3, 4],\n",
       "       [2, 1, 4],\n",
       "       [5, 9, 2]])"
      ]
     },
     "execution_count": 9,
     "metadata": {},
     "output_type": "execute_result"
    }
   ],
   "source": [
    "M"
   ]
  },
  {
   "cell_type": "code",
   "execution_count": 10,
   "id": "5e3f21b2-3105-45d0-90ae-1b511550edf1",
   "metadata": {},
   "outputs": [
    {
     "data": {
      "text/plain": [
       "array([[7., 3., 4.],\n",
       "       [2., 1., 4.],\n",
       "       [5., 9., 2.]])"
      ]
     },
     "execution_count": 10,
     "metadata": {},
     "output_type": "execute_result"
    }
   ],
   "source": [
    "P @ L @ U"
   ]
  },
  {
   "cell_type": "markdown",
   "id": "83a4a9b6-4d72-4719-beb1-016800561353",
   "metadata": {},
   "source": [
    "##### QR Decomposition "
   ]
  },
  {
   "cell_type": "code",
   "execution_count": 11,
   "id": "125a3970-3430-40ff-a2f5-ad9fd27cdf46",
   "metadata": {},
   "outputs": [],
   "source": [
    "from scipy.linalg import qr"
   ]
  },
  {
   "cell_type": "code",
   "execution_count": 12,
   "id": "accc6e49-4edf-4540-a234-3d433825ec11",
   "metadata": {},
   "outputs": [],
   "source": [
    "M1 = np.array([[4,5,6],[7,1,2],[0,2,4],[8,7,1]])"
   ]
  },
  {
   "cell_type": "code",
   "execution_count": 13,
   "id": "24944c73-6adf-4893-82d3-752ac4f3a30c",
   "metadata": {},
   "outputs": [
    {
     "data": {
      "text/plain": [
       "array([[4, 5, 6],\n",
       "       [7, 1, 2],\n",
       "       [0, 2, 4],\n",
       "       [8, 7, 1]])"
      ]
     },
     "execution_count": 13,
     "metadata": {},
     "output_type": "execute_result"
    }
   ],
   "source": [
    "M1"
   ]
  },
  {
   "cell_type": "code",
   "execution_count": 14,
   "id": "18621a5d-f899-43f6-ab6c-8c2192cb4a19",
   "metadata": {},
   "outputs": [],
   "source": [
    "Q, R = qr(M1)"
   ]
  },
  {
   "cell_type": "code",
   "execution_count": 15,
   "id": "34b02879-dcf3-4d5c-82c2-354604d577d0",
   "metadata": {},
   "outputs": [
    {
     "data": {
      "text/plain": [
       "array([[-0.35218036,  0.47957987, -0.54518685, -0.59054503],\n",
       "       [-0.61631563, -0.69255624, -0.35167517,  0.12979012],\n",
       "       [-0.        ,  0.39530865, -0.49227747,  0.77549595],\n",
       "       [-0.70436073,  0.36619677,  0.5803092 ,  0.18170616]])"
      ]
     },
     "execution_count": 15,
     "metadata": {},
     "output_type": "execute_result"
    }
   ],
   "source": [
    "Q"
   ]
  },
  {
   "cell_type": "code",
   "execution_count": 16,
   "id": "68992dfe-2218-4e04-b8b6-3a1a2234cb41",
   "metadata": {},
   "outputs": [
    {
     "data": {
      "text/plain": [
       "array([[-11.35781669,  -7.30774252,  -4.05007417],\n",
       "       [  0.        ,   5.05933782,   3.43979813],\n",
       "       [  0.        ,   0.        ,  -5.36327214],\n",
       "       [  0.        ,   0.        ,   0.        ]])"
      ]
     },
     "execution_count": 16,
     "metadata": {},
     "output_type": "execute_result"
    }
   ],
   "source": [
    "R"
   ]
  },
  {
   "cell_type": "code",
   "execution_count": 17,
   "id": "5164dc0c-0707-4efe-9fa6-09f6f7cb82de",
   "metadata": {},
   "outputs": [
    {
     "data": {
      "text/plain": [
       "array([[4., 5., 6.],\n",
       "       [7., 1., 2.],\n",
       "       [0., 2., 4.],\n",
       "       [8., 7., 1.]])"
      ]
     },
     "execution_count": 17,
     "metadata": {},
     "output_type": "execute_result"
    }
   ],
   "source": [
    "Q @ R"
   ]
  },
  {
   "cell_type": "markdown",
   "id": "dcef6180-6eb1-4f14-9be8-9f6cc4fdb2b6",
   "metadata": {},
   "source": [
    "##### Pearson's Correlation"
   ]
  },
  {
   "cell_type": "code",
   "execution_count": 18,
   "id": "1f5b0d60-9597-41e9-b9c7-313c4413329f",
   "metadata": {},
   "outputs": [],
   "source": [
    "x = np.array([4,14,21,25,36,39,47,59,65,77])\n",
    "y = np.array([11,20,21,34,46,57,52,68,79,85])\n",
    "z = np.array([81,75,71,62,43,31,22,18,15,10])\n",
    "p = np.array([67,55,36,41,78,43,27,33,68,33])"
   ]
  },
  {
   "cell_type": "code",
   "execution_count": 19,
   "id": "3bcdfd79-ada2-41b8-a1fb-1d2ebae43b42",
   "metadata": {},
   "outputs": [
    {
     "data": {
      "text/plain": [
       "(10, 10, 10, 10)"
      ]
     },
     "execution_count": 19,
     "metadata": {},
     "output_type": "execute_result"
    }
   ],
   "source": [
    "len(x),len(y),len(z),len(p),"
   ]
  },
  {
   "cell_type": "code",
   "execution_count": 20,
   "id": "352cb1e6-5f16-4bf4-aff2-9d07f383335e",
   "metadata": {},
   "outputs": [],
   "source": [
    "import matplotlib.pyplot as plt"
   ]
  },
  {
   "cell_type": "code",
   "execution_count": 21,
   "id": "b92e9843-8f62-48d0-88b8-4f00f6f900ef",
   "metadata": {},
   "outputs": [
    {
     "data": {
      "text/plain": [
       "<matplotlib.collections.PathCollection at 0x7398f9ab5d20>"
      ]
     },
     "execution_count": 21,
     "metadata": {},
     "output_type": "execute_result"
    },
    {
     "data": {
      "image/png": "[encoded data removed]",
      "text/plain": [
       "<Figure size 640x480 with 1 Axes>"
      ]
     },
     "metadata": {},
     "output_type": "display_data"
    }
   ],
   "source": [
    "plt.scatter(x, y)"
   ]
  },
  {
   "cell_type": "code",
   "execution_count": 22,
   "id": "598507a4-28cf-460c-8ecc-cd102ff74c0c",
   "metadata": {},
   "outputs": [
    {
     "data": {
      "text/plain": [
       "[<matplotlib.lines.Line2D at 0x7398f99babc0>]"
      ]
     },
     "execution_count": 22,
     "metadata": {},
     "output_type": "execute_result"
    },
    {
     "data": {
      "image/png": "[encoded data removed]",
      "text/plain": [
       "<Figure size 640x480 with 1 Axes>"
      ]
     },
     "metadata": {},
     "output_type": "display_data"
    }
   ],
   "source": [
    "plt.plot(x, y)"
   ]
  },
  {
   "cell_type": "code",
   "execution_count": 23,
   "id": "445b9296-ff3a-449c-85e4-ee10ebd4f605",
   "metadata": {},
   "outputs": [
    {
     "data": {
      "text/plain": [
       "<matplotlib.collections.PathCollection at 0x7398f98520b0>"
      ]
     },
     "execution_count": 23,
     "metadata": {},
     "output_type": "execute_result"
    },
    {
     "data": {
      "image/png": "[encoded data removed]",
      "text/plain": [
       "<Figure size 640x480 with 1 Axes>"
      ]
     },
     "metadata": {},
     "output_type": "display_data"
    }
   ],
   "source": [
    "plt.scatter(x, z)"
   ]
  },
  {
   "cell_type": "code",
   "execution_count": 24,
   "id": "0a5089de-1a13-4cc0-8857-b4226a59b406",
   "metadata": {},
   "outputs": [
    {
     "data": {
      "text/plain": [
       "[<matplotlib.lines.Line2D at 0x7398f98d9990>]"
      ]
     },
     "execution_count": 24,
     "metadata": {},
     "output_type": "execute_result"
    },
    {
     "data": {
      "image/png": "[encoded data removed]",
      "text/plain": [
       "<Figure size 640x480 with 1 Axes>"
      ]
     },
     "metadata": {},
     "output_type": "display_data"
    }
   ],
   "source": [
    "plt.plot(x, p)"
   ]
  },
  {
   "cell_type": "code",
   "execution_count": 25,
   "id": "26c24a95-181e-4cb1-98c6-879bbd899ca2",
   "metadata": {},
   "outputs": [
    {
     "data": {
      "text/plain": [
       "array([[1.        , 0.98378874],\n",
       "       [0.98378874, 1.        ]])"
      ]
     },
     "execution_count": 25,
     "metadata": {},
     "output_type": "execute_result"
    }
   ],
   "source": [
    "np.corrcoef(x, y)"
   ]
  },
  {
   "cell_type": "code",
   "execution_count": 26,
   "id": "ef5a7a03-1ca3-46ab-b3fc-85107735720c",
   "metadata": {},
   "outputs": [
    {
     "data": {
      "text/plain": [
       "array([[ 1.        , -0.96296926],\n",
       "       [-0.96296926,  1.        ]])"
      ]
     },
     "execution_count": 26,
     "metadata": {},
     "output_type": "execute_result"
    }
   ],
   "source": [
    "np.corrcoef(x, z)"
   ]
  },
  {
   "cell_type": "code",
   "execution_count": 27,
   "id": "a93a7760-24b9-4583-937e-fa5391f7279e",
   "metadata": {},
   "outputs": [
    {
     "data": {
      "text/plain": [
       "array([[ 1.        , -0.30312765],\n",
       "       [-0.30312765,  1.        ]])"
      ]
     },
     "execution_count": 27,
     "metadata": {},
     "output_type": "execute_result"
    }
   ],
   "source": [
    "np.corrcoef(x, p)"
   ]
  },
  {
   "cell_type": "markdown",
   "id": "223eabd8-cc06-43e0-b170-d0c9a9f5c65a",
   "metadata": {},
   "source": [
    "##### Variance"
   ]
  },
  {
   "cell_type": "code",
   "execution_count": 28,
   "id": "e8bccbd5-c555-48b3-8c8f-45061ed37ea8",
   "metadata": {},
   "outputs": [],
   "source": [
    "v = np.array([23,54,12,67,52,58,37,11])"
   ]
  },
  {
   "cell_type": "code",
   "execution_count": 29,
   "id": "abdbc387-a8c3-45d8-82be-adb317e61d96",
   "metadata": {},
   "outputs": [
    {
     "data": {
      "text/plain": [
       "array([23, 54, 12, 67, 52, 58, 37, 11])"
      ]
     },
     "execution_count": 29,
     "metadata": {},
     "output_type": "execute_result"
    }
   ],
   "source": [
    "v"
   ]
  },
  {
   "attachments": {
    "a691e579-03ff-45df-a814-3c9bd1c8a05d.png": {
     "image/png": "[encoded data removed]"
    }
   },
   "cell_type": "markdown",
   "id": "5ac4ea89-24ae-4001-94ff-3cdaba07aec2",
   "metadata": {},
   "source": [
    "![image.png](attachment:a691e579-03ff-45df-a814-3c9bd1c8a05d.png)"
   ]
  },
  {
   "cell_type": "code",
   "execution_count": 30,
   "id": "a6b39206-bb25-4060-a7b4-d2349a68fbd0",
   "metadata": {},
   "outputs": [
    {
     "data": {
      "text/plain": [
       "array([-16.25,  14.75, -27.25,  27.75,  12.75,  18.75,  -2.25, -28.25])"
      ]
     },
     "execution_count": 30,
     "metadata": {},
     "output_type": "execute_result"
    }
   ],
   "source": [
    "v - v.mean()"
   ]
  },
  {
   "cell_type": "code",
   "execution_count": 31,
   "id": "263f2fa1-7d7c-402f-9c5e-336f340bab3b",
   "metadata": {},
   "outputs": [
    {
     "data": {
      "text/plain": [
       "array([264.0625, 217.5625, 742.5625, 770.0625, 162.5625, 351.5625,\n",
       "         5.0625, 798.0625])"
      ]
     },
     "execution_count": 31,
     "metadata": {},
     "output_type": "execute_result"
    }
   ],
   "source": [
    "(v - v.mean()) ** 2"
   ]
  },
  {
   "cell_type": "code",
   "execution_count": 32,
   "id": "136b4e33-5a33-4957-a4bd-acd4b1ef23a0",
   "metadata": {},
   "outputs": [
    {
     "data": {
      "text/plain": [
       "413.9375"
      ]
     },
     "execution_count": 32,
     "metadata": {},
     "output_type": "execute_result"
    }
   ],
   "source": [
    "np.sum((v - v.mean()) ** 2) / len(v)"
   ]
  },
  {
   "cell_type": "code",
   "execution_count": 33,
   "id": "31dc61d8-92f8-4c5c-a940-57754faa4124",
   "metadata": {},
   "outputs": [
    {
     "data": {
      "text/plain": [
       "496.21000000000004"
      ]
     },
     "execution_count": 33,
     "metadata": {},
     "output_type": "execute_result"
    }
   ],
   "source": [
    "np.sum((x - x.mean()) ** 2) / len(x)"
   ]
  },
  {
   "cell_type": "code",
   "execution_count": 34,
   "id": "28364696-e8bf-43a4-997b-eedb36c89efe",
   "metadata": {},
   "outputs": [
    {
     "data": {
      "text/plain": [
       "590.41"
      ]
     },
     "execution_count": 34,
     "metadata": {},
     "output_type": "execute_result"
    }
   ],
   "source": [
    "np.sum((y - y.mean()) ** 2) / len(y)"
   ]
  },
  {
   "cell_type": "code",
   "execution_count": 35,
   "id": "48e2a493-363c-4597-ac46-8cd1f5ce28ed",
   "metadata": {},
   "outputs": [
    {
     "data": {
      "text/plain": [
       "413.9375"
      ]
     },
     "execution_count": 35,
     "metadata": {},
     "output_type": "execute_result"
    }
   ],
   "source": [
    "v.var()"
   ]
  },
  {
   "cell_type": "markdown",
   "id": "0ad8050b-ec0f-4951-b02c-613939307c2f",
   "metadata": {},
   "source": [
    "##### Singular Value Decomposition"
   ]
  },
  {
   "cell_type": "code",
   "execution_count": 36,
   "id": "c63cd068-852e-457c-bc61-aee17f55a7f0",
   "metadata": {},
   "outputs": [],
   "source": [
    "from numpy.linalg import svd"
   ]
  },
  {
   "cell_type": "code",
   "execution_count": 37,
   "id": "a55ac88c-f484-45ab-8670-0e6c4c7b71e9",
   "metadata": {},
   "outputs": [],
   "source": [
    "A = np.array([[4,8,7],[2,9,1],[0,3,5]])"
   ]
  },
  {
   "cell_type": "code",
   "execution_count": 38,
   "id": "a30ffebb-4568-4c3a-ac07-a72ba193dd04",
   "metadata": {},
   "outputs": [
    {
     "data": {
      "text/plain": [
       "array([[4, 8, 7],\n",
       "       [2, 9, 1],\n",
       "       [0, 3, 5]])"
      ]
     },
     "execution_count": 38,
     "metadata": {},
     "output_type": "execute_result"
    }
   ],
   "source": [
    "A"
   ]
  },
  {
   "cell_type": "code",
   "execution_count": 39,
   "id": "4cb90e94-225f-4d3a-9ede-d267a5a6b115",
   "metadata": {},
   "outputs": [
    {
     "data": {
      "text/plain": [
       "(3, 3)"
      ]
     },
     "execution_count": 39,
     "metadata": {},
     "output_type": "execute_result"
    }
   ],
   "source": [
    "A.shape"
   ]
  },
  {
   "cell_type": "code",
   "execution_count": 40,
   "id": "9ba26312-7c5d-4894-868e-0a877ada5446",
   "metadata": {},
   "outputs": [],
   "source": [
    "U, V, DT = svd(A)"
   ]
  },
  {
   "cell_type": "code",
   "execution_count": 41,
   "id": "d2cb51be-dfe7-453e-aada-1242c5bbece5",
   "metadata": {},
   "outputs": [
    {
     "name": "stdout",
     "output_type": "stream",
     "text": [
      "Original Matrix:\n",
      " [[4 8 7]\n",
      " [2 9 1]\n",
      " [0 3 5]]\n"
     ]
    }
   ],
   "source": [
    "print('Original Matrix:\\n', A)"
   ]
  },
  {
   "cell_type": "code",
   "execution_count": 42,
   "id": "b90d6703-f3ad-4bd5-926d-8f07e753e23f",
   "metadata": {},
   "outputs": [
    {
     "name": "stdout",
     "output_type": "stream",
     "text": [
      "Left Singular:\n",
      " [[ 0.75309124 -0.33781831 -0.56456388]\n",
      " [ 0.5661808   0.76983773  0.29460001]\n",
      " [ 0.33510129 -0.54150592  0.77102429]]\n"
     ]
    }
   ],
   "source": [
    "print('Left Singular:\\n', U)"
   ]
  },
  {
   "cell_type": "code",
   "execution_count": 43,
   "id": "25f9552f-1b20-4a47-8b1c-c07766ab16f3",
   "metadata": {},
   "outputs": [
    {
     "name": "stdout",
     "output_type": "stream",
     "text": [
      "Singular:\n",
      " [14.85464512  5.03130077  1.73940531]\n"
     ]
    }
   ],
   "source": [
    "print('Singular:\\n', V)"
   ]
  },
  {
   "cell_type": "code",
   "execution_count": 44,
   "id": "185d87de-6316-40be-8b14-479ab64c5874",
   "metadata": {},
   "outputs": [
    {
     "name": "stdout",
     "output_type": "stream",
     "text": [
      "Right Singular:\n",
      " [[ 0.27901889  0.81628749  0.50578966]\n",
      " [ 0.03744603  0.51705821 -0.85513075]\n",
      " [-0.95955524  0.25753745  0.11370228]]\n"
     ]
    }
   ],
   "source": [
    "print('Right Singular:\\n', DT)"
   ]
  },
  {
   "cell_type": "code",
   "execution_count": 45,
   "id": "410d87fd-eacb-45f5-a57c-d63d9ce5bc5c",
   "metadata": {},
   "outputs": [],
   "source": [
    "# Reconstruct the matrix\n",
    "sigma = np.zeros((A.shape[0], A.shape[1]))"
   ]
  },
  {
   "cell_type": "code",
   "execution_count": 46,
   "id": "d4217298-6298-4650-82b2-cd3f83316abd",
   "metadata": {},
   "outputs": [
    {
     "data": {
      "text/plain": [
       "array([[0., 0., 0.],\n",
       "       [0., 0., 0.],\n",
       "       [0., 0., 0.]])"
      ]
     },
     "execution_count": 46,
     "metadata": {},
     "output_type": "execute_result"
    }
   ],
   "source": [
    "sigma"
   ]
  },
  {
   "cell_type": "code",
   "execution_count": 47,
   "id": "73f3d11e-b97a-4c56-ac6c-fc55f78a8c0d",
   "metadata": {},
   "outputs": [],
   "source": [
    "np.fill_diagonal(sigma, V)"
   ]
  },
  {
   "cell_type": "code",
   "execution_count": 48,
   "id": "2588aeb5-e71e-496d-8d38-7cadaf67877c",
   "metadata": {},
   "outputs": [
    {
     "data": {
      "text/plain": [
       "array([[14.85464512,  0.        ,  0.        ],\n",
       "       [ 0.        ,  5.03130077,  0.        ],\n",
       "       [ 0.        ,  0.        ,  1.73940531]])"
      ]
     },
     "execution_count": 48,
     "metadata": {},
     "output_type": "execute_result"
    }
   ],
   "source": [
    "sigma"
   ]
  },
  {
   "cell_type": "code",
   "execution_count": 49,
   "id": "39bad92f-e4bb-4cb6-8ec8-5a1653870f3e",
   "metadata": {},
   "outputs": [
    {
     "data": {
      "text/plain": [
       "array([[ 4.14472658, 12.12566106,  7.51332598],\n",
       "       [ 0.18840223,  2.60147535, -4.30242002],\n",
       "       [-1.66905548,  0.447962  ,  0.19777435]])"
      ]
     },
     "execution_count": 49,
     "metadata": {},
     "output_type": "execute_result"
    }
   ],
   "source": [
    "np.dot(sigma, DT)"
   ]
  },
  {
   "cell_type": "code",
   "execution_count": 50,
   "id": "b90df38b-cd8a-4c30-819b-3bc27d872ead",
   "metadata": {},
   "outputs": [],
   "source": [
    "A_reconstructed = np.dot(U, np.dot(sigma, DT))"
   ]
  },
  {
   "cell_type": "code",
   "execution_count": 51,
   "id": "4485b67f-a666-414e-a178-ab0ed4b12716",
   "metadata": {},
   "outputs": [
    {
     "data": {
      "text/plain": [
       "array([[4.0000000e+00, 8.0000000e+00, 7.0000000e+00],\n",
       "       [2.0000000e+00, 9.0000000e+00, 1.0000000e+00],\n",
       "       [4.4408921e-16, 3.0000000e+00, 5.0000000e+00]])"
      ]
     },
     "execution_count": 51,
     "metadata": {},
     "output_type": "execute_result"
    }
   ],
   "source": [
    "A_reconstructed"
   ]
  },
  {
   "cell_type": "code",
   "execution_count": 52,
   "id": "90b98bf0-65a7-4b12-b1b8-95b9b95d75fc",
   "metadata": {},
   "outputs": [
    {
     "data": {
      "text/plain": [
       "dtype('float64')"
      ]
     },
     "execution_count": 52,
     "metadata": {},
     "output_type": "execute_result"
    }
   ],
   "source": [
    "A_reconstructed.dtype"
   ]
  },
  {
   "cell_type": "code",
   "execution_count": 53,
   "id": "740e1594-f69f-4d60-8595-e4329df5132d",
   "metadata": {},
   "outputs": [
    {
     "data": {
      "text/plain": [
       "array([[4, 8, 6],\n",
       "       [2, 9, 1],\n",
       "       [0, 3, 5]], dtype=int16)"
      ]
     },
     "execution_count": 53,
     "metadata": {},
     "output_type": "execute_result"
    }
   ],
   "source": [
    "A_reconstructed.astype(np.int16)"
   ]
  },
  {
   "cell_type": "code",
   "execution_count": 54,
   "id": "54f51d03-9677-4eb7-b837-5914ed07171e",
   "metadata": {},
   "outputs": [
    {
     "data": {
      "text/plain": [
       "array([[4, 8, 7],\n",
       "       [2, 9, 1],\n",
       "       [0, 3, 5]])"
      ]
     },
     "execution_count": 54,
     "metadata": {},
     "output_type": "execute_result"
    }
   ],
   "source": [
    "A"
   ]
  },
  {
   "cell_type": "markdown",
   "id": "cde9a7d6-4897-4c08-89b1-09a82cf7971d",
   "metadata": {},
   "source": [
    "##### Standardization"
   ]
  },
  {
   "cell_type": "code",
   "execution_count": 55,
   "id": "e97e4f2c-aa9d-4faa-8e51-f8830fa9edc6",
   "metadata": {},
   "outputs": [],
   "source": [
    "D = np.array([[2,56000,56],[7,45780,61],[6,67800,66],[5,78234,64],[4,63400,72]])"
   ]
  },
  {
   "cell_type": "code",
   "execution_count": 56,
   "id": "466d21f3-510b-43f3-9605-b93f73b76f00",
   "metadata": {},
   "outputs": [
    {
     "data": {
      "text/plain": [
       "array([[    2, 56000,    56],\n",
       "       [    7, 45780,    61],\n",
       "       [    6, 67800,    66],\n",
       "       [    5, 78234,    64],\n",
       "       [    4, 63400,    72]])"
      ]
     },
     "execution_count": 56,
     "metadata": {},
     "output_type": "execute_result"
    }
   ],
   "source": [
    "D"
   ]
  },
  {
   "cell_type": "code",
   "execution_count": 57,
   "id": "c6eb532c-1ba6-4d42-9023-4d19dc62490d",
   "metadata": {},
   "outputs": [
    {
     "data": {
      "text/plain": [
       "1.7204650534085253"
      ]
     },
     "execution_count": 57,
     "metadata": {},
     "output_type": "execute_result"
    }
   ],
   "source": [
    "D[:,0].std()"
   ]
  },
  {
   "cell_type": "code",
   "execution_count": 58,
   "id": "3306223e-7dd4-4c98-bda5-ffbf3d4a4aad",
   "metadata": {},
   "outputs": [
    {
     "data": {
      "text/plain": [
       "10935.596890888033"
      ]
     },
     "execution_count": 58,
     "metadata": {},
     "output_type": "execute_result"
    }
   ],
   "source": [
    "D[:,1].std()"
   ]
  },
  {
   "cell_type": "code",
   "execution_count": 59,
   "id": "f01a5cab-3e27-40e3-95ac-6ed74bb5e0ae",
   "metadata": {},
   "outputs": [
    {
     "data": {
      "text/plain": [
       "5.30659966456864"
      ]
     },
     "execution_count": 59,
     "metadata": {},
     "output_type": "execute_result"
    }
   ],
   "source": [
    "D[:,2].std()"
   ]
  },
  {
   "cell_type": "code",
   "execution_count": 60,
   "id": "0b78a93b-9f41-44d6-b6be-6f143acb5faa",
   "metadata": {},
   "outputs": [
    {
     "data": {
      "text/plain": [
       "array([1.72046505e+00, 1.09355969e+04, 5.30659966e+00])"
      ]
     },
     "execution_count": 60,
     "metadata": {},
     "output_type": "execute_result"
    }
   ],
   "source": [
    "np.std(D, axis=0)"
   ]
  },
  {
   "cell_type": "code",
   "execution_count": 61,
   "id": "fe1b9b24-2552-4a4f-b1d0-6430b6689d9b",
   "metadata": {},
   "outputs": [],
   "source": [
    "std = np.std(D, axis=0)\n",
    "mean = np.mean(D, axis=0)"
   ]
  },
  {
   "cell_type": "code",
   "execution_count": 62,
   "id": "f9268fed-a67b-4a90-996d-52b095f108e4",
   "metadata": {},
   "outputs": [],
   "source": [
    "D_standardized = (D - mean) / std"
   ]
  },
  {
   "cell_type": "code",
   "execution_count": 63,
   "id": "1f2cb784-b0ba-4fd6-bf57-56470c3c92e3",
   "metadata": {},
   "outputs": [
    {
     "data": {
      "text/plain": [
       "array([[-1.62746694, -0.57086962, -1.4698678 ],\n",
       "       [ 1.27872403, -1.50543223, -0.52764485],\n",
       "       [ 0.69748583,  0.50817528,  0.4145781 ],\n",
       "       [ 0.11624764,  1.46230701,  0.03768892],\n",
       "       [-0.46499055,  0.10581956,  1.54524564]])"
      ]
     },
     "execution_count": 63,
     "metadata": {},
     "output_type": "execute_result"
    }
   ],
   "source": [
    "D_standardized"
   ]
  },
  {
   "cell_type": "code",
   "execution_count": 64,
   "id": "cfec0aa5-9a41-4279-983f-7f30b880c408",
   "metadata": {},
   "outputs": [
    {
     "data": {
      "text/plain": [
       "array([1., 1., 1.])"
      ]
     },
     "execution_count": 64,
     "metadata": {},
     "output_type": "execute_result"
    }
   ],
   "source": [
    "np.std(D_standardized, axis=0)"
   ]
  },
  {
   "cell_type": "code",
   "execution_count": 65,
   "id": "e3b5b4b4-e4a0-4306-97b4-a1556cf322a0",
   "metadata": {},
   "outputs": [
    {
     "data": {
      "text/plain": [
       "array([ 1.44328993e-16, -2.49800181e-16,  5.32907052e-16])"
      ]
     },
     "execution_count": 65,
     "metadata": {},
     "output_type": "execute_result"
    }
   ],
   "source": [
    "np.mean(D_standardized, axis=0)"
   ]
  },
  {
   "cell_type": "markdown",
   "id": "1f443739-6658-44d4-86e5-4f5bb564842d",
   "metadata": {},
   "source": [
    "##### Covariance"
   ]
  },
  {
   "cell_type": "code",
   "execution_count": 66,
   "id": "cfa95062-10f4-4ec5-87f2-1ab04562c165",
   "metadata": {},
   "outputs": [],
   "source": [
    "cov = np.cov(D_standardized)"
   ]
  },
  {
   "cell_type": "code",
   "execution_count": 67,
   "id": "e3506597-9e1c-4dd4-ab5b-778666952b03",
   "metadata": {},
   "outputs": [
    {
     "data": {
      "text/plain": [
       "array([[ 0.32490552, -0.68424055, -0.02674456,  0.44843184, -0.06235225],\n",
       "       [-0.68424055,  1.99509379,  0.15776462, -0.83311786, -0.6355    ],\n",
       "       [-0.02674456,  0.15776462,  0.02077262, -0.01654302, -0.13524966],\n",
       "       [ 0.44843184, -0.83311786, -0.01654302,  0.641264  , -0.24003495],\n",
       "       [-0.06235225, -0.6355    , -0.13524966, -0.24003495,  1.07313687]])"
      ]
     },
     "execution_count": 67,
     "metadata": {},
     "output_type": "execute_result"
    }
   ],
   "source": [
    "cov"
   ]
  },
  {
   "cell_type": "markdown",
   "id": "00d6d5b4-8dee-492c-b8b9-384b11fcf45b",
   "metadata": {},
   "source": [
    "##### Principal Component Analysis"
   ]
  },
  {
   "cell_type": "code",
   "execution_count": 68,
   "id": "772fb0c6-22ad-400a-87b2-d61771bab620",
   "metadata": {},
   "outputs": [],
   "source": [
    "D = np.array([[2,56000,56],[7,45780,61],[6,67800,66],[5,78234,64],[4,63400,72]])"
   ]
  },
  {
   "cell_type": "code",
   "execution_count": 69,
   "id": "529a5a87-ec9f-4570-858d-762e49316992",
   "metadata": {},
   "outputs": [
    {
     "data": {
      "text/plain": [
       "array([[    2, 56000,    56],\n",
       "       [    7, 45780,    61],\n",
       "       [    6, 67800,    66],\n",
       "       [    5, 78234,    64],\n",
       "       [    4, 63400,    72]])"
      ]
     },
     "execution_count": 69,
     "metadata": {},
     "output_type": "execute_result"
    }
   ],
   "source": [
    "D"
   ]
  },
  {
   "cell_type": "markdown",
   "id": "87046a6a-2a8e-489d-8471-46cdc6dc0c12",
   "metadata": {},
   "source": [
    "###### 1. Standardize the data"
   ]
  },
  {
   "cell_type": "code",
   "execution_count": 70,
   "id": "4b03af8f-08ca-4c51-8898-52b33a543419",
   "metadata": {},
   "outputs": [],
   "source": [
    "std = np.std(D, axis=0)\n",
    "mean = np.mean(D, axis=0)\n",
    "\n",
    "D_standardized = (D - mean) / std"
   ]
  },
  {
   "cell_type": "code",
   "execution_count": 71,
   "id": "b468ef1b-4a25-4318-8e79-e927bef0269f",
   "metadata": {},
   "outputs": [
    {
     "data": {
      "text/plain": [
       "array([[-1.62746694, -0.57086962, -1.4698678 ],\n",
       "       [ 1.27872403, -1.50543223, -0.52764485],\n",
       "       [ 0.69748583,  0.50817528,  0.4145781 ],\n",
       "       [ 0.11624764,  1.46230701,  0.03768892],\n",
       "       [-0.46499055,  0.10581956,  1.54524564]])"
      ]
     },
     "execution_count": 71,
     "metadata": {},
     "output_type": "execute_result"
    }
   ],
   "source": [
    "D_standardized"
   ]
  },
  {
   "cell_type": "markdown",
   "id": "9293f2bd-45c2-4d82-95c7-7cd747aea8b9",
   "metadata": {},
   "source": [
    "###### 2. Compute the covariance matrix"
   ]
  },
  {
   "cell_type": "code",
   "execution_count": 72,
   "id": "36296a4a-a995-4026-8efc-3b70266d88ff",
   "metadata": {},
   "outputs": [],
   "source": [
    "covariance_matrix = np.cov(D_standardized.T)"
   ]
  },
  {
   "cell_type": "code",
   "execution_count": 73,
   "id": "3c590133-cbc1-4361-a36c-3ff62b3e3b0c",
   "metadata": {},
   "outputs": [
    {
     "name": "stdout",
     "output_type": "stream",
     "text": [
      "Covariance Matrix:\n",
      " [[ 1.25       -0.13018281  0.32311702]\n",
      " [-0.13018281  1.25        0.51568619]\n",
      " [ 0.32311702  0.51568619  1.25      ]]\n"
     ]
    }
   ],
   "source": [
    "print('Covariance Matrix:\\n', covariance_matrix)"
   ]
  },
  {
   "cell_type": "markdown",
   "id": "1410ec94-3296-483a-9cdf-0f4e1d731f3c",
   "metadata": {},
   "source": [
    "###### 3. Compute eigenvalues and eigenvectors"
   ]
  },
  {
   "cell_type": "code",
   "execution_count": 74,
   "id": "8cc65e6e-cf71-4e11-afd2-bc4aad763840",
   "metadata": {},
   "outputs": [],
   "source": [
    "eigenvalues, eigenvectors = np.linalg.eig(covariance_matrix)"
   ]
  },
  {
   "cell_type": "code",
   "execution_count": 75,
   "id": "524b09e9-3ded-49bf-84f9-fb0e39c4d36a",
   "metadata": {},
   "outputs": [
    {
     "name": "stdout",
     "output_type": "stream",
     "text": [
      "Eigenvalues:\n",
      " [0.57781958 1.3660572  1.80612323]\n"
     ]
    }
   ],
   "source": [
    "print('Eigenvalues:\\n', eigenvalues)"
   ]
  },
  {
   "cell_type": "code",
   "execution_count": 76,
   "id": "ae3d2000-4531-426c-a244-93fe205f1a4c",
   "metadata": {},
   "outputs": [
    {
     "name": "stdout",
     "output_type": "stream",
     "text": [
      "Eigenvectors:\n",
      " [[ 0.438179    0.8531224   0.2831631 ]\n",
      " [ 0.59902804 -0.51201046  0.61563844]\n",
      " [-0.67019741  0.1001372   0.73539647]]\n"
     ]
    }
   ],
   "source": [
    "print('Eigenvectors:\\n', eigenvectors)"
   ]
  },
  {
   "cell_type": "markdown",
   "id": "2ed3b7b6-4c63-4cd9-8ded-3f0a626a11f2",
   "metadata": {},
   "source": [
    "###### 4. Sort the eigenvalues and eigenvectors"
   ]
  },
  {
   "cell_type": "code",
   "execution_count": 77,
   "id": "35ad633e-14c1-4c56-aecc-60bc8f02eba3",
   "metadata": {},
   "outputs": [],
   "source": [
    "sorted_index = np.argsort(eigenvalues)[::-1]"
   ]
  },
  {
   "cell_type": "code",
   "execution_count": 78,
   "id": "1823b87d-c98c-4b7c-9ea5-a730660f065b",
   "metadata": {},
   "outputs": [
    {
     "data": {
      "text/plain": [
       "array([2, 1, 0])"
      ]
     },
     "execution_count": 78,
     "metadata": {},
     "output_type": "execute_result"
    }
   ],
   "source": [
    "sorted_index"
   ]
  },
  {
   "cell_type": "code",
   "execution_count": 79,
   "id": "724d954d-57b7-41ce-982e-3200f06727b3",
   "metadata": {},
   "outputs": [
    {
     "data": {
      "text/plain": [
       "array([0.57781958, 1.3660572 , 1.80612323])"
      ]
     },
     "execution_count": 79,
     "metadata": {},
     "output_type": "execute_result"
    }
   ],
   "source": [
    "eigenvalues"
   ]
  },
  {
   "cell_type": "code",
   "execution_count": 80,
   "id": "b9db3216-263e-447b-83cf-d7d5f17c192a",
   "metadata": {},
   "outputs": [
    {
     "data": {
      "text/plain": [
       "array([1.80612323, 1.3660572 , 0.57781958])"
      ]
     },
     "execution_count": 80,
     "metadata": {},
     "output_type": "execute_result"
    }
   ],
   "source": [
    "sorted_eigenvalues = eigenvalues[sorted_index]\n",
    "sorted_eigenvalues"
   ]
  },
  {
   "cell_type": "code",
   "execution_count": 81,
   "id": "b2563eb3-e61b-4df8-8e2c-d12fb6491c2c",
   "metadata": {},
   "outputs": [
    {
     "data": {
      "text/plain": [
       "array([[ 0.2831631 ,  0.8531224 ,  0.438179  ],\n",
       "       [ 0.61563844, -0.51201046,  0.59902804],\n",
       "       [ 0.73539647,  0.1001372 , -0.67019741]])"
      ]
     },
     "execution_count": 81,
     "metadata": {},
     "output_type": "execute_result"
    }
   ],
   "source": [
    "sorted_eigenvectors = eigenvectors[:, sorted_index]\n",
    "sorted_eigenvectors"
   ]
  },
  {
   "cell_type": "markdown",
   "id": "3f2d8e57-e909-4049-aafa-bf6544cde944",
   "metadata": {},
   "source": [
    "###### 5. Combine the feature vectors"
   ]
  },
  {
   "cell_type": "code",
   "execution_count": 82,
   "id": "39f750a6-21fb-4d79-bf15-fcfdead55797",
   "metadata": {},
   "outputs": [],
   "source": [
    "D_pca = np.dot(D_standardized, sorted_eigenvectors)"
   ]
  },
  {
   "cell_type": "code",
   "execution_count": 83,
   "id": "0885d1d7-29cf-4e32-b096-8ef6735118cc",
   "metadata": {},
   "outputs": [
    {
     "data": {
      "text/plain": [
       "array([[-1.89322346, -1.24332573, -0.06998714],\n",
       "       [-0.95274266,  1.80886828,  0.01214011],\n",
       "       [ 0.81523376,  0.37636442,  0.33218572],\n",
       "       [ 0.96088575, -0.64576896,  0.90164116],\n",
       "       [ 1.06984661, -0.29613801, -1.17597984]])"
      ]
     },
     "execution_count": 83,
     "metadata": {},
     "output_type": "execute_result"
    }
   ],
   "source": [
    "D_pca"
   ]
  },
  {
   "cell_type": "markdown",
   "id": "185668c7-793b-4388-a9cb-5982518bbdbd",
   "metadata": {},
   "source": [
    "##### PCA using Python Library"
   ]
  },
  {
   "cell_type": "code",
   "execution_count": 84,
   "id": "2308c4c0-a27f-4275-b46f-87970914c19b",
   "metadata": {},
   "outputs": [],
   "source": [
    "# Dataset: wisc_bc_data.csv\n",
    "# Location: https://mitu.co.in/dataset"
   ]
  },
  {
   "cell_type": "code",
   "execution_count": 85,
   "id": "3a59fbc9-a32f-4804-92de-366f010270f1",
   "metadata": {},
   "outputs": [
    {
     "data": {
      "text/plain": [
       "'/home/mitu/Documents/study/Data Science/pgduasp/Programs-Apr24'"
      ]
     },
     "execution_count": 85,
     "metadata": {},
     "output_type": "execute_result"
    }
   ],
   "source": [
    "import os\n",
    "os.getcwd()"
   ]
  },
  {
   "cell_type": "code",
   "execution_count": 86,
   "id": "5e5720fd-d681-4e1c-b3bc-c02bd910a342",
   "metadata": {},
   "outputs": [],
   "source": [
    "import pandas as pd"
   ]
  },
  {
   "cell_type": "code",
   "execution_count": 87,
   "id": "427024b0-dd40-4bd8-9180-9033e0131d24",
   "metadata": {},
   "outputs": [],
   "source": [
    "df = pd.read_csv('wisc_bc_data.csv')"
   ]
  },
  {
   "cell_type": "code",
   "execution_count": 88,
   "id": "30872d33-1549-4951-b2e1-7e10e4ff06c4",
   "metadata": {},
   "outputs": [
    {
     "data": {
      "text/html": [
       "<div>\n",
       "<style scoped>\n",
       "    .dataframe tbody tr th:only-of-type {\n",
       "        vertical-align: middle;\n",
       "    }\n",
       "\n",
       "    .dataframe tbody tr th {\n",
       "        vertical-align: top;\n",
       "    }\n",
       "\n",
       "    .dataframe thead th {\n",
       "        text-align: right;\n",
       "    }\n",
       "</style>\n",
       "<table border=\"1\" class=\"dataframe\">\n",
       "  <thead>\n",
       "    <tr style=\"text-align: right;\">\n",
       "      <th></th>\n",
       "      <th>id</th>\n",
       "      <th>diagnosis</th>\n",
       "      <th>radius_mean</th>\n",
       "      <th>texture_mean</th>\n",
       "      <th>perimeter_mean</th>\n",
       "      <th>area_mean</th>\n",
       "      <th>smoothness_mean</th>\n",
       "      <th>compactness_mean</th>\n",
       "      <th>concavity_mean</th>\n",
       "      <th>concave points_mean</th>\n",
       "      <th>...</th>\n",
       "      <th>radius_worst</th>\n",
       "      <th>texture_worst</th>\n",
       "      <th>perimeter_worst</th>\n",
       "      <th>area_worst</th>\n",
       "      <th>smoothness_worst</th>\n",
       "      <th>compactness_worst</th>\n",
       "      <th>concavity_worst</th>\n",
       "      <th>concave points_worst</th>\n",
       "      <th>symmetry_worst</th>\n",
       "      <th>fractal_dimension_worst</th>\n",
       "    </tr>\n",
       "  </thead>\n",
       "  <tbody>\n",
       "    <tr>\n",
       "      <th>0</th>\n",
       "      <td>842302</td>\n",
       "      <td>M</td>\n",
       "      <td>17.99</td>\n",
       "      <td>10.38</td>\n",
       "      <td>122.80</td>\n",
       "      <td>1001.0</td>\n",
       "      <td>0.11840</td>\n",
       "      <td>0.27760</td>\n",
       "      <td>0.30010</td>\n",
       "      <td>0.14710</td>\n",
       "      <td>...</td>\n",
       "      <td>25.380</td>\n",
       "      <td>17.33</td>\n",
       "      <td>184.60</td>\n",
       "      <td>2019.0</td>\n",
       "      <td>0.16220</td>\n",
       "      <td>0.66560</td>\n",
       "      <td>0.7119</td>\n",
       "      <td>0.2654</td>\n",
       "      <td>0.4601</td>\n",
       "      <td>0.11890</td>\n",
       "    </tr>\n",
       "    <tr>\n",
       "      <th>1</th>\n",
       "      <td>842517</td>\n",
       "      <td>M</td>\n",
       "      <td>20.57</td>\n",
       "      <td>17.77</td>\n",
       "      <td>132.90</td>\n",
       "      <td>1326.0</td>\n",
       "      <td>0.08474</td>\n",
       "      <td>0.07864</td>\n",
       "      <td>0.08690</td>\n",
       "      <td>0.07017</td>\n",
       "      <td>...</td>\n",
       "      <td>24.990</td>\n",
       "      <td>23.41</td>\n",
       "      <td>158.80</td>\n",
       "      <td>1956.0</td>\n",
       "      <td>0.12380</td>\n",
       "      <td>0.18660</td>\n",
       "      <td>0.2416</td>\n",
       "      <td>0.1860</td>\n",
       "      <td>0.2750</td>\n",
       "      <td>0.08902</td>\n",
       "    </tr>\n",
       "    <tr>\n",
       "      <th>2</th>\n",
       "      <td>84300903</td>\n",
       "      <td>M</td>\n",
       "      <td>19.69</td>\n",
       "      <td>21.25</td>\n",
       "      <td>130.00</td>\n",
       "      <td>1203.0</td>\n",
       "      <td>0.10960</td>\n",
       "      <td>0.15990</td>\n",
       "      <td>0.19740</td>\n",
       "      <td>0.12790</td>\n",
       "      <td>...</td>\n",
       "      <td>23.570</td>\n",
       "      <td>25.53</td>\n",
       "      <td>152.50</td>\n",
       "      <td>1709.0</td>\n",
       "      <td>0.14440</td>\n",
       "      <td>0.42450</td>\n",
       "      <td>0.4504</td>\n",
       "      <td>0.2430</td>\n",
       "      <td>0.3613</td>\n",
       "      <td>0.08758</td>\n",
       "    </tr>\n",
       "    <tr>\n",
       "      <th>3</th>\n",
       "      <td>84348301</td>\n",
       "      <td>M</td>\n",
       "      <td>11.42</td>\n",
       "      <td>20.38</td>\n",
       "      <td>77.58</td>\n",
       "      <td>386.1</td>\n",
       "      <td>0.14250</td>\n",
       "      <td>0.28390</td>\n",
       "      <td>0.24140</td>\n",
       "      <td>0.10520</td>\n",
       "      <td>...</td>\n",
       "      <td>14.910</td>\n",
       "      <td>26.50</td>\n",
       "      <td>98.87</td>\n",
       "      <td>567.7</td>\n",
       "      <td>0.20980</td>\n",
       "      <td>0.86630</td>\n",
       "      <td>0.6869</td>\n",
       "      <td>0.2575</td>\n",
       "      <td>0.6638</td>\n",
       "      <td>0.17300</td>\n",
       "    </tr>\n",
       "    <tr>\n",
       "      <th>4</th>\n",
       "      <td>84358402</td>\n",
       "      <td>M</td>\n",
       "      <td>20.29</td>\n",
       "      <td>14.34</td>\n",
       "      <td>135.10</td>\n",
       "      <td>1297.0</td>\n",
       "      <td>0.10030</td>\n",
       "      <td>0.13280</td>\n",
       "      <td>0.19800</td>\n",
       "      <td>0.10430</td>\n",
       "      <td>...</td>\n",
       "      <td>22.540</td>\n",
       "      <td>16.67</td>\n",
       "      <td>152.20</td>\n",
       "      <td>1575.0</td>\n",
       "      <td>0.13740</td>\n",
       "      <td>0.20500</td>\n",
       "      <td>0.4000</td>\n",
       "      <td>0.1625</td>\n",
       "      <td>0.2364</td>\n",
       "      <td>0.07678</td>\n",
       "    </tr>\n",
       "    <tr>\n",
       "      <th>...</th>\n",
       "      <td>...</td>\n",
       "      <td>...</td>\n",
       "      <td>...</td>\n",
       "      <td>...</td>\n",
       "      <td>...</td>\n",
       "      <td>...</td>\n",
       "      <td>...</td>\n",
       "      <td>...</td>\n",
       "      <td>...</td>\n",
       "      <td>...</td>\n",
       "      <td>...</td>\n",
       "      <td>...</td>\n",
       "      <td>...</td>\n",
       "      <td>...</td>\n",
       "      <td>...</td>\n",
       "      <td>...</td>\n",
       "      <td>...</td>\n",
       "      <td>...</td>\n",
       "      <td>...</td>\n",
       "      <td>...</td>\n",
       "      <td>...</td>\n",
       "    </tr>\n",
       "    <tr>\n",
       "      <th>564</th>\n",
       "      <td>926424</td>\n",
       "      <td>M</td>\n",
       "      <td>21.56</td>\n",
       "      <td>22.39</td>\n",
       "      <td>142.00</td>\n",
       "      <td>1479.0</td>\n",
       "      <td>0.11100</td>\n",
       "      <td>0.11590</td>\n",
       "      <td>0.24390</td>\n",
       "      <td>0.13890</td>\n",
       "      <td>...</td>\n",
       "      <td>25.450</td>\n",
       "      <td>26.40</td>\n",
       "      <td>166.10</td>\n",
       "      <td>2027.0</td>\n",
       "      <td>0.14100</td>\n",
       "      <td>0.21130</td>\n",
       "      <td>0.4107</td>\n",
       "      <td>0.2216</td>\n",
       "      <td>0.2060</td>\n",
       "      <td>0.07115</td>\n",
       "    </tr>\n",
       "    <tr>\n",
       "      <th>565</th>\n",
       "      <td>926682</td>\n",
       "      <td>M</td>\n",
       "      <td>20.13</td>\n",
       "      <td>28.25</td>\n",
       "      <td>131.20</td>\n",
       "      <td>1261.0</td>\n",
       "      <td>0.09780</td>\n",
       "      <td>0.10340</td>\n",
       "      <td>0.14400</td>\n",
       "      <td>0.09791</td>\n",
       "      <td>...</td>\n",
       "      <td>23.690</td>\n",
       "      <td>38.25</td>\n",
       "      <td>155.00</td>\n",
       "      <td>1731.0</td>\n",
       "      <td>0.11660</td>\n",
       "      <td>0.19220</td>\n",
       "      <td>0.3215</td>\n",
       "      <td>0.1628</td>\n",
       "      <td>0.2572</td>\n",
       "      <td>0.06637</td>\n",
       "    </tr>\n",
       "    <tr>\n",
       "      <th>566</th>\n",
       "      <td>926954</td>\n",
       "      <td>M</td>\n",
       "      <td>16.60</td>\n",
       "      <td>28.08</td>\n",
       "      <td>108.30</td>\n",
       "      <td>858.1</td>\n",
       "      <td>0.08455</td>\n",
       "      <td>0.10230</td>\n",
       "      <td>0.09251</td>\n",
       "      <td>0.05302</td>\n",
       "      <td>...</td>\n",
       "      <td>18.980</td>\n",
       "      <td>34.12</td>\n",
       "      <td>126.70</td>\n",
       "      <td>1124.0</td>\n",
       "      <td>0.11390</td>\n",
       "      <td>0.30940</td>\n",
       "      <td>0.3403</td>\n",
       "      <td>0.1418</td>\n",
       "      <td>0.2218</td>\n",
       "      <td>0.07820</td>\n",
       "    </tr>\n",
       "    <tr>\n",
       "      <th>567</th>\n",
       "      <td>927241</td>\n",
       "      <td>M</td>\n",
       "      <td>20.60</td>\n",
       "      <td>29.33</td>\n",
       "      <td>140.10</td>\n",
       "      <td>1265.0</td>\n",
       "      <td>0.11780</td>\n",
       "      <td>0.27700</td>\n",
       "      <td>0.35140</td>\n",
       "      <td>0.15200</td>\n",
       "      <td>...</td>\n",
       "      <td>25.740</td>\n",
       "      <td>39.42</td>\n",
       "      <td>184.60</td>\n",
       "      <td>1821.0</td>\n",
       "      <td>0.16500</td>\n",
       "      <td>0.86810</td>\n",
       "      <td>0.9387</td>\n",
       "      <td>0.2650</td>\n",
       "      <td>0.4087</td>\n",
       "      <td>0.12400</td>\n",
       "    </tr>\n",
       "    <tr>\n",
       "      <th>568</th>\n",
       "      <td>92751</td>\n",
       "      <td>B</td>\n",
       "      <td>7.76</td>\n",
       "      <td>24.54</td>\n",
       "      <td>47.92</td>\n",
       "      <td>181.0</td>\n",
       "      <td>0.05263</td>\n",
       "      <td>0.04362</td>\n",
       "      <td>0.00000</td>\n",
       "      <td>0.00000</td>\n",
       "      <td>...</td>\n",
       "      <td>9.456</td>\n",
       "      <td>30.37</td>\n",
       "      <td>59.16</td>\n",
       "      <td>268.6</td>\n",
       "      <td>0.08996</td>\n",
       "      <td>0.06444</td>\n",
       "      <td>0.0000</td>\n",
       "      <td>0.0000</td>\n",
       "      <td>0.2871</td>\n",
       "      <td>0.07039</td>\n",
       "    </tr>\n",
       "  </tbody>\n",
       "</table>\n",
       "<p>569 rows × 32 columns</p>\n",
       "</div>"
      ],
      "text/plain": [
       "           id diagnosis  radius_mean  texture_mean  perimeter_mean  area_mean  \\\n",
       "0      842302         M        17.99         10.38          122.80     1001.0   \n",
       "1      842517         M        20.57         17.77          132.90     1326.0   \n",
       "2    84300903         M        19.69         21.25          130.00     1203.0   \n",
       "3    84348301         M        11.42         20.38           77.58      386.1   \n",
       "4    84358402         M        20.29         14.34          135.10     1297.0   \n",
       "..        ...       ...          ...           ...             ...        ...   \n",
       "564    926424         M        21.56         22.39          142.00     1479.0   \n",
       "565    926682         M        20.13         28.25          131.20     1261.0   \n",
       "566    926954         M        16.60         28.08          108.30      858.1   \n",
       "567    927241         M        20.60         29.33          140.10     1265.0   \n",
       "568     92751         B         7.76         24.54           47.92      181.0   \n",
       "\n",
       "     smoothness_mean  compactness_mean  concavity_mean  concave points_mean  \\\n",
       "0            0.11840           0.27760         0.30010              0.14710   \n",
       "1            0.08474           0.07864         0.08690              0.07017   \n",
       "2            0.10960           0.15990         0.19740              0.12790   \n",
       "3            0.14250           0.28390         0.24140              0.10520   \n",
       "4            0.10030           0.13280         0.19800              0.10430   \n",
       "..               ...               ...             ...                  ...   \n",
       "564          0.11100           0.11590         0.24390              0.13890   \n",
       "565          0.09780           0.10340         0.14400              0.09791   \n",
       "566          0.08455           0.10230         0.09251              0.05302   \n",
       "567          0.11780           0.27700         0.35140              0.15200   \n",
       "568          0.05263           0.04362         0.00000              0.00000   \n",
       "\n",
       "     ...  radius_worst  texture_worst  perimeter_worst  area_worst  \\\n",
       "0    ...        25.380          17.33           184.60      2019.0   \n",
       "1    ...        24.990          23.41           158.80      1956.0   \n",
       "2    ...        23.570          25.53           152.50      1709.0   \n",
       "3    ...        14.910          26.50            98.87       567.7   \n",
       "4    ...        22.540          16.67           152.20      1575.0   \n",
       "..   ...           ...            ...              ...         ...   \n",
       "564  ...        25.450          26.40           166.10      2027.0   \n",
       "565  ...        23.690          38.25           155.00      1731.0   \n",
       "566  ...        18.980          34.12           126.70      1124.0   \n",
       "567  ...        25.740          39.42           184.60      1821.0   \n",
       "568  ...         9.456          30.37            59.16       268.6   \n",
       "\n",
       "     smoothness_worst  compactness_worst  concavity_worst  \\\n",
       "0             0.16220            0.66560           0.7119   \n",
       "1             0.12380            0.18660           0.2416   \n",
       "2             0.14440            0.42450           0.4504   \n",
       "3             0.20980            0.86630           0.6869   \n",
       "4             0.13740            0.20500           0.4000   \n",
       "..                ...                ...              ...   \n",
       "564           0.14100            0.21130           0.4107   \n",
       "565           0.11660            0.19220           0.3215   \n",
       "566           0.11390            0.30940           0.3403   \n",
       "567           0.16500            0.86810           0.9387   \n",
       "568           0.08996            0.06444           0.0000   \n",
       "\n",
       "     concave points_worst  symmetry_worst  fractal_dimension_worst  \n",
       "0                  0.2654          0.4601                  0.11890  \n",
       "1                  0.1860          0.2750                  0.08902  \n",
       "2                  0.2430          0.3613                  0.08758  \n",
       "3                  0.2575          0.6638                  0.17300  \n",
       "4                  0.1625          0.2364                  0.07678  \n",
       "..                    ...             ...                      ...  \n",
       "564                0.2216          0.2060                  0.07115  \n",
       "565                0.1628          0.2572                  0.06637  \n",
       "566                0.1418          0.2218                  0.07820  \n",
       "567                0.2650          0.4087                  0.12400  \n",
       "568                0.0000          0.2871                  0.07039  \n",
       "\n",
       "[569 rows x 32 columns]"
      ]
     },
     "execution_count": 88,
     "metadata": {},
     "output_type": "execute_result"
    }
   ],
   "source": [
    "df"
   ]
  },
  {
   "cell_type": "code",
   "execution_count": 89,
   "id": "5ae84be6-0784-4365-ab41-85dbc1b005ba",
   "metadata": {},
   "outputs": [
    {
     "data": {
      "text/plain": [
       "(569, 32)"
      ]
     },
     "execution_count": 89,
     "metadata": {},
     "output_type": "execute_result"
    }
   ],
   "source": [
    "df.shape"
   ]
  },
  {
   "cell_type": "code",
   "execution_count": 90,
   "id": "efc4a1f5-e591-4467-b7e6-d7abc520ada1",
   "metadata": {},
   "outputs": [],
   "source": [
    "x = df.iloc[:,2:]"
   ]
  },
  {
   "cell_type": "code",
   "execution_count": 91,
   "id": "aaa9f6d4-faab-4762-a86d-5734e785b004",
   "metadata": {},
   "outputs": [
    {
     "data": {
      "text/html": [
       "<div>\n",
       "<style scoped>\n",
       "    .dataframe tbody tr th:only-of-type {\n",
       "        vertical-align: middle;\n",
       "    }\n",
       "\n",
       "    .dataframe tbody tr th {\n",
       "        vertical-align: top;\n",
       "    }\n",
       "\n",
       "    .dataframe thead th {\n",
       "        text-align: right;\n",
       "    }\n",
       "</style>\n",
       "<table border=\"1\" class=\"dataframe\">\n",
       "  <thead>\n",
       "    <tr style=\"text-align: right;\">\n",
       "      <th></th>\n",
       "      <th>radius_mean</th>\n",
       "      <th>texture_mean</th>\n",
       "      <th>perimeter_mean</th>\n",
       "      <th>area_mean</th>\n",
       "      <th>smoothness_mean</th>\n",
       "      <th>compactness_mean</th>\n",
       "      <th>concavity_mean</th>\n",
       "      <th>concave points_mean</th>\n",
       "      <th>symmetry_mean</th>\n",
       "      <th>fractal_dimension_mean</th>\n",
       "      <th>...</th>\n",
       "      <th>radius_worst</th>\n",
       "      <th>texture_worst</th>\n",
       "      <th>perimeter_worst</th>\n",
       "      <th>area_worst</th>\n",
       "      <th>smoothness_worst</th>\n",
       "      <th>compactness_worst</th>\n",
       "      <th>concavity_worst</th>\n",
       "      <th>concave points_worst</th>\n",
       "      <th>symmetry_worst</th>\n",
       "      <th>fractal_dimension_worst</th>\n",
       "    </tr>\n",
       "  </thead>\n",
       "  <tbody>\n",
       "    <tr>\n",
       "      <th>0</th>\n",
       "      <td>17.99</td>\n",
       "      <td>10.38</td>\n",
       "      <td>122.80</td>\n",
       "      <td>1001.0</td>\n",
       "      <td>0.11840</td>\n",
       "      <td>0.27760</td>\n",
       "      <td>0.30010</td>\n",
       "      <td>0.14710</td>\n",
       "      <td>0.2419</td>\n",
       "      <td>0.07871</td>\n",
       "      <td>...</td>\n",
       "      <td>25.380</td>\n",
       "      <td>17.33</td>\n",
       "      <td>184.60</td>\n",
       "      <td>2019.0</td>\n",
       "      <td>0.16220</td>\n",
       "      <td>0.66560</td>\n",
       "      <td>0.7119</td>\n",
       "      <td>0.2654</td>\n",
       "      <td>0.4601</td>\n",
       "      <td>0.11890</td>\n",
       "    </tr>\n",
       "    <tr>\n",
       "      <th>1</th>\n",
       "      <td>20.57</td>\n",
       "      <td>17.77</td>\n",
       "      <td>132.90</td>\n",
       "      <td>1326.0</td>\n",
       "      <td>0.08474</td>\n",
       "      <td>0.07864</td>\n",
       "      <td>0.08690</td>\n",
       "      <td>0.07017</td>\n",
       "      <td>0.1812</td>\n",
       "      <td>0.05667</td>\n",
       "      <td>...</td>\n",
       "      <td>24.990</td>\n",
       "      <td>23.41</td>\n",
       "      <td>158.80</td>\n",
       "      <td>1956.0</td>\n",
       "      <td>0.12380</td>\n",
       "      <td>0.18660</td>\n",
       "      <td>0.2416</td>\n",
       "      <td>0.1860</td>\n",
       "      <td>0.2750</td>\n",
       "      <td>0.08902</td>\n",
       "    </tr>\n",
       "    <tr>\n",
       "      <th>2</th>\n",
       "      <td>19.69</td>\n",
       "      <td>21.25</td>\n",
       "      <td>130.00</td>\n",
       "      <td>1203.0</td>\n",
       "      <td>0.10960</td>\n",
       "      <td>0.15990</td>\n",
       "      <td>0.19740</td>\n",
       "      <td>0.12790</td>\n",
       "      <td>0.2069</td>\n",
       "      <td>0.05999</td>\n",
       "      <td>...</td>\n",
       "      <td>23.570</td>\n",
       "      <td>25.53</td>\n",
       "      <td>152.50</td>\n",
       "      <td>1709.0</td>\n",
       "      <td>0.14440</td>\n",
       "      <td>0.42450</td>\n",
       "      <td>0.4504</td>\n",
       "      <td>0.2430</td>\n",
       "      <td>0.3613</td>\n",
       "      <td>0.08758</td>\n",
       "    </tr>\n",
       "    <tr>\n",
       "      <th>3</th>\n",
       "      <td>11.42</td>\n",
       "      <td>20.38</td>\n",
       "      <td>77.58</td>\n",
       "      <td>386.1</td>\n",
       "      <td>0.14250</td>\n",
       "      <td>0.28390</td>\n",
       "      <td>0.24140</td>\n",
       "      <td>0.10520</td>\n",
       "      <td>0.2597</td>\n",
       "      <td>0.09744</td>\n",
       "      <td>...</td>\n",
       "      <td>14.910</td>\n",
       "      <td>26.50</td>\n",
       "      <td>98.87</td>\n",
       "      <td>567.7</td>\n",
       "      <td>0.20980</td>\n",
       "      <td>0.86630</td>\n",
       "      <td>0.6869</td>\n",
       "      <td>0.2575</td>\n",
       "      <td>0.6638</td>\n",
       "      <td>0.17300</td>\n",
       "    </tr>\n",
       "    <tr>\n",
       "      <th>4</th>\n",
       "      <td>20.29</td>\n",
       "      <td>14.34</td>\n",
       "      <td>135.10</td>\n",
       "      <td>1297.0</td>\n",
       "      <td>0.10030</td>\n",
       "      <td>0.13280</td>\n",
       "      <td>0.19800</td>\n",
       "      <td>0.10430</td>\n",
       "      <td>0.1809</td>\n",
       "      <td>0.05883</td>\n",
       "      <td>...</td>\n",
       "      <td>22.540</td>\n",
       "      <td>16.67</td>\n",
       "      <td>152.20</td>\n",
       "      <td>1575.0</td>\n",
       "      <td>0.13740</td>\n",
       "      <td>0.20500</td>\n",
       "      <td>0.4000</td>\n",
       "      <td>0.1625</td>\n",
       "      <td>0.2364</td>\n",
       "      <td>0.07678</td>\n",
       "    </tr>\n",
       "    <tr>\n",
       "      <th>...</th>\n",
       "      <td>...</td>\n",
       "      <td>...</td>\n",
       "      <td>...</td>\n",
       "      <td>...</td>\n",
       "      <td>...</td>\n",
       "      <td>...</td>\n",
       "      <td>...</td>\n",
       "      <td>...</td>\n",
       "      <td>...</td>\n",
       "      <td>...</td>\n",
       "      <td>...</td>\n",
       "      <td>...</td>\n",
       "      <td>...</td>\n",
       "      <td>...</td>\n",
       "      <td>...</td>\n",
       "      <td>...</td>\n",
       "      <td>...</td>\n",
       "      <td>...</td>\n",
       "      <td>...</td>\n",
       "      <td>...</td>\n",
       "      <td>...</td>\n",
       "    </tr>\n",
       "    <tr>\n",
       "      <th>564</th>\n",
       "      <td>21.56</td>\n",
       "      <td>22.39</td>\n",
       "      <td>142.00</td>\n",
       "      <td>1479.0</td>\n",
       "      <td>0.11100</td>\n",
       "      <td>0.11590</td>\n",
       "      <td>0.24390</td>\n",
       "      <td>0.13890</td>\n",
       "      <td>0.1726</td>\n",
       "      <td>0.05623</td>\n",
       "      <td>...</td>\n",
       "      <td>25.450</td>\n",
       "      <td>26.40</td>\n",
       "      <td>166.10</td>\n",
       "      <td>2027.0</td>\n",
       "      <td>0.14100</td>\n",
       "      <td>0.21130</td>\n",
       "      <td>0.4107</td>\n",
       "      <td>0.2216</td>\n",
       "      <td>0.2060</td>\n",
       "      <td>0.07115</td>\n",
       "    </tr>\n",
       "    <tr>\n",
       "      <th>565</th>\n",
       "      <td>20.13</td>\n",
       "      <td>28.25</td>\n",
       "      <td>131.20</td>\n",
       "      <td>1261.0</td>\n",
       "      <td>0.09780</td>\n",
       "      <td>0.10340</td>\n",
       "      <td>0.14400</td>\n",
       "      <td>0.09791</td>\n",
       "      <td>0.1752</td>\n",
       "      <td>0.05533</td>\n",
       "      <td>...</td>\n",
       "      <td>23.690</td>\n",
       "      <td>38.25</td>\n",
       "      <td>155.00</td>\n",
       "      <td>1731.0</td>\n",
       "      <td>0.11660</td>\n",
       "      <td>0.19220</td>\n",
       "      <td>0.3215</td>\n",
       "      <td>0.1628</td>\n",
       "      <td>0.2572</td>\n",
       "      <td>0.06637</td>\n",
       "    </tr>\n",
       "    <tr>\n",
       "      <th>566</th>\n",
       "      <td>16.60</td>\n",
       "      <td>28.08</td>\n",
       "      <td>108.30</td>\n",
       "      <td>858.1</td>\n",
       "      <td>0.08455</td>\n",
       "      <td>0.10230</td>\n",
       "      <td>0.09251</td>\n",
       "      <td>0.05302</td>\n",
       "      <td>0.1590</td>\n",
       "      <td>0.05648</td>\n",
       "      <td>...</td>\n",
       "      <td>18.980</td>\n",
       "      <td>34.12</td>\n",
       "      <td>126.70</td>\n",
       "      <td>1124.0</td>\n",
       "      <td>0.11390</td>\n",
       "      <td>0.30940</td>\n",
       "      <td>0.3403</td>\n",
       "      <td>0.1418</td>\n",
       "      <td>0.2218</td>\n",
       "      <td>0.07820</td>\n",
       "    </tr>\n",
       "    <tr>\n",
       "      <th>567</th>\n",
       "      <td>20.60</td>\n",
       "      <td>29.33</td>\n",
       "      <td>140.10</td>\n",
       "      <td>1265.0</td>\n",
       "      <td>0.11780</td>\n",
       "      <td>0.27700</td>\n",
       "      <td>0.35140</td>\n",
       "      <td>0.15200</td>\n",
       "      <td>0.2397</td>\n",
       "      <td>0.07016</td>\n",
       "      <td>...</td>\n",
       "      <td>25.740</td>\n",
       "      <td>39.42</td>\n",
       "      <td>184.60</td>\n",
       "      <td>1821.0</td>\n",
       "      <td>0.16500</td>\n",
       "      <td>0.86810</td>\n",
       "      <td>0.9387</td>\n",
       "      <td>0.2650</td>\n",
       "      <td>0.4087</td>\n",
       "      <td>0.12400</td>\n",
       "    </tr>\n",
       "    <tr>\n",
       "      <th>568</th>\n",
       "      <td>7.76</td>\n",
       "      <td>24.54</td>\n",
       "      <td>47.92</td>\n",
       "      <td>181.0</td>\n",
       "      <td>0.05263</td>\n",
       "      <td>0.04362</td>\n",
       "      <td>0.00000</td>\n",
       "      <td>0.00000</td>\n",
       "      <td>0.1587</td>\n",
       "      <td>0.05884</td>\n",
       "      <td>...</td>\n",
       "      <td>9.456</td>\n",
       "      <td>30.37</td>\n",
       "      <td>59.16</td>\n",
       "      <td>268.6</td>\n",
       "      <td>0.08996</td>\n",
       "      <td>0.06444</td>\n",
       "      <td>0.0000</td>\n",
       "      <td>0.0000</td>\n",
       "      <td>0.2871</td>\n",
       "      <td>0.07039</td>\n",
       "    </tr>\n",
       "  </tbody>\n",
       "</table>\n",
       "<p>569 rows × 30 columns</p>\n",
       "</div>"
      ],
      "text/plain": [
       "     radius_mean  texture_mean  perimeter_mean  area_mean  smoothness_mean  \\\n",
       "0          17.99         10.38          122.80     1001.0          0.11840   \n",
       "1          20.57         17.77          132.90     1326.0          0.08474   \n",
       "2          19.69         21.25          130.00     1203.0          0.10960   \n",
       "3          11.42         20.38           77.58      386.1          0.14250   \n",
       "4          20.29         14.34          135.10     1297.0          0.10030   \n",
       "..           ...           ...             ...        ...              ...   \n",
       "564        21.56         22.39          142.00     1479.0          0.11100   \n",
       "565        20.13         28.25          131.20     1261.0          0.09780   \n",
       "566        16.60         28.08          108.30      858.1          0.08455   \n",
       "567        20.60         29.33          140.10     1265.0          0.11780   \n",
       "568         7.76         24.54           47.92      181.0          0.05263   \n",
       "\n",
       "     compactness_mean  concavity_mean  concave points_mean  symmetry_mean  \\\n",
       "0             0.27760         0.30010              0.14710         0.2419   \n",
       "1             0.07864         0.08690              0.07017         0.1812   \n",
       "2             0.15990         0.19740              0.12790         0.2069   \n",
       "3             0.28390         0.24140              0.10520         0.2597   \n",
       "4             0.13280         0.19800              0.10430         0.1809   \n",
       "..                ...             ...                  ...            ...   \n",
       "564           0.11590         0.24390              0.13890         0.1726   \n",
       "565           0.10340         0.14400              0.09791         0.1752   \n",
       "566           0.10230         0.09251              0.05302         0.1590   \n",
       "567           0.27700         0.35140              0.15200         0.2397   \n",
       "568           0.04362         0.00000              0.00000         0.1587   \n",
       "\n",
       "     fractal_dimension_mean  ...  radius_worst  texture_worst  \\\n",
       "0                   0.07871  ...        25.380          17.33   \n",
       "1                   0.05667  ...        24.990          23.41   \n",
       "2                   0.05999  ...        23.570          25.53   \n",
       "3                   0.09744  ...        14.910          26.50   \n",
       "4                   0.05883  ...        22.540          16.67   \n",
       "..                      ...  ...           ...            ...   \n",
       "564                 0.05623  ...        25.450          26.40   \n",
       "565                 0.05533  ...        23.690          38.25   \n",
       "566                 0.05648  ...        18.980          34.12   \n",
       "567                 0.07016  ...        25.740          39.42   \n",
       "568                 0.05884  ...         9.456          30.37   \n",
       "\n",
       "     perimeter_worst  area_worst  smoothness_worst  compactness_worst  \\\n",
       "0             184.60      2019.0           0.16220            0.66560   \n",
       "1             158.80      1956.0           0.12380            0.18660   \n",
       "2             152.50      1709.0           0.14440            0.42450   \n",
       "3              98.87       567.7           0.20980            0.86630   \n",
       "4             152.20      1575.0           0.13740            0.20500   \n",
       "..               ...         ...               ...                ...   \n",
       "564           166.10      2027.0           0.14100            0.21130   \n",
       "565           155.00      1731.0           0.11660            0.19220   \n",
       "566           126.70      1124.0           0.11390            0.30940   \n",
       "567           184.60      1821.0           0.16500            0.86810   \n",
       "568            59.16       268.6           0.08996            0.06444   \n",
       "\n",
       "     concavity_worst  concave points_worst  symmetry_worst  \\\n",
       "0             0.7119                0.2654          0.4601   \n",
       "1             0.2416                0.1860          0.2750   \n",
       "2             0.4504                0.2430          0.3613   \n",
       "3             0.6869                0.2575          0.6638   \n",
       "4             0.4000                0.1625          0.2364   \n",
       "..               ...                   ...             ...   \n",
       "564           0.4107                0.2216          0.2060   \n",
       "565           0.3215                0.1628          0.2572   \n",
       "566           0.3403                0.1418          0.2218   \n",
       "567           0.9387                0.2650          0.4087   \n",
       "568           0.0000                0.0000          0.2871   \n",
       "\n",
       "     fractal_dimension_worst  \n",
       "0                    0.11890  \n",
       "1                    0.08902  \n",
       "2                    0.08758  \n",
       "3                    0.17300  \n",
       "4                    0.07678  \n",
       "..                       ...  \n",
       "564                  0.07115  \n",
       "565                  0.06637  \n",
       "566                  0.07820  \n",
       "567                  0.12400  \n",
       "568                  0.07039  \n",
       "\n",
       "[569 rows x 30 columns]"
      ]
     },
     "execution_count": 91,
     "metadata": {},
     "output_type": "execute_result"
    }
   ],
   "source": [
    "x"
   ]
  },
  {
   "cell_type": "code",
   "execution_count": 92,
   "id": "de83ea10-1e33-4c02-91a3-261b36abbbee",
   "metadata": {},
   "outputs": [
    {
     "data": {
      "text/plain": [
       "(569, 30)"
      ]
     },
     "execution_count": 92,
     "metadata": {},
     "output_type": "execute_result"
    }
   ],
   "source": [
    "x.shape"
   ]
  },
  {
   "cell_type": "markdown",
   "id": "7d6e71ee-5e81-4ee6-870c-442ed0a3a4c2",
   "metadata": {},
   "source": [
    "###### Standardize the data"
   ]
  },
  {
   "cell_type": "code",
   "execution_count": 93,
   "id": "1956ce54-025d-4cf4-9df2-7375331cd42d",
   "metadata": {},
   "outputs": [],
   "source": [
    "# import the class\n",
    "from sklearn.preprocessing import StandardScaler"
   ]
  },
  {
   "cell_type": "code",
   "execution_count": 94,
   "id": "b4b4c501-4d96-4ab1-bd1f-dbf4bf24bcda",
   "metadata": {},
   "outputs": [],
   "source": [
    "# create the object of class\n",
    "scaler = StandardScaler()"
   ]
  },
  {
   "cell_type": "code",
   "execution_count": 95,
   "id": "9f50124f-d187-473b-9b26-197c14ea176f",
   "metadata": {},
   "outputs": [],
   "source": [
    "# apply the standardization\n",
    "x_std = scaler.fit_transform(x)"
   ]
  },
  {
   "cell_type": "code",
   "execution_count": 96,
   "id": "9a4c0a06-89b3-470e-a0cc-b72810db1b0a",
   "metadata": {},
   "outputs": [
    {
     "data": {
      "text/plain": [
       "(569, 30)"
      ]
     },
     "execution_count": 96,
     "metadata": {},
     "output_type": "execute_result"
    }
   ],
   "source": [
    "x_std.shape"
   ]
  },
  {
   "cell_type": "markdown",
   "id": "80e2d59d-0231-4c3c-8034-44839a0c0caa",
   "metadata": {},
   "source": [
    "###### Use and apply the PCA"
   ]
  },
  {
   "cell_type": "code",
   "execution_count": 97,
   "id": "95a2e9a1-54e1-46c9-92d0-5ee68dd25035",
   "metadata": {},
   "outputs": [],
   "source": [
    "# import the class\n",
    "from sklearn.decomposition import PCA"
   ]
  },
  {
   "cell_type": "code",
   "execution_count": 98,
   "id": "70fcc347-3d43-4906-a35c-c5aa0360a9d0",
   "metadata": {},
   "outputs": [],
   "source": [
    "# create the object\n",
    "pca = PCA()"
   ]
  },
  {
   "cell_type": "code",
   "execution_count": 99,
   "id": "4baddf10-05d0-42cd-9a29-aa68e5a70bd4",
   "metadata": {},
   "outputs": [],
   "source": [
    "# apply the pca\n",
    "x_pca = pca.fit_transform(x_std)"
   ]
  },
  {
   "cell_type": "code",
   "execution_count": 100,
   "id": "f63451a2-90b7-4848-b54e-fdf5164b3bba",
   "metadata": {},
   "outputs": [
    {
     "data": {
      "text/plain": [
       "array([[ 9.19283683e+00,  1.94858307e+00, -1.12316616e+00, ...,\n",
       "        -3.39144536e-02,  4.56477199e-02, -4.71692081e-02],\n",
       "       [ 2.38780180e+00, -3.76817174e+00, -5.29292687e-01, ...,\n",
       "         3.26241827e-02, -5.68742432e-03, -1.86787626e-03],\n",
       "       [ 5.73389628e+00, -1.07517380e+00, -5.51747593e-01, ...,\n",
       "         4.70258247e-02,  3.14589659e-03,  7.50534755e-04],\n",
       "       ...,\n",
       "       [ 1.25617928e+00, -1.90229671e+00,  5.62730526e-01, ...,\n",
       "        -2.57775589e-03,  6.70621179e-03,  3.77041667e-03],\n",
       "       [ 1.03747941e+01,  1.67201011e+00, -1.87702933e+00, ...,\n",
       "        -6.80863833e-02, -8.41632764e-02, -2.37828222e-02],\n",
       "       [-5.47524330e+00, -6.70636791e-01,  1.49044308e+00, ...,\n",
       "        -9.51587894e-03, -6.09131090e-02, -1.94755854e-02]])"
      ]
     },
     "execution_count": 100,
     "metadata": {},
     "output_type": "execute_result"
    }
   ],
   "source": [
    "x_pca"
   ]
  },
  {
   "cell_type": "code",
   "execution_count": 101,
   "id": "a4636750-3aff-4ed0-92ad-bcc4c863eda1",
   "metadata": {},
   "outputs": [],
   "source": [
    "var = pca.explained_variance_ratio_"
   ]
  },
  {
   "cell_type": "code",
   "execution_count": 102,
   "id": "d9d8e461-3852-46c1-9c7d-819a44c2f3da",
   "metadata": {},
   "outputs": [
    {
     "data": {
      "text/plain": [
       "array([4.42720256e-01, 1.89711820e-01, 9.39316326e-02, 6.60213492e-02,\n",
       "       5.49576849e-02, 4.02452204e-02, 2.25073371e-02, 1.58872380e-02,\n",
       "       1.38964937e-02, 1.16897819e-02, 9.79718988e-03, 8.70537901e-03,\n",
       "       8.04524987e-03, 5.23365745e-03, 3.13783217e-03, 2.66209337e-03,\n",
       "       1.97996793e-03, 1.75395945e-03, 1.64925306e-03, 1.03864675e-03,\n",
       "       9.99096464e-04, 9.14646751e-04, 8.11361259e-04, 6.01833567e-04,\n",
       "       5.16042379e-04, 2.72587995e-04, 2.30015463e-04, 5.29779290e-05,\n",
       "       2.49601032e-05, 4.43482743e-06])"
      ]
     },
     "execution_count": 102,
     "metadata": {},
     "output_type": "execute_result"
    }
   ],
   "source": [
    "var"
   ]
  },
  {
   "cell_type": "code",
   "execution_count": 103,
   "id": "5c898bda-039b-40df-a937-de40b1f8cada",
   "metadata": {},
   "outputs": [
    {
     "data": {
      "text/plain": [
       "1.0"
      ]
     },
     "execution_count": 103,
     "metadata": {},
     "output_type": "execute_result"
    }
   ],
   "source": [
    "np.sum(var)"
   ]
  },
  {
   "cell_type": "code",
   "execution_count": 104,
   "id": "c15e8aae-5133-4d92-a24e-aabf371824b2",
   "metadata": {},
   "outputs": [
    {
     "data": {
      "text/plain": [
       "<BarContainer object of 30 artists>"
      ]
     },
     "execution_count": 104,
     "metadata": {},
     "output_type": "execute_result"
    },
    {
     "data": {
      "image/png": "[encoded data removed]",
      "text/plain": [
       "<Figure size 1600x900 with 1 Axes>"
      ]
     },
     "metadata": {},
     "output_type": "display_data"
    }
   ],
   "source": [
    "plt.figure(figsize=(16,9))\n",
    "plt.title('PCA variances')\n",
    "plt.xlabel('Principal Components')\n",
    "plt.ylabel('Variance')\n",
    "plt.grid()\n",
    "plt.xticks(range(1,31))\n",
    "plt.bar(range(1,31), var,)"
   ]
  },
  {
   "cell_type": "code",
   "execution_count": 105,
   "id": "e8da5731-8c50-4938-89e2-1ffb14d87d73",
   "metadata": {},
   "outputs": [
    {
     "data": {
      "text/plain": [
       "array([[ 9.19283683e+00,  1.94858307e+00, -1.12316616e+00, ...,\n",
       "        -3.39144536e-02,  4.56477199e-02, -4.71692081e-02],\n",
       "       [ 2.38780180e+00, -3.76817174e+00, -5.29292687e-01, ...,\n",
       "         3.26241827e-02, -5.68742432e-03, -1.86787626e-03],\n",
       "       [ 5.73389628e+00, -1.07517380e+00, -5.51747593e-01, ...,\n",
       "         4.70258247e-02,  3.14589659e-03,  7.50534755e-04],\n",
       "       ...,\n",
       "       [ 1.25617928e+00, -1.90229671e+00,  5.62730526e-01, ...,\n",
       "        -2.57775589e-03,  6.70621179e-03,  3.77041667e-03],\n",
       "       [ 1.03747941e+01,  1.67201011e+00, -1.87702933e+00, ...,\n",
       "        -6.80863833e-02, -8.41632764e-02, -2.37828222e-02],\n",
       "       [-5.47524330e+00, -6.70636791e-01,  1.49044308e+00, ...,\n",
       "        -9.51587894e-03, -6.09131090e-02, -1.94755854e-02]])"
      ]
     },
     "execution_count": 105,
     "metadata": {},
     "output_type": "execute_result"
    }
   ],
   "source": [
    "x_pca"
   ]
  },
  {
   "cell_type": "markdown",
   "id": "fa196f86-2127-432d-b4fd-45e2d2b4a96d",
   "metadata": {},
   "source": [
    "###### Extract n principal components"
   ]
  },
  {
   "cell_type": "code",
   "execution_count": 115,
   "id": "d56a82b5-6d46-4bc9-a096-6d8e464bb97c",
   "metadata": {},
   "outputs": [],
   "source": [
    "# create the pca object\n",
    "pca = PCA(n_components=3)"
   ]
  },
  {
   "cell_type": "code",
   "execution_count": 116,
   "id": "c3fb0c72-c24b-4662-8fe7-1cfbf69b7882",
   "metadata": {},
   "outputs": [],
   "source": [
    "x_pca = pca.fit_transform(x)"
   ]
  },
  {
   "cell_type": "code",
   "execution_count": 117,
   "id": "020ae476-3a2e-48ea-bd3d-f7219ca4f32f",
   "metadata": {},
   "outputs": [
    {
     "data": {
      "text/plain": [
       "(569, 3)"
      ]
     },
     "execution_count": 117,
     "metadata": {},
     "output_type": "execute_result"
    }
   ],
   "source": [
    "x_pca.shape"
   ]
  },
  {
   "cell_type": "code",
   "execution_count": 118,
   "id": "1371c606-d70f-40cb-958e-bb12db5eae4c",
   "metadata": {},
   "outputs": [],
   "source": [
    "var = pca.explained_variance_ratio_"
   ]
  },
  {
   "cell_type": "code",
   "execution_count": 119,
   "id": "036beb8c-4da5-4a5e-aa6a-bc79554cb17c",
   "metadata": {},
   "outputs": [
    {
     "data": {
      "text/plain": [
       "array([0.98204467, 0.01617649, 0.00155751])"
      ]
     },
     "execution_count": 119,
     "metadata": {},
     "output_type": "execute_result"
    }
   ],
   "source": [
    "var"
   ]
  },
  {
   "cell_type": "code",
   "execution_count": 121,
   "id": "1ef50a11-6618-45ea-8d81-de39d4e7716b",
   "metadata": {},
   "outputs": [
    {
     "data": {
      "text/plain": [
       "<BarContainer object of 3 artists>"
      ]
     },
     "execution_count": 121,
     "metadata": {},
     "output_type": "execute_result"
    },
    {
     "data": {
      "image/png": "[encoded data removed]",
      "text/plain": [
       "<Figure size 1600x900 with 1 Axes>"
      ]
     },
     "metadata": {},
     "output_type": "display_data"
    }
   ],
   "source": [
    "plt.figure(figsize=(16,9))\n",
    "plt.title('PCA variances')\n",
    "plt.xlabel('Principal Components')\n",
    "plt.ylabel('Variance')\n",
    "plt.grid()\n",
    "plt.xticks(range(1,4))\n",
    "plt.bar(range(1,4), var,)"
   ]
  },
  {
   "cell_type": "code",
   "execution_count": 122,
   "id": "ff2e178a-ac3a-485e-8228-58a84e2d7013",
   "metadata": {},
   "outputs": [
    {
     "data": {
      "text/plain": [
       "<matplotlib.collections.PathCollection at 0x7398e814dbd0>"
      ]
     },
     "execution_count": 122,
     "metadata": {},
     "output_type": "execute_result"
    },
    {
     "data": {
      "image/png": "[encoded data removed]",
      "text/plain": [
       "<Figure size 1600x900 with 1 Axes>"
      ]
     },
     "metadata": {},
     "output_type": "display_data"
    }
   ],
   "source": [
    "plt.figure(figsize=(16,9))\n",
    "plt.xlabel('PC0')\n",
    "plt.ylabel('PC1')\n",
    "plt.grid()\n",
    "plt.scatter(x_pca[:,0], x_pca[:,1])"
   ]
  },
  {
   "cell_type": "markdown",
   "id": "d0683d2f-04f6-48cc-99d6-89bdfa69f582",
   "metadata": {},
   "source": [
    "##### Linear Discriminant Analysis"
   ]
  },
  {
   "cell_type": "code",
   "execution_count": 124,
   "id": "3d5d2eb5-84ea-40bf-8ee3-ee43208cf8ea",
   "metadata": {},
   "outputs": [],
   "source": [
    "df = pd.read_csv('wisc_bc_data.csv')"
   ]
  },
  {
   "cell_type": "code",
   "execution_count": 125,
   "id": "e6d6bb18-6153-450a-8404-a49c14237f09",
   "metadata": {},
   "outputs": [
    {
     "data": {
      "text/html": [
       "<div>\n",
       "<style scoped>\n",
       "    .dataframe tbody tr th:only-of-type {\n",
       "        vertical-align: middle;\n",
       "    }\n",
       "\n",
       "    .dataframe tbody tr th {\n",
       "        vertical-align: top;\n",
       "    }\n",
       "\n",
       "    .dataframe thead th {\n",
       "        text-align: right;\n",
       "    }\n",
       "</style>\n",
       "<table border=\"1\" class=\"dataframe\">\n",
       "  <thead>\n",
       "    <tr style=\"text-align: right;\">\n",
       "      <th></th>\n",
       "      <th>id</th>\n",
       "      <th>diagnosis</th>\n",
       "      <th>radius_mean</th>\n",
       "      <th>texture_mean</th>\n",
       "      <th>perimeter_mean</th>\n",
       "      <th>area_mean</th>\n",
       "      <th>smoothness_mean</th>\n",
       "      <th>compactness_mean</th>\n",
       "      <th>concavity_mean</th>\n",
       "      <th>concave points_mean</th>\n",
       "      <th>...</th>\n",
       "      <th>radius_worst</th>\n",
       "      <th>texture_worst</th>\n",
       "      <th>perimeter_worst</th>\n",
       "      <th>area_worst</th>\n",
       "      <th>smoothness_worst</th>\n",
       "      <th>compactness_worst</th>\n",
       "      <th>concavity_worst</th>\n",
       "      <th>concave points_worst</th>\n",
       "      <th>symmetry_worst</th>\n",
       "      <th>fractal_dimension_worst</th>\n",
       "    </tr>\n",
       "  </thead>\n",
       "  <tbody>\n",
       "    <tr>\n",
       "      <th>0</th>\n",
       "      <td>842302</td>\n",
       "      <td>M</td>\n",
       "      <td>17.99</td>\n",
       "      <td>10.38</td>\n",
       "      <td>122.80</td>\n",
       "      <td>1001.0</td>\n",
       "      <td>0.11840</td>\n",
       "      <td>0.27760</td>\n",
       "      <td>0.30010</td>\n",
       "      <td>0.14710</td>\n",
       "      <td>...</td>\n",
       "      <td>25.380</td>\n",
       "      <td>17.33</td>\n",
       "      <td>184.60</td>\n",
       "      <td>2019.0</td>\n",
       "      <td>0.16220</td>\n",
       "      <td>0.66560</td>\n",
       "      <td>0.7119</td>\n",
       "      <td>0.2654</td>\n",
       "      <td>0.4601</td>\n",
       "      <td>0.11890</td>\n",
       "    </tr>\n",
       "    <tr>\n",
       "      <th>1</th>\n",
       "      <td>842517</td>\n",
       "      <td>M</td>\n",
       "      <td>20.57</td>\n",
       "      <td>17.77</td>\n",
       "      <td>132.90</td>\n",
       "      <td>1326.0</td>\n",
       "      <td>0.08474</td>\n",
       "      <td>0.07864</td>\n",
       "      <td>0.08690</td>\n",
       "      <td>0.07017</td>\n",
       "      <td>...</td>\n",
       "      <td>24.990</td>\n",
       "      <td>23.41</td>\n",
       "      <td>158.80</td>\n",
       "      <td>1956.0</td>\n",
       "      <td>0.12380</td>\n",
       "      <td>0.18660</td>\n",
       "      <td>0.2416</td>\n",
       "      <td>0.1860</td>\n",
       "      <td>0.2750</td>\n",
       "      <td>0.08902</td>\n",
       "    </tr>\n",
       "    <tr>\n",
       "      <th>2</th>\n",
       "      <td>84300903</td>\n",
       "      <td>M</td>\n",
       "      <td>19.69</td>\n",
       "      <td>21.25</td>\n",
       "      <td>130.00</td>\n",
       "      <td>1203.0</td>\n",
       "      <td>0.10960</td>\n",
       "      <td>0.15990</td>\n",
       "      <td>0.19740</td>\n",
       "      <td>0.12790</td>\n",
       "      <td>...</td>\n",
       "      <td>23.570</td>\n",
       "      <td>25.53</td>\n",
       "      <td>152.50</td>\n",
       "      <td>1709.0</td>\n",
       "      <td>0.14440</td>\n",
       "      <td>0.42450</td>\n",
       "      <td>0.4504</td>\n",
       "      <td>0.2430</td>\n",
       "      <td>0.3613</td>\n",
       "      <td>0.08758</td>\n",
       "    </tr>\n",
       "    <tr>\n",
       "      <th>3</th>\n",
       "      <td>84348301</td>\n",
       "      <td>M</td>\n",
       "      <td>11.42</td>\n",
       "      <td>20.38</td>\n",
       "      <td>77.58</td>\n",
       "      <td>386.1</td>\n",
       "      <td>0.14250</td>\n",
       "      <td>0.28390</td>\n",
       "      <td>0.24140</td>\n",
       "      <td>0.10520</td>\n",
       "      <td>...</td>\n",
       "      <td>14.910</td>\n",
       "      <td>26.50</td>\n",
       "      <td>98.87</td>\n",
       "      <td>567.7</td>\n",
       "      <td>0.20980</td>\n",
       "      <td>0.86630</td>\n",
       "      <td>0.6869</td>\n",
       "      <td>0.2575</td>\n",
       "      <td>0.6638</td>\n",
       "      <td>0.17300</td>\n",
       "    </tr>\n",
       "    <tr>\n",
       "      <th>4</th>\n",
       "      <td>84358402</td>\n",
       "      <td>M</td>\n",
       "      <td>20.29</td>\n",
       "      <td>14.34</td>\n",
       "      <td>135.10</td>\n",
       "      <td>1297.0</td>\n",
       "      <td>0.10030</td>\n",
       "      <td>0.13280</td>\n",
       "      <td>0.19800</td>\n",
       "      <td>0.10430</td>\n",
       "      <td>...</td>\n",
       "      <td>22.540</td>\n",
       "      <td>16.67</td>\n",
       "      <td>152.20</td>\n",
       "      <td>1575.0</td>\n",
       "      <td>0.13740</td>\n",
       "      <td>0.20500</td>\n",
       "      <td>0.4000</td>\n",
       "      <td>0.1625</td>\n",
       "      <td>0.2364</td>\n",
       "      <td>0.07678</td>\n",
       "    </tr>\n",
       "    <tr>\n",
       "      <th>...</th>\n",
       "      <td>...</td>\n",
       "      <td>...</td>\n",
       "      <td>...</td>\n",
       "      <td>...</td>\n",
       "      <td>...</td>\n",
       "      <td>...</td>\n",
       "      <td>...</td>\n",
       "      <td>...</td>\n",
       "      <td>...</td>\n",
       "      <td>...</td>\n",
       "      <td>...</td>\n",
       "      <td>...</td>\n",
       "      <td>...</td>\n",
       "      <td>...</td>\n",
       "      <td>...</td>\n",
       "      <td>...</td>\n",
       "      <td>...</td>\n",
       "      <td>...</td>\n",
       "      <td>...</td>\n",
       "      <td>...</td>\n",
       "      <td>...</td>\n",
       "    </tr>\n",
       "    <tr>\n",
       "      <th>564</th>\n",
       "      <td>926424</td>\n",
       "      <td>M</td>\n",
       "      <td>21.56</td>\n",
       "      <td>22.39</td>\n",
       "      <td>142.00</td>\n",
       "      <td>1479.0</td>\n",
       "      <td>0.11100</td>\n",
       "      <td>0.11590</td>\n",
       "      <td>0.24390</td>\n",
       "      <td>0.13890</td>\n",
       "      <td>...</td>\n",
       "      <td>25.450</td>\n",
       "      <td>26.40</td>\n",
       "      <td>166.10</td>\n",
       "      <td>2027.0</td>\n",
       "      <td>0.14100</td>\n",
       "      <td>0.21130</td>\n",
       "      <td>0.4107</td>\n",
       "      <td>0.2216</td>\n",
       "      <td>0.2060</td>\n",
       "      <td>0.07115</td>\n",
       "    </tr>\n",
       "    <tr>\n",
       "      <th>565</th>\n",
       "      <td>926682</td>\n",
       "      <td>M</td>\n",
       "      <td>20.13</td>\n",
       "      <td>28.25</td>\n",
       "      <td>131.20</td>\n",
       "      <td>1261.0</td>\n",
       "      <td>0.09780</td>\n",
       "      <td>0.10340</td>\n",
       "      <td>0.14400</td>\n",
       "      <td>0.09791</td>\n",
       "      <td>...</td>\n",
       "      <td>23.690</td>\n",
       "      <td>38.25</td>\n",
       "      <td>155.00</td>\n",
       "      <td>1731.0</td>\n",
       "      <td>0.11660</td>\n",
       "      <td>0.19220</td>\n",
       "      <td>0.3215</td>\n",
       "      <td>0.1628</td>\n",
       "      <td>0.2572</td>\n",
       "      <td>0.06637</td>\n",
       "    </tr>\n",
       "    <tr>\n",
       "      <th>566</th>\n",
       "      <td>926954</td>\n",
       "      <td>M</td>\n",
       "      <td>16.60</td>\n",
       "      <td>28.08</td>\n",
       "      <td>108.30</td>\n",
       "      <td>858.1</td>\n",
       "      <td>0.08455</td>\n",
       "      <td>0.10230</td>\n",
       "      <td>0.09251</td>\n",
       "      <td>0.05302</td>\n",
       "      <td>...</td>\n",
       "      <td>18.980</td>\n",
       "      <td>34.12</td>\n",
       "      <td>126.70</td>\n",
       "      <td>1124.0</td>\n",
       "      <td>0.11390</td>\n",
       "      <td>0.30940</td>\n",
       "      <td>0.3403</td>\n",
       "      <td>0.1418</td>\n",
       "      <td>0.2218</td>\n",
       "      <td>0.07820</td>\n",
       "    </tr>\n",
       "    <tr>\n",
       "      <th>567</th>\n",
       "      <td>927241</td>\n",
       "      <td>M</td>\n",
       "      <td>20.60</td>\n",
       "      <td>29.33</td>\n",
       "      <td>140.10</td>\n",
       "      <td>1265.0</td>\n",
       "      <td>0.11780</td>\n",
       "      <td>0.27700</td>\n",
       "      <td>0.35140</td>\n",
       "      <td>0.15200</td>\n",
       "      <td>...</td>\n",
       "      <td>25.740</td>\n",
       "      <td>39.42</td>\n",
       "      <td>184.60</td>\n",
       "      <td>1821.0</td>\n",
       "      <td>0.16500</td>\n",
       "      <td>0.86810</td>\n",
       "      <td>0.9387</td>\n",
       "      <td>0.2650</td>\n",
       "      <td>0.4087</td>\n",
       "      <td>0.12400</td>\n",
       "    </tr>\n",
       "    <tr>\n",
       "      <th>568</th>\n",
       "      <td>92751</td>\n",
       "      <td>B</td>\n",
       "      <td>7.76</td>\n",
       "      <td>24.54</td>\n",
       "      <td>47.92</td>\n",
       "      <td>181.0</td>\n",
       "      <td>0.05263</td>\n",
       "      <td>0.04362</td>\n",
       "      <td>0.00000</td>\n",
       "      <td>0.00000</td>\n",
       "      <td>...</td>\n",
       "      <td>9.456</td>\n",
       "      <td>30.37</td>\n",
       "      <td>59.16</td>\n",
       "      <td>268.6</td>\n",
       "      <td>0.08996</td>\n",
       "      <td>0.06444</td>\n",
       "      <td>0.0000</td>\n",
       "      <td>0.0000</td>\n",
       "      <td>0.2871</td>\n",
       "      <td>0.07039</td>\n",
       "    </tr>\n",
       "  </tbody>\n",
       "</table>\n",
       "<p>569 rows × 32 columns</p>\n",
       "</div>"
      ],
      "text/plain": [
       "           id diagnosis  radius_mean  texture_mean  perimeter_mean  area_mean  \\\n",
       "0      842302         M        17.99         10.38          122.80     1001.0   \n",
       "1      842517         M        20.57         17.77          132.90     1326.0   \n",
       "2    84300903         M        19.69         21.25          130.00     1203.0   \n",
       "3    84348301         M        11.42         20.38           77.58      386.1   \n",
       "4    84358402         M        20.29         14.34          135.10     1297.0   \n",
       "..        ...       ...          ...           ...             ...        ...   \n",
       "564    926424         M        21.56         22.39          142.00     1479.0   \n",
       "565    926682         M        20.13         28.25          131.20     1261.0   \n",
       "566    926954         M        16.60         28.08          108.30      858.1   \n",
       "567    927241         M        20.60         29.33          140.10     1265.0   \n",
       "568     92751         B         7.76         24.54           47.92      181.0   \n",
       "\n",
       "     smoothness_mean  compactness_mean  concavity_mean  concave points_mean  \\\n",
       "0            0.11840           0.27760         0.30010              0.14710   \n",
       "1            0.08474           0.07864         0.08690              0.07017   \n",
       "2            0.10960           0.15990         0.19740              0.12790   \n",
       "3            0.14250           0.28390         0.24140              0.10520   \n",
       "4            0.10030           0.13280         0.19800              0.10430   \n",
       "..               ...               ...             ...                  ...   \n",
       "564          0.11100           0.11590         0.24390              0.13890   \n",
       "565          0.09780           0.10340         0.14400              0.09791   \n",
       "566          0.08455           0.10230         0.09251              0.05302   \n",
       "567          0.11780           0.27700         0.35140              0.15200   \n",
       "568          0.05263           0.04362         0.00000              0.00000   \n",
       "\n",
       "     ...  radius_worst  texture_worst  perimeter_worst  area_worst  \\\n",
       "0    ...        25.380          17.33           184.60      2019.0   \n",
       "1    ...        24.990          23.41           158.80      1956.0   \n",
       "2    ...        23.570          25.53           152.50      1709.0   \n",
       "3    ...        14.910          26.50            98.87       567.7   \n",
       "4    ...        22.540          16.67           152.20      1575.0   \n",
       "..   ...           ...            ...              ...         ...   \n",
       "564  ...        25.450          26.40           166.10      2027.0   \n",
       "565  ...        23.690          38.25           155.00      1731.0   \n",
       "566  ...        18.980          34.12           126.70      1124.0   \n",
       "567  ...        25.740          39.42           184.60      1821.0   \n",
       "568  ...         9.456          30.37            59.16       268.6   \n",
       "\n",
       "     smoothness_worst  compactness_worst  concavity_worst  \\\n",
       "0             0.16220            0.66560           0.7119   \n",
       "1             0.12380            0.18660           0.2416   \n",
       "2             0.14440            0.42450           0.4504   \n",
       "3             0.20980            0.86630           0.6869   \n",
       "4             0.13740            0.20500           0.4000   \n",
       "..                ...                ...              ...   \n",
       "564           0.14100            0.21130           0.4107   \n",
       "565           0.11660            0.19220           0.3215   \n",
       "566           0.11390            0.30940           0.3403   \n",
       "567           0.16500            0.86810           0.9387   \n",
       "568           0.08996            0.06444           0.0000   \n",
       "\n",
       "     concave points_worst  symmetry_worst  fractal_dimension_worst  \n",
       "0                  0.2654          0.4601                  0.11890  \n",
       "1                  0.1860          0.2750                  0.08902  \n",
       "2                  0.2430          0.3613                  0.08758  \n",
       "3                  0.2575          0.6638                  0.17300  \n",
       "4                  0.1625          0.2364                  0.07678  \n",
       "..                    ...             ...                      ...  \n",
       "564                0.2216          0.2060                  0.07115  \n",
       "565                0.1628          0.2572                  0.06637  \n",
       "566                0.1418          0.2218                  0.07820  \n",
       "567                0.2650          0.4087                  0.12400  \n",
       "568                0.0000          0.2871                  0.07039  \n",
       "\n",
       "[569 rows x 32 columns]"
      ]
     },
     "execution_count": 125,
     "metadata": {},
     "output_type": "execute_result"
    }
   ],
   "source": [
    "df"
   ]
  },
  {
   "cell_type": "markdown",
   "id": "2bf8b835-334e-4250-8836-8bc25b458160",
   "metadata": {},
   "source": [
    "###### Separate the input and output variables"
   ]
  },
  {
   "cell_type": "code",
   "execution_count": 127,
   "id": "833887d5-84f7-4858-b22c-a0b1800f44ea",
   "metadata": {},
   "outputs": [],
   "source": [
    "# input variables\n",
    "x = df.drop(['id','diagnosis'], axis = 1)\n",
    "\n",
    "# output variable\n",
    "y = df['diagnosis']"
   ]
  },
  {
   "cell_type": "code",
   "execution_count": 128,
   "id": "f395c2e6-db11-470d-b0be-c4cf6e30942e",
   "metadata": {},
   "outputs": [
    {
     "data": {
      "text/plain": [
       "(569, 30)"
      ]
     },
     "execution_count": 128,
     "metadata": {},
     "output_type": "execute_result"
    }
   ],
   "source": [
    "x.shape"
   ]
  },
  {
   "cell_type": "code",
   "execution_count": 129,
   "id": "8ca831a1-169a-4f53-a59e-96e5585b1e5b",
   "metadata": {},
   "outputs": [
    {
     "data": {
      "text/plain": [
       "diagnosis\n",
       "B    357\n",
       "M    212\n",
       "Name: count, dtype: int64"
      ]
     },
     "execution_count": 129,
     "metadata": {},
     "output_type": "execute_result"
    }
   ],
   "source": [
    "y.value_counts()"
   ]
  },
  {
   "cell_type": "markdown",
   "id": "fc737057-9d3b-4920-aca2-ecbea257b2df",
   "metadata": {},
   "source": [
    "###### Standardize the data"
   ]
  },
  {
   "cell_type": "code",
   "execution_count": 131,
   "id": "947082cf-00af-43e1-b677-18327572a067",
   "metadata": {},
   "outputs": [],
   "source": [
    "from sklearn.preprocessing import StandardScaler"
   ]
  },
  {
   "cell_type": "code",
   "execution_count": 132,
   "id": "5e5db598-393d-4cf2-a768-a535781270eb",
   "metadata": {},
   "outputs": [],
   "source": [
    "scaler = StandardScaler()"
   ]
  },
  {
   "cell_type": "code",
   "execution_count": 133,
   "id": "949f5507-e1cc-4e43-9436-474a66fe976f",
   "metadata": {},
   "outputs": [],
   "source": [
    "x_scaled = scaler.fit_transform(x)"
   ]
  },
  {
   "cell_type": "code",
   "execution_count": 134,
   "id": "092652a1-1585-4deb-9bf5-d6497bf3c14e",
   "metadata": {},
   "outputs": [
    {
     "data": {
      "text/plain": [
       "array([[ 1.09706398, -2.07333501,  1.26993369, ...,  2.29607613,\n",
       "         2.75062224,  1.93701461],\n",
       "       [ 1.82982061, -0.35363241,  1.68595471, ...,  1.0870843 ,\n",
       "        -0.24388967,  0.28118999],\n",
       "       [ 1.57988811,  0.45618695,  1.56650313, ...,  1.95500035,\n",
       "         1.152255  ,  0.20139121],\n",
       "       ...,\n",
       "       [ 0.70228425,  2.0455738 ,  0.67267578, ...,  0.41406869,\n",
       "        -1.10454895, -0.31840916],\n",
       "       [ 1.83834103,  2.33645719,  1.98252415, ...,  2.28998549,\n",
       "         1.91908301,  2.21963528],\n",
       "       [-1.80840125,  1.22179204, -1.81438851, ..., -1.74506282,\n",
       "        -0.04813821, -0.75120669]])"
      ]
     },
     "execution_count": 134,
     "metadata": {},
     "output_type": "execute_result"
    }
   ],
   "source": [
    "x_scaled"
   ]
  },
  {
   "cell_type": "markdown",
   "id": "dd341647-4ad2-47a3-ab51-465c9062256a",
   "metadata": {},
   "source": [
    "###### Apply the LDA"
   ]
  },
  {
   "cell_type": "code",
   "execution_count": 136,
   "id": "8a49db72-4ab7-4ab9-b8df-3061aa417e08",
   "metadata": {},
   "outputs": [],
   "source": [
    "from sklearn.discriminant_analysis import LinearDiscriminantAnalysis "
   ]
  },
  {
   "cell_type": "code",
   "execution_count": 148,
   "id": "1c63fe6f-cfb6-41db-93a3-9b647126d6f9",
   "metadata": {},
   "outputs": [],
   "source": [
    "lda = LinearDiscriminantAnalysis(n_components=1)"
   ]
  },
  {
   "cell_type": "code",
   "execution_count": 151,
   "id": "0c5e2a66-0dfa-4b3b-881f-2bb0b448e095",
   "metadata": {},
   "outputs": [],
   "source": [
    "x_lda = lda.fit_transform(x_scaled, y)"
   ]
  },
  {
   "cell_type": "code",
   "execution_count": 152,
   "id": "611fb362-0a9b-4e60-9c31-6f8efa9d1263",
   "metadata": {},
   "outputs": [
    {
     "data": {
      "text/plain": [
       "(569, 1)"
      ]
     },
     "execution_count": 152,
     "metadata": {},
     "output_type": "execute_result"
    }
   ],
   "source": [
    "x_lda.shape"
   ]
  },
  {
   "cell_type": "code",
   "execution_count": 153,
   "id": "a0ee954b-2d11-4521-b372-82c03411bf59",
   "metadata": {},
   "outputs": [
    {
     "data": {
      "text/plain": [
       "array([[ 3.32392717e+00],\n",
       "       [ 2.31910801e+00],\n",
       "       [ 3.74742484e+00],\n",
       "       [ 4.04854946e+00],\n",
       "       [ 2.28115767e+00],\n",
       "       [ 1.61150348e+00],\n",
       "       [ 2.35653128e+00],\n",
       "       [ 1.28122316e+00],\n",
       "       [ 1.60828074e+00],\n",
       "       [ 3.86266690e+00],\n",
       "       [ 8.64980964e-01],\n",
       "       [ 2.39981887e+00],\n",
       "       [ 1.32670638e+00],\n",
       "       [ 4.20145181e-01],\n",
       "       [ 1.25084871e+00],\n",
       "       [ 3.06625368e+00],\n",
       "       [ 2.11049829e+00],\n",
       "       [ 3.17780841e+00],\n",
       "       [ 3.43796946e+00],\n",
       "       [-2.23125867e-01],\n",
       "       [-1.97973275e+00],\n",
       "       [-2.46635453e+00],\n",
       "       [ 1.79100127e+00],\n",
       "       [ 3.02554197e+00],\n",
       "       [ 3.87178737e+00],\n",
       "       [ 3.99524140e+00],\n",
       "       [ 2.74537482e+00],\n",
       "       [ 2.57652189e+00],\n",
       "       [ 3.07566630e+00],\n",
       "       [ 8.02258881e-01],\n",
       "       [ 3.41613522e+00],\n",
       "       [ 2.67943316e+00],\n",
       "       [ 3.63987363e+00],\n",
       "       [ 3.07550539e+00],\n",
       "       [ 2.68840028e+00],\n",
       "       [ 2.57312945e+00],\n",
       "       [ 1.07380321e+00],\n",
       "       [-1.87492316e+00],\n",
       "       [-4.90632982e-01],\n",
       "       [ 9.39621143e-01],\n",
       "       [-2.32245369e-01],\n",
       "       [ 2.90130296e-01],\n",
       "       [ 4.10554121e+00],\n",
       "       [ 1.46251896e+00],\n",
       "       [ 1.41036456e+00],\n",
       "       [ 3.44544604e+00],\n",
       "       [-3.27853344e+00],\n",
       "       [ 2.17816685e+00],\n",
       "       [-1.29143024e+00],\n",
       "       [-3.01628230e-01],\n",
       "       [-1.62796296e+00],\n",
       "       [-1.48830672e+00],\n",
       "       [-1.48280073e+00],\n",
       "       [ 1.45951018e+00],\n",
       "       [ 9.10778815e-01],\n",
       "       [-9.82044019e-01],\n",
       "       [ 3.13734003e+00],\n",
       "       [ 1.98133858e+00],\n",
       "       [-1.62708153e+00],\n",
       "       [-2.61236500e+00],\n",
       "       [-2.36846010e+00],\n",
       "       [-2.59329164e+00],\n",
       "       [ 2.45106183e+00],\n",
       "       [-2.34513269e+00],\n",
       "       [ 2.52007465e+00],\n",
       "       [ 1.44030488e+00],\n",
       "       [-1.74906617e+00],\n",
       "       [-1.34490018e+00],\n",
       "       [-1.18122253e+00],\n",
       "       [-1.53320482e+00],\n",
       "       [ 2.46577406e+00],\n",
       "       [-3.07777448e+00],\n",
       "       [ 3.70043921e+00],\n",
       "       [ 1.04662975e-01],\n",
       "       [-1.22621663e+00],\n",
       "       [ 2.18019556e+00],\n",
       "       [-1.15935804e+00],\n",
       "       [ 2.00180599e+00],\n",
       "       [ 4.05003808e+00],\n",
       "       [-1.50764827e+00],\n",
       "       [-8.64627083e-01],\n",
       "       [ 1.13512727e+00],\n",
       "       [ 4.76077510e+00],\n",
       "       [ 2.10113195e+00],\n",
       "       [-9.28378662e-01],\n",
       "       [ 3.31833913e+00],\n",
       "       [ 6.02588153e-01],\n",
       "       [ 4.50871123e+00],\n",
       "       [-1.46051925e-01],\n",
       "       [-1.79833480e-01],\n",
       "       [-7.20022125e-01],\n",
       "       [ 6.42615223e-01],\n",
       "       [-4.91547269e-01],\n",
       "       [-1.09179675e+00],\n",
       "       [ 1.89175663e+00],\n",
       "       [ 3.09969764e+00],\n",
       "       [-1.69675838e+00],\n",
       "       [-1.96092680e+00],\n",
       "       [-1.34222363e+00],\n",
       "       [ 7.30049465e-01],\n",
       "       [ 1.10533524e+00],\n",
       "       [-3.92939001e+00],\n",
       "       [-1.06773833e+00],\n",
       "       [-1.88665691e+00],\n",
       "       [-2.50780113e+00],\n",
       "       [ 2.25365735e+00],\n",
       "       [-3.01710017e-01],\n",
       "       [-1.78338727e+00],\n",
       "       [ 5.44879169e+00],\n",
       "       [-2.95817208e-01],\n",
       "       [-1.60634590e+00],\n",
       "       [-4.37404373e-01],\n",
       "       [-1.08487628e+00],\n",
       "       [-2.46964626e+00],\n",
       "       [-2.25545101e+00],\n",
       "       [-1.04252712e+00],\n",
       "       [-3.76329178e+00],\n",
       "       [ 2.43842667e+00],\n",
       "       [ 3.79025997e+00],\n",
       "       [ 2.03385672e+00],\n",
       "       [-1.56053228e+00],\n",
       "       [ 2.53260507e+00],\n",
       "       [ 3.87010774e+00],\n",
       "       [-8.67818366e-01],\n",
       "       [-1.56401482e+00],\n",
       "       [-1.54821908e+00],\n",
       "       [ 1.15691547e+00],\n",
       "       [ 1.40268103e+00],\n",
       "       [-5.07900435e-01],\n",
       "       [ 2.91575231e+00],\n",
       "       [-1.57992974e+00],\n",
       "       [ 1.83060350e+00],\n",
       "       [ 1.07160830e+00],\n",
       "       [ 1.46504157e-02],\n",
       "       [ 2.36979740e+00],\n",
       "       [ 8.38279299e-02],\n",
       "       [-1.42174189e+00],\n",
       "       [-2.10828229e+00],\n",
       "       [ 3.33527344e+00],\n",
       "       [-2.21779973e+00],\n",
       "       [-3.17155094e+00],\n",
       "       [ 1.29732825e+00],\n",
       "       [-1.92784590e+00],\n",
       "       [-9.60202566e-01],\n",
       "       [-2.70326046e+00],\n",
       "       [-1.80535744e+00],\n",
       "       [ 1.21100366e+00],\n",
       "       [-6.55082208e-01],\n",
       "       [-3.22185109e-01],\n",
       "       [-1.64786837e+00],\n",
       "       [-9.90619575e-01],\n",
       "       [-1.23218453e+00],\n",
       "       [-2.12427926e+00],\n",
       "       [-2.02205384e+00],\n",
       "       [ 1.61703802e-01],\n",
       "       [-1.01101767e+00],\n",
       "       [ 1.73559634e+00],\n",
       "       [-6.20675561e-01],\n",
       "       [-1.86859109e+00],\n",
       "       [-2.09867920e+00],\n",
       "       [-1.12631506e+00],\n",
       "       [ 2.25810292e+00],\n",
       "       [ 4.13314895e+00],\n",
       "       [-8.32168276e-01],\n",
       "       [ 3.47624199e+00],\n",
       "       [-1.33920244e+00],\n",
       "       [-2.81559160e+00],\n",
       "       [ 1.50812814e+00],\n",
       "       [ 3.48191517e+00],\n",
       "       [-1.24161191e+00],\n",
       "       [-1.31748271e+00],\n",
       "       [ 1.35461865e+00],\n",
       "       [ 1.98936000e+00],\n",
       "       [-1.94789932e+00],\n",
       "       [-2.76110153e+00],\n",
       "       [-3.53098368e+00],\n",
       "       [-1.59855655e+00],\n",
       "       [ 1.55702167e+00],\n",
       "       [-2.00268108e+00],\n",
       "       [-1.89654983e+00],\n",
       "       [ 4.43977759e+00],\n",
       "       [ 4.16249144e+00],\n",
       "       [ 1.82421847e+00],\n",
       "       [-2.45794363e+00],\n",
       "       [ 3.66455948e-01],\n",
       "       [-1.36882364e+00],\n",
       "       [ 1.11580384e+00],\n",
       "       [-1.20494456e+00],\n",
       "       [-1.72515838e+00],\n",
       "       [-2.37190063e+00],\n",
       "       [ 9.18126155e-01],\n",
       "       [-1.05223817e+00],\n",
       "       [-3.81962435e+00],\n",
       "       [ 2.06283345e+00],\n",
       "       [ 1.22258757e-02],\n",
       "       [-1.40313643e+00],\n",
       "       [ 2.61086225e+00],\n",
       "       [ 1.86815639e-01],\n",
       "       [ 1.99239993e+00],\n",
       "       [ 2.31487372e+00],\n",
       "       [-8.11008088e-02],\n",
       "       [ 1.70837811e+00],\n",
       "       [ 4.39173527e+00],\n",
       "       [ 3.69565604e+00],\n",
       "       [ 3.04467937e-02],\n",
       "       [ 7.58645776e-01],\n",
       "       [-2.48138848e+00],\n",
       "       [ 1.09969807e+00],\n",
       "       [-1.17334994e-01],\n",
       "       [-4.35759761e-01],\n",
       "       [ 2.47731974e+00],\n",
       "       [-1.73205741e+00],\n",
       "       [ 3.40702171e+00],\n",
       "       [ 1.55738761e+00],\n",
       "       [ 2.96201378e+00],\n",
       "       [ 3.97967071e-01],\n",
       "       [-9.91247029e-01],\n",
       "       [-2.38234717e+00],\n",
       "       [ 3.20073743e+00],\n",
       "       [ 3.11908584e+00],\n",
       "       [-1.46823969e+00],\n",
       "       [-1.29303625e+00],\n",
       "       [-2.13256092e+00],\n",
       "       [ 2.78954434e+00],\n",
       "       [-5.60908145e-01],\n",
       "       [-7.40158072e-02],\n",
       "       [-2.75472800e+00],\n",
       "       [-9.08395913e-01],\n",
       "       [ 2.48405082e-02],\n",
       "       [ 1.48335657e+00],\n",
       "       [ 2.31008228e+00],\n",
       "       [-2.12192155e+00],\n",
       "       [-1.15421908e+00],\n",
       "       [ 2.72266503e+00],\n",
       "       [-1.59994536e+00],\n",
       "       [-7.65256169e-01],\n",
       "       [ 3.95062910e+00],\n",
       "       [ 2.12172696e+00],\n",
       "       [-1.23983248e-02],\n",
       "       [ 4.30524692e+00],\n",
       "       [-9.24292251e-01],\n",
       "       [-2.26646990e+00],\n",
       "       [-3.01320353e-01],\n",
       "       [-1.22943301e+00],\n",
       "       [ 2.44822950e+00],\n",
       "       [-2.59925345e-01],\n",
       "       [-1.33668452e+00],\n",
       "       [-6.55749560e-01],\n",
       "       [-8.77960836e-01],\n",
       "       [-1.59582074e+00],\n",
       "       [ 3.56459843e+00],\n",
       "       [-1.41544904e+00],\n",
       "       [ 4.76082908e+00],\n",
       "       [ 1.73820370e+00],\n",
       "       [ 3.40832934e+00],\n",
       "       [ 2.19814950e-01],\n",
       "       [ 3.06872034e+00],\n",
       "       [ 2.49631828e+00],\n",
       "       [ 3.13711039e+00],\n",
       "       [ 3.60787108e+00],\n",
       "       [ 3.09226521e+00],\n",
       "       [ 3.26729331e-01],\n",
       "       [ 1.56255867e+00],\n",
       "       [-1.85509749e-02],\n",
       "       [ 2.37832305e+00],\n",
       "       [ 2.82196128e+00],\n",
       "       [-1.76692788e+00],\n",
       "       [-1.46065095e+00],\n",
       "       [-1.31031936e+00],\n",
       "       [-2.39838420e+00],\n",
       "       [-2.07526584e+00],\n",
       "       [-2.00211069e+00],\n",
       "       [ 3.08204320e+00],\n",
       "       [-1.54729826e+00],\n",
       "       [ 1.63855957e+00],\n",
       "       [-1.80804266e-01],\n",
       "       [-2.37509496e+00],\n",
       "       [ 9.99904638e-01],\n",
       "       [-1.23357791e+00],\n",
       "       [-1.02420480e+00],\n",
       "       [ 3.99093891e+00],\n",
       "       [-2.98149432e-01],\n",
       "       [ 3.35288863e+00],\n",
       "       [ 1.29972339e+00],\n",
       "       [-1.85416867e+00],\n",
       "       [-2.13791905e+00],\n",
       "       [-1.12756242e+00],\n",
       "       [-2.29630789e+00],\n",
       "       [-8.29620592e-01],\n",
       "       [-1.27235357e+00],\n",
       "       [-1.02841646e+00],\n",
       "       [-1.17784998e-03],\n",
       "       [-3.90107039e-01],\n",
       "       [-1.03989028e+00],\n",
       "       [-2.59475081e+00],\n",
       "       [-1.96836284e+00],\n",
       "       [-3.32824900e+00],\n",
       "       [-9.65743308e-01],\n",
       "       [-8.54088561e-01],\n",
       "       [-2.30405443e+00],\n",
       "       [ 4.05842775e+00],\n",
       "       [-1.71492065e+00],\n",
       "       [ 3.47427234e+00],\n",
       "       [-2.44225178e+00],\n",
       "       [-2.20479094e+00],\n",
       "       [-1.60132850e+00],\n",
       "       [-2.02802399e+00],\n",
       "       [-2.91385875e+00],\n",
       "       [-2.37083856e+00],\n",
       "       [-1.88770020e+00],\n",
       "       [-1.58403977e+00],\n",
       "       [-9.49689351e-01],\n",
       "       [-1.53323053e+00],\n",
       "       [-2.86658487e+00],\n",
       "       [-2.29313015e+00],\n",
       "       [-2.60207587e+00],\n",
       "       [-2.67494619e+00],\n",
       "       [ 1.83479964e+00],\n",
       "       [-2.12882632e+00],\n",
       "       [-1.96725372e+00],\n",
       "       [-1.50450639e+00],\n",
       "       [ 1.63730399e+00],\n",
       "       [-1.36727425e+00],\n",
       "       [ 5.15622503e+00],\n",
       "       [-1.71335708e+00],\n",
       "       [-1.90816159e+00],\n",
       "       [-1.35171640e+00],\n",
       "       [-2.27600590e+00],\n",
       "       [ 1.98641642e+00],\n",
       "       [ 1.28758298e+00],\n",
       "       [ 1.34439600e+00],\n",
       "       [-1.00267542e+00],\n",
       "       [-1.65031960e+00],\n",
       "       [-2.15452758e+00],\n",
       "       [-1.41422726e+00],\n",
       "       [ 2.97262771e+00],\n",
       "       [-2.39949269e+00],\n",
       "       [ 3.11145435e+00],\n",
       "       [-2.06463796e+00],\n",
       "       [ 4.08976782e+00],\n",
       "       [-1.09751418e-01],\n",
       "       [-1.95914933e+00],\n",
       "       [-1.59592781e+00],\n",
       "       [ 3.76755196e+00],\n",
       "       [-1.03963412e+00],\n",
       "       [-1.96543727e+00],\n",
       "       [-1.22405347e+00],\n",
       "       [ 1.83626902e-01],\n",
       "       [-1.29956257e+00],\n",
       "       [-2.79287528e+00],\n",
       "       [-1.49850700e+00],\n",
       "       [ 2.19278625e+00],\n",
       "       [ 4.48648072e+00],\n",
       "       [ 2.96192814e+00],\n",
       "       [-2.50404461e+00],\n",
       "       [-1.37110304e+00],\n",
       "       [-6.79993553e-01],\n",
       "       [-1.26570589e+00],\n",
       "       [-2.39796390e+00],\n",
       "       [-1.31444923e+00],\n",
       "       [-2.00187505e+00],\n",
       "       [-1.41033864e+00],\n",
       "       [-1.57636634e+00],\n",
       "       [-4.50208573e-02],\n",
       "       [-1.47637569e+00],\n",
       "       [ 2.00542196e+00],\n",
       "       [ 4.10208285e+00],\n",
       "       [-7.55125006e-01],\n",
       "       [ 1.55010340e+00],\n",
       "       [ 3.70205737e+00],\n",
       "       [ 3.31606097e+00],\n",
       "       [-1.53304461e+00],\n",
       "       [ 1.97178420e+00],\n",
       "       [ 2.92396410e+00],\n",
       "       [-1.29133345e+00],\n",
       "       [-9.13980871e-01],\n",
       "       [-2.21130923e+00],\n",
       "       [-9.69175380e-01],\n",
       "       [-8.86073774e-01],\n",
       "       [ 1.46888629e+00],\n",
       "       [-6.19537594e-01],\n",
       "       [-2.23270497e+00],\n",
       "       [-1.80334103e+00],\n",
       "       [-1.23398341e+00],\n",
       "       [-1.93087187e+00],\n",
       "       [ 9.07501623e-01],\n",
       "       [-1.67296525e+00],\n",
       "       [-1.71813063e+00],\n",
       "       [-2.36545925e+00],\n",
       "       [ 2.83562432e+00],\n",
       "       [-2.68013532e+00],\n",
       "       [-2.41726778e+00],\n",
       "       [ 3.52721542e+00],\n",
       "       [ 4.25915974e+00],\n",
       "       [-1.36818619e+00],\n",
       "       [-1.21148685e+00],\n",
       "       [-5.63957464e-01],\n",
       "       [-1.92418930e+00],\n",
       "       [-1.76508920e+00],\n",
       "       [-1.44422439e+00],\n",
       "       [ 3.09896109e+00],\n",
       "       [-1.47238730e+00],\n",
       "       [-1.82418531e+00],\n",
       "       [-1.83940877e+00],\n",
       "       [-1.79888426e+00],\n",
       "       [-1.09677965e+00],\n",
       "       [-4.61846302e-01],\n",
       "       [-1.18092714e+00],\n",
       "       [ 2.20522994e+00],\n",
       "       [-5.14644565e-01],\n",
       "       [-6.75914158e-01],\n",
       "       [-1.72056197e+00],\n",
       "       [-3.08785382e+00],\n",
       "       [ 3.70011716e-01],\n",
       "       [ 9.62884013e-01],\n",
       "       [-1.11796526e+00],\n",
       "       [-8.74050117e-01],\n",
       "       [ 3.70007545e+00],\n",
       "       [-1.24939609e+00],\n",
       "       [-1.64317529e+00],\n",
       "       [-1.36663951e+00],\n",
       "       [-5.08760087e-01],\n",
       "       [-1.76615905e+00],\n",
       "       [-4.80097336e-01],\n",
       "       [-1.12564171e+00],\n",
       "       [-2.27939337e+00],\n",
       "       [-1.61581512e+00],\n",
       "       [-7.38995213e-01],\n",
       "       [-2.56142491e+00],\n",
       "       [-1.79546575e+00],\n",
       "       [ 1.60085955e+00],\n",
       "       [-2.34967076e+00],\n",
       "       [ 3.10298364e+00],\n",
       "       [ 2.77383243e+00],\n",
       "       [-7.62391449e-01],\n",
       "       [ 1.81499196e+00],\n",
       "       [-1.02376497e+00],\n",
       "       [-4.53476544e-01],\n",
       "       [-8.93148626e-01],\n",
       "       [-1.65106372e+00],\n",
       "       [-9.76529889e-01],\n",
       "       [ 2.28295523e+00],\n",
       "       [-2.01469858e+00],\n",
       "       [-2.47199749e+00],\n",
       "       [ 5.35945345e-01],\n",
       "       [-4.66393872e-01],\n",
       "       [ 3.14843727e+00],\n",
       "       [-7.55291262e-01],\n",
       "       [-2.70681568e-01],\n",
       "       [ 3.23202078e+00],\n",
       "       [-1.70161229e+00],\n",
       "       [ 2.46036663e+00],\n",
       "       [-8.51763231e-01],\n",
       "       [-4.83087809e-01],\n",
       "       [-9.01296291e-01],\n",
       "       [-1.14992267e-01],\n",
       "       [-4.70013231e-01],\n",
       "       [-8.79422349e-01],\n",
       "       [-1.13324857e+00],\n",
       "       [-2.06913176e+00],\n",
       "       [ 3.27416756e+00],\n",
       "       [ 3.12154877e+00],\n",
       "       [-9.30290925e-01],\n",
       "       [-1.25468196e+00],\n",
       "       [-7.66361165e-01],\n",
       "       [-6.97411216e-02],\n",
       "       [-3.32063274e-01],\n",
       "       [-1.72671165e+00],\n",
       "       [ 2.97241698e+00],\n",
       "       [-1.12421860e-01],\n",
       "       [-1.56385822e+00],\n",
       "       [-5.63022271e-01],\n",
       "       [-5.11634040e-01],\n",
       "       [-1.17589792e+00],\n",
       "       [-2.28006080e+00],\n",
       "       [-1.28080210e+00],\n",
       "       [-5.96188868e-01],\n",
       "       [-1.58876873e+00],\n",
       "       [-2.01966817e+00],\n",
       "       [ 9.56858057e-01],\n",
       "       [-1.93192097e+00],\n",
       "       [-4.22772998e-01],\n",
       "       [-9.61385198e-01],\n",
       "       [-1.38711684e+00],\n",
       "       [-4.15590354e-01],\n",
       "       [-9.95705956e-01],\n",
       "       [-7.64441201e-01],\n",
       "       [ 3.82616433e+00],\n",
       "       [-1.00187693e+00],\n",
       "       [ 7.05168676e-01],\n",
       "       [-6.64701333e-01],\n",
       "       [-5.55121708e-01],\n",
       "       [ 1.93396827e+00],\n",
       "       [-1.88912803e+00],\n",
       "       [-9.99238846e-01],\n",
       "       [-4.55829471e-01],\n",
       "       [-4.07717872e-01],\n",
       "       [-1.23440031e+00],\n",
       "       [ 2.50952543e+00],\n",
       "       [ 3.02127481e+00],\n",
       "       [-1.00599090e+00],\n",
       "       [ 1.86731712e+00],\n",
       "       [-1.15920806e+00],\n",
       "       [ 3.87566859e+00],\n",
       "       [-2.66577109e+00],\n",
       "       [-1.68936564e+00],\n",
       "       [-1.57538696e+00],\n",
       "       [-1.11071899e+00],\n",
       "       [-9.52683110e-02],\n",
       "       [ 2.02207424e+00],\n",
       "       [-1.65073963e+00],\n",
       "       [-1.28877564e+00],\n",
       "       [ 1.89818808e+00],\n",
       "       [-5.77512569e-01],\n",
       "       [-2.81522039e-03],\n",
       "       [-1.49522023e+00],\n",
       "       [ 2.30655699e+00],\n",
       "       [ 2.57064791e+00],\n",
       "       [-1.37374594e+00],\n",
       "       [-1.13132969e+00],\n",
       "       [-1.52698725e+00],\n",
       "       [ 3.64356730e+00],\n",
       "       [-2.50284790e+00],\n",
       "       [-4.05313715e-01],\n",
       "       [-2.05823897e+00],\n",
       "       [-2.60639252e+00],\n",
       "       [-6.34943845e-01],\n",
       "       [-1.54120476e+00],\n",
       "       [-3.35357081e-01],\n",
       "       [-1.70658201e+00],\n",
       "       [-7.76429121e-01],\n",
       "       [-1.08056534e+00],\n",
       "       [-1.22560572e+00],\n",
       "       [ 2.28441352e+00],\n",
       "       [-2.15720323e+00],\n",
       "       [ 2.73016067e+00],\n",
       "       [ 2.68417932e-01],\n",
       "       [-5.45675204e-01],\n",
       "       [-1.91014556e+00],\n",
       "       [-2.68633390e+00],\n",
       "       [-2.41246256e+00],\n",
       "       [ 6.38582648e-01],\n",
       "       [ 2.94446273e-02],\n",
       "       [-7.82091431e-01],\n",
       "       [-1.59886331e+00],\n",
       "       [-6.97270276e-01],\n",
       "       [-2.58678310e+00],\n",
       "       [-1.94968682e+00],\n",
       "       [-2.07309610e+00],\n",
       "       [-8.00249687e-01],\n",
       "       [-2.41282993e+00],\n",
       "       [-1.92088883e+00],\n",
       "       [-4.29191722e-01],\n",
       "       [-2.49654430e+00],\n",
       "       [-5.87490340e-01],\n",
       "       [-1.22909551e+00],\n",
       "       [-2.83081523e+00],\n",
       "       [-1.95223534e+00],\n",
       "       [-1.50959124e+00],\n",
       "       [-9.61333483e-01],\n",
       "       [-3.29689868e-01],\n",
       "       [-2.35569625e+00],\n",
       "       [ 4.13595241e+00],\n",
       "       [ 3.80757376e+00],\n",
       "       [ 4.52546810e+00],\n",
       "       [ 2.92858813e+00],\n",
       "       [ 9.68061830e-01],\n",
       "       [ 5.87964271e+00],\n",
       "       [-2.73058961e+00]])"
      ]
     },
     "execution_count": 153,
     "metadata": {},
     "output_type": "execute_result"
    }
   ],
   "source": [
    "x_lda"
   ]
  },
  {
   "cell_type": "code",
   "execution_count": null,
   "id": "0d1dbe1d-7053-4417-ac4c-e381fc39a5b6",
   "metadata": {},
   "outputs": [],
   "source": []
  }
 ],
 "metadata": {
  "kernelspec": {
   "display_name": "Python 3 (ipykernel)",
   "language": "python",
   "name": "python3"
  },
  "language_info": {
   "codemirror_mode": {
    "name": "ipython",
    "version": 3
   },
   "file_extension": ".py",
   "mimetype": "text/x-python",
   "name": "python",
   "nbconvert_exporter": "python",
   "pygments_lexer": "ipython3",
   "version": "3.10.12"
  }
 },
 "nbformat": 4,
 "nbformat_minor": 5
}
