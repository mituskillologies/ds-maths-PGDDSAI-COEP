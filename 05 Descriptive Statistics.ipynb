{
 "cells": [
  {
   "cell_type": "code",
   "execution_count": 2,
   "id": "a6058f7a-2871-4c14-b80a-beee67bf6410",
   "metadata": {},
   "outputs": [],
   "source": [
    "import numpy as np\n",
    "import matplotlib.pyplot as plt\n",
    "import pandas as pd"
   ]
  },
  {
   "cell_type": "code",
   "execution_count": 3,
   "id": "e45bcac7-e3da-4cf3-8dad-502e94068dd9",
   "metadata": {},
   "outputs": [],
   "source": [
    "x = np.array([54,22,15,36,79,82,45,24,37])"
   ]
  },
  {
   "cell_type": "markdown",
   "id": "58b372ab-07d3-4748-b6df-18055eb7d324",
   "metadata": {},
   "source": [
    "##### Arithmetic Mean"
   ]
  },
  {
   "cell_type": "code",
   "execution_count": 4,
   "id": "41bedede-df0a-4c46-9819-2c8096058a60",
   "metadata": {},
   "outputs": [
    {
     "data": {
      "text/plain": [
       "43.77777777777778"
      ]
     },
     "execution_count": 4,
     "metadata": {},
     "output_type": "execute_result"
    }
   ],
   "source": [
    "x.mean()"
   ]
  },
  {
   "cell_type": "code",
   "execution_count": 5,
   "id": "c368ce49-7f4c-4ce8-afc4-4b90b7f450e3",
   "metadata": {},
   "outputs": [
    {
     "data": {
      "text/plain": [
       "43.77777777777778"
      ]
     },
     "execution_count": 5,
     "metadata": {},
     "output_type": "execute_result"
    }
   ],
   "source": [
    "sum(x) / len(x)"
   ]
  },
  {
   "cell_type": "code",
   "execution_count": 6,
   "id": "68fe16d6-7fe0-4e56-b797-4d4194914800",
   "metadata": {},
   "outputs": [
    {
     "data": {
      "text/plain": [
       "43.77777777777778"
      ]
     },
     "execution_count": 6,
     "metadata": {},
     "output_type": "execute_result"
    }
   ],
   "source": [
    "s = pd.Series([54,22,15,36,79,82,45,24,37])\n",
    "s.mean()"
   ]
  },
  {
   "cell_type": "markdown",
   "id": "bea996a4-afbf-48db-916f-e49990d597d5",
   "metadata": {},
   "source": [
    "##### Median"
   ]
  },
  {
   "cell_type": "code",
   "execution_count": 9,
   "id": "e4a69a73-2daa-4ec6-82a7-ae3428434aad",
   "metadata": {},
   "outputs": [
    {
     "data": {
      "text/plain": [
       "[15, 22, 24, 36, 37, 45, 54, 79, 82]"
      ]
     },
     "execution_count": 9,
     "metadata": {},
     "output_type": "execute_result"
    }
   ],
   "source": [
    "sorted(x)"
   ]
  },
  {
   "cell_type": "code",
   "execution_count": 11,
   "id": "b1cbb93c-06bc-4bb9-88c5-65eb5af94151",
   "metadata": {},
   "outputs": [
    {
     "data": {
      "text/plain": [
       "37.0"
      ]
     },
     "execution_count": 11,
     "metadata": {},
     "output_type": "execute_result"
    }
   ],
   "source": [
    "np.median(x)"
   ]
  },
  {
   "cell_type": "code",
   "execution_count": 12,
   "id": "6de9e1b1-6505-47c1-97ce-d34a1b3214c6",
   "metadata": {},
   "outputs": [
    {
     "data": {
      "text/plain": [
       "37.0"
      ]
     },
     "execution_count": 12,
     "metadata": {},
     "output_type": "execute_result"
    }
   ],
   "source": [
    "s.median()"
   ]
  },
  {
   "cell_type": "markdown",
   "id": "2185e0f2-d51b-439d-8be5-d8651795fb1f",
   "metadata": {},
   "source": [
    "##### Geometric Mean"
   ]
  },
  {
   "cell_type": "markdown",
   "id": "eae894af-27b9-424a-a2b5-e77d5ba163b3",
   "metadata": {},
   "source": [
    "The geometric mean is a measure of central tendency that is useful for sets of positive numbers. It is defined as the n-th root of the product of n numbers. The geometric mean is calculated using the formula:"
   ]
  },
  {
   "attachments": {
    "953285d2-b26e-4ef8-a64f-fbcdf206c8d4.png": {
     "image/png": "[encoded data removed]"
    }
   },
   "cell_type": "markdown",
   "id": "13d53558-f925-4b67-8233-c42904be5b99",
   "metadata": {},
   "source": [
    "![Screenshot from 2024-07-14 09-33-38.png](attachment:953285d2-b26e-4ef8-a64f-fbcdf206c8d4.png)"
   ]
  },
  {
   "cell_type": "code",
   "execution_count": 15,
   "id": "7c0befcc-2ea0-4570-ad20-5848b0db86de",
   "metadata": {},
   "outputs": [],
   "source": [
    "def geometric_mean(data):\n",
    "    # Compute the geometric mean\n",
    "    return np.exp(np.mean(np.log(data)))"
   ]
  },
  {
   "cell_type": "code",
   "execution_count": 16,
   "id": "b218a89f-5efb-418d-8a8d-80c6f20dbef9",
   "metadata": {},
   "outputs": [
    {
     "data": {
      "text/plain": [
       "38.02163041042291"
      ]
     },
     "execution_count": 16,
     "metadata": {},
     "output_type": "execute_result"
    }
   ],
   "source": [
    "geometric_mean(x)"
   ]
  },
  {
   "cell_type": "code",
   "execution_count": 18,
   "id": "73cc9fa1-f51e-4eb2-9928-554bf23b9514",
   "metadata": {},
   "outputs": [],
   "source": [
    "from scipy.stats import gmean "
   ]
  },
  {
   "cell_type": "code",
   "execution_count": 19,
   "id": "b81483f9-8242-4375-9957-ea334260862b",
   "metadata": {},
   "outputs": [
    {
     "data": {
      "text/plain": [
       "38.02163041042291"
      ]
     },
     "execution_count": 19,
     "metadata": {},
     "output_type": "execute_result"
    }
   ],
   "source": [
    "gmean(x)"
   ]
  },
  {
   "cell_type": "markdown",
   "id": "f8f4c607-340d-484e-94d9-c2e147cd87bf",
   "metadata": {},
   "source": [
    "##### Harmonic Mean"
   ]
  },
  {
   "cell_type": "markdown",
   "id": "78fa5dbc-e28c-4528-b1c2-9df64d766576",
   "metadata": {},
   "source": [
    "The harmonic mean is another measure of central tendency, especially useful when the values are rates or ratios. It is defined as the reciprocal of the arithmetic mean of the reciprocals of the values. The harmonic mean H of a set of n values x1,x2,…,xnx1​,x2​,…,xn​ is given by:"
   ]
  },
  {
   "attachments": {
    "c1a36656-2fc8-4511-bc28-028309f754ae.png": {
     "image/png": "[encoded data removed]"
    }
   },
   "cell_type": "markdown",
   "id": "a8c2d81f-cd49-45f0-a098-ed49a6da5c4e",
   "metadata": {},
   "source": [
    "![Screenshot from 2024-07-14 09-48-03.png](attachment:c1a36656-2fc8-4511-bc28-028309f754ae.png)"
   ]
  },
  {
   "cell_type": "code",
   "execution_count": 21,
   "id": "202a21ba-ab92-42fc-8e8e-a4d104b45659",
   "metadata": {},
   "outputs": [],
   "source": [
    "def harmonic_mean(data):\n",
    "    n = len(data)\n",
    "    reciprocals_sum = sum(1 / x for x in data)\n",
    "    return n / reciprocals_sum"
   ]
  },
  {
   "cell_type": "code",
   "execution_count": 23,
   "id": "cd5c8172-0a12-43ba-b613-a0ea8493a5ff",
   "metadata": {},
   "outputs": [
    {
     "data": {
      "text/plain": [
       "32.82434037333518"
      ]
     },
     "execution_count": 23,
     "metadata": {},
     "output_type": "execute_result"
    }
   ],
   "source": [
    "harmonic_mean(x)"
   ]
  },
  {
   "cell_type": "code",
   "execution_count": 24,
   "id": "70c57140-5046-4b3c-a0af-2ce5fbc7dd7b",
   "metadata": {},
   "outputs": [],
   "source": [
    "from statistics import harmonic_mean\n",
    "from scipy.stats import hmean"
   ]
  },
  {
   "cell_type": "code",
   "execution_count": 25,
   "id": "80e4170d-1fcb-4b75-ba96-830d26772425",
   "metadata": {},
   "outputs": [
    {
     "data": {
      "text/plain": [
       "32.82434037333518"
      ]
     },
     "execution_count": 25,
     "metadata": {},
     "output_type": "execute_result"
    }
   ],
   "source": [
    "harmonic_mean(x)"
   ]
  },
  {
   "cell_type": "code",
   "execution_count": 26,
   "id": "9f65cc5f-5ebf-4e65-83ba-e337578cac48",
   "metadata": {},
   "outputs": [
    {
     "data": {
      "text/plain": [
       "32.82434037333519"
      ]
     },
     "execution_count": 26,
     "metadata": {},
     "output_type": "execute_result"
    }
   ],
   "source": [
    "hmean(x)"
   ]
  },
  {
   "cell_type": "markdown",
   "id": "c822f96d-e54f-4491-8d10-7de689638288",
   "metadata": {},
   "source": [
    "##### Mode"
   ]
  },
  {
   "cell_type": "code",
   "execution_count": 28,
   "id": "decf3504-ee63-45d4-99b4-8653cd0bea2e",
   "metadata": {},
   "outputs": [],
   "source": [
    "y = np.array([5,6,8,7,6,5,2,5,9,5,5,3,0])"
   ]
  },
  {
   "cell_type": "code",
   "execution_count": 29,
   "id": "c5c301db-e109-4302-8ced-fe2702c7470d",
   "metadata": {},
   "outputs": [],
   "source": [
    "from collections import Counter"
   ]
  },
  {
   "cell_type": "code",
   "execution_count": 30,
   "id": "efbb1829-8459-4b26-9108-c39561f0ac52",
   "metadata": {},
   "outputs": [
    {
     "data": {
      "text/plain": [
       "Counter({5: 5, 6: 2, 8: 1, 7: 1, 2: 1, 9: 1, 3: 1, 0: 1})"
      ]
     },
     "execution_count": 30,
     "metadata": {},
     "output_type": "execute_result"
    }
   ],
   "source": [
    "Counter(y)"
   ]
  },
  {
   "cell_type": "code",
   "execution_count": 31,
   "id": "ba0101e6-094e-446f-9018-2637e730b931",
   "metadata": {},
   "outputs": [],
   "source": [
    "from scipy.stats import mode"
   ]
  },
  {
   "cell_type": "code",
   "execution_count": 32,
   "id": "abcce13c-3ff1-4992-a78e-998d97c7f40c",
   "metadata": {},
   "outputs": [
    {
     "data": {
      "text/plain": [
       "ModeResult(mode=5, count=5)"
      ]
     },
     "execution_count": 32,
     "metadata": {},
     "output_type": "execute_result"
    }
   ],
   "source": [
    "mode(y)"
   ]
  },
  {
   "cell_type": "code",
   "execution_count": 35,
   "id": "a697df78-c02a-4b2e-a8ea-99f3ac31248c",
   "metadata": {},
   "outputs": [],
   "source": [
    "def find_mode(data):\n",
    "    values, counts = np.unique(data,return_counts=True)\n",
    "    max_count_index = np.argmax(counts)\n",
    "    mode_value = values[max_count_index]\n",
    "    return mode_value"
   ]
  },
  {
   "cell_type": "code",
   "execution_count": 36,
   "id": "a19c0852-59fd-4426-ac76-fa1f0c3bf110",
   "metadata": {},
   "outputs": [
    {
     "data": {
      "text/plain": [
       "5"
      ]
     },
     "execution_count": 36,
     "metadata": {},
     "output_type": "execute_result"
    }
   ],
   "source": [
    "find_mode(y)"
   ]
  },
  {
   "cell_type": "markdown",
   "id": "25aae72e-13f8-4330-a395-8f4f98e7af56",
   "metadata": {},
   "source": [
    "##### Symmetrical Data"
   ]
  },
  {
   "cell_type": "code",
   "execution_count": 39,
   "id": "23dd6856-ab98-4883-b413-874338567a5d",
   "metadata": {},
   "outputs": [],
   "source": [
    "x = np.array([1,2,2,3,3,3,4,4,4,4,5,5,5,5,5,6,6,6,6,7,7,7,8,8,9])"
   ]
  },
  {
   "cell_type": "code",
   "execution_count": 40,
   "id": "a667425e-fa82-4312-a523-f04cd8f80c6c",
   "metadata": {},
   "outputs": [],
   "source": [
    "import seaborn as sns"
   ]
  },
  {
   "cell_type": "code",
   "execution_count": 41,
   "id": "5fa17a24-389e-4cf5-9785-cc0765a109e6",
   "metadata": {},
   "outputs": [
    {
     "data": {
      "text/plain": [
       "<Axes: ylabel='Density'>"
      ]
     },
     "execution_count": 41,
     "metadata": {},
     "output_type": "execute_result"
    },
    {
     "data": {
      "image/png": "[encoded data removed]",
      "text/plain": [
       "<Figure size 640x480 with 1 Axes>"
      ]
     },
     "metadata": {},
     "output_type": "display_data"
    }
   ],
   "source": [
    "sns.kdeplot(x)"
   ]
  },
  {
   "cell_type": "code",
   "execution_count": 42,
   "id": "d41f3b2f-49f9-452f-83b0-30e5fd041cad",
   "metadata": {},
   "outputs": [
    {
     "data": {
      "text/plain": [
       "5.0"
      ]
     },
     "execution_count": 42,
     "metadata": {},
     "output_type": "execute_result"
    }
   ],
   "source": [
    "x.mean()"
   ]
  },
  {
   "cell_type": "code",
   "execution_count": 43,
   "id": "4d535618-397b-4379-b5aa-1821c94a272f",
   "metadata": {},
   "outputs": [
    {
     "data": {
      "text/plain": [
       "5.0"
      ]
     },
     "execution_count": 43,
     "metadata": {},
     "output_type": "execute_result"
    }
   ],
   "source": [
    "np.median(x)"
   ]
  },
  {
   "cell_type": "code",
   "execution_count": 44,
   "id": "08e87961-ef1f-4d5f-9b02-b030fe0dea6d",
   "metadata": {},
   "outputs": [
    {
     "data": {
      "text/plain": [
       "ModeResult(mode=5, count=5)"
      ]
     },
     "execution_count": 44,
     "metadata": {},
     "output_type": "execute_result"
    }
   ],
   "source": [
    "mode(x)"
   ]
  },
  {
   "cell_type": "code",
   "execution_count": 45,
   "id": "04205117-52a0-4146-ba26-fbfceec67c73",
   "metadata": {},
   "outputs": [
    {
     "data": {
      "text/plain": [
       "4.506023101113071"
      ]
     },
     "execution_count": 45,
     "metadata": {},
     "output_type": "execute_result"
    }
   ],
   "source": [
    "gmean(x)"
   ]
  },
  {
   "cell_type": "code",
   "execution_count": 46,
   "id": "3265c772-6aa3-4db4-b037-6156e71753a4",
   "metadata": {},
   "outputs": [
    {
     "data": {
      "text/plain": [
       "3.8721573448063924"
      ]
     },
     "execution_count": 46,
     "metadata": {},
     "output_type": "execute_result"
    }
   ],
   "source": [
    "hmean(x)"
   ]
  },
  {
   "cell_type": "markdown",
   "id": "c51f899a-fbef-40fd-9302-052106fa6b4c",
   "metadata": {},
   "source": [
    "##### Mid-range"
   ]
  },
  {
   "cell_type": "code",
   "execution_count": 48,
   "id": "a603a5a0-4322-4e0a-b96e-a7e8edd40a0c",
   "metadata": {},
   "outputs": [
    {
     "data": {
      "text/plain": [
       "array([1, 2, 2, 3, 3, 3, 4, 4, 4, 4, 5, 5, 5, 5, 5, 6, 6, 6, 6, 7, 7, 7,\n",
       "       8, 8, 9])"
      ]
     },
     "execution_count": 48,
     "metadata": {},
     "output_type": "execute_result"
    }
   ],
   "source": [
    "x"
   ]
  },
  {
   "cell_type": "code",
   "execution_count": 49,
   "id": "6588a1dc-b1b0-450e-95c8-764be1c6c86b",
   "metadata": {},
   "outputs": [],
   "source": [
    "x = np.array([54,22,15,36,79,82,45,24,37])"
   ]
  },
  {
   "cell_type": "code",
   "execution_count": 50,
   "id": "cb0b6068-ebcb-40bb-bf0e-b56402cb2ed5",
   "metadata": {},
   "outputs": [
    {
     "data": {
      "text/plain": [
       "array([54, 22, 15, 36, 79, 82, 45, 24, 37])"
      ]
     },
     "execution_count": 50,
     "metadata": {},
     "output_type": "execute_result"
    }
   ],
   "source": [
    "x"
   ]
  },
  {
   "cell_type": "code",
   "execution_count": 51,
   "id": "4e2757f9-7a44-45cc-8abe-a23f3df7ae92",
   "metadata": {},
   "outputs": [
    {
     "data": {
      "text/plain": [
       "48.5"
      ]
     },
     "execution_count": 51,
     "metadata": {},
     "output_type": "execute_result"
    }
   ],
   "source": [
    "(x.min() + x.max()) / 2"
   ]
  },
  {
   "cell_type": "markdown",
   "id": "4c34d826-f4e3-4058-b8ff-591e4869090e",
   "metadata": {},
   "source": [
    "#### Measure of Dispersion"
   ]
  },
  {
   "cell_type": "markdown",
   "id": "555ecdf8-e498-473e-b268-884f26a7471b",
   "metadata": {},
   "source": [
    "##### Mean Absolute Deviation"
   ]
  },
  {
   "cell_type": "markdown",
   "id": "276e3fc3-0741-4ae0-a361-48a78d3f8a31",
   "metadata": {},
   "source": [
    "The mean absolute deviation (MAD) is a measure of variability that indicates the average absolute deviation of each data point from the mean of the dataset. Here's how you can calculate the mean absolute deviation in Python:\n",
    "\n",
    "    Calculate the mean of the dataset.\n",
    "    Compute the absolute deviations of each data point from the mean.\n",
    "    Calculate the mean of these absolute deviations."
   ]
  },
  {
   "cell_type": "code",
   "execution_count": 54,
   "id": "2e62ff77-a521-466e-b8d3-2dcc560dccc7",
   "metadata": {},
   "outputs": [
    {
     "data": {
      "text/plain": [
       "array([54, 22, 15, 36, 79, 82, 45, 24, 37])"
      ]
     },
     "execution_count": 54,
     "metadata": {},
     "output_type": "execute_result"
    }
   ],
   "source": [
    "x"
   ]
  },
  {
   "cell_type": "code",
   "execution_count": 55,
   "id": "239465f9-54b0-4542-9d51-58f23c511436",
   "metadata": {},
   "outputs": [
    {
     "data": {
      "text/plain": [
       "43.77777777777778"
      ]
     },
     "execution_count": 55,
     "metadata": {},
     "output_type": "execute_result"
    }
   ],
   "source": [
    "x.mean()"
   ]
  },
  {
   "cell_type": "code",
   "execution_count": 56,
   "id": "58a3025f-99d7-4996-acf0-0244d9041c63",
   "metadata": {},
   "outputs": [
    {
     "data": {
      "text/plain": [
       "array([10.22222222, 21.77777778, 28.77777778,  7.77777778, 35.22222222,\n",
       "       38.22222222,  1.22222222, 19.77777778,  6.77777778])"
      ]
     },
     "execution_count": 56,
     "metadata": {},
     "output_type": "execute_result"
    }
   ],
   "source": [
    "abs(x - x.mean())"
   ]
  },
  {
   "cell_type": "code",
   "execution_count": 57,
   "id": "e915a00d-e905-456b-9c4d-d682dfaec43a",
   "metadata": {},
   "outputs": [
    {
     "data": {
      "text/plain": [
       "18.864197530864196"
      ]
     },
     "execution_count": 57,
     "metadata": {},
     "output_type": "execute_result"
    }
   ],
   "source": [
    "np.mean(abs(x - x.mean()))"
   ]
  },
  {
   "cell_type": "markdown",
   "id": "fe921e19-61c6-4f65-8a1d-3d9c2057b986",
   "metadata": {},
   "source": [
    "##### Variance"
   ]
  },
  {
   "cell_type": "markdown",
   "id": "87d4af19-60aa-4a65-8e3d-8f4dbf6ffeb5",
   "metadata": {},
   "source": [
    "Variance is a measure of the dispersion of a set of values. It quantifies how much the values in a dataset differ from the mean of the dataset. "
   ]
  },
  {
   "attachments": {
    "5ca6eba6-15bc-49c6-92e4-8e2c7ee30a59.png": {
     "image/png": "[encoded data removed]"
    }
   },
   "cell_type": "markdown",
   "id": "30d12cd1-8911-47da-aadf-aec17d337f9e",
   "metadata": {},
   "source": [
    "![Screenshot from 2024-07-14 10-30-21.png](attachment:5ca6eba6-15bc-49c6-92e4-8e2c7ee30a59.png)"
   ]
  },
  {
   "cell_type": "code",
   "execution_count": 59,
   "id": "e8134ca7-136c-4f87-9c35-ba1157bf701f",
   "metadata": {},
   "outputs": [
    {
     "data": {
      "text/plain": [
       "array([54, 22, 15, 36, 79, 82, 45, 24, 37])"
      ]
     },
     "execution_count": 59,
     "metadata": {},
     "output_type": "execute_result"
    }
   ],
   "source": [
    "x"
   ]
  },
  {
   "cell_type": "code",
   "execution_count": 61,
   "id": "4bda3a2a-1f3c-43b0-a58b-641c8fbe64b5",
   "metadata": {},
   "outputs": [
    {
     "data": {
      "text/plain": [
       "511.95061728395075"
      ]
     },
     "execution_count": 61,
     "metadata": {},
     "output_type": "execute_result"
    }
   ],
   "source": [
    "np.mean((x - x.mean()) ** 2)"
   ]
  },
  {
   "cell_type": "code",
   "execution_count": 62,
   "id": "19997f20-b1b9-4d23-b7ff-13760d62b1cc",
   "metadata": {},
   "outputs": [
    {
     "data": {
      "text/plain": [
       "511.95061728395075"
      ]
     },
     "execution_count": 62,
     "metadata": {},
     "output_type": "execute_result"
    }
   ],
   "source": [
    "x.var()"
   ]
  },
  {
   "cell_type": "code",
   "execution_count": 63,
   "id": "4e893518-a9c7-4792-bcc7-e321536f397d",
   "metadata": {},
   "outputs": [
    {
     "data": {
      "text/plain": [
       "511.95061728395075"
      ]
     },
     "execution_count": 63,
     "metadata": {},
     "output_type": "execute_result"
    }
   ],
   "source": [
    "np.var(x)"
   ]
  },
  {
   "cell_type": "markdown",
   "id": "5c0856d7-e6f1-437d-ae5a-a47957d01d1f",
   "metadata": {},
   "source": [
    "##### Standard Deviation"
   ]
  },
  {
   "cell_type": "markdown",
   "id": "09ed5739-12f4-45cd-9cda-a593a6c7dad2",
   "metadata": {},
   "source": [
    "Standard deviation is a measure of the amount of variation or dispersion in a set of values. It is the square root of the variance. "
   ]
  },
  {
   "attachments": {
    "44e97ef9-1d3c-4bae-b595-0517d5098567.png": {
     "image/png": "[encoded data removed]"
    }
   },
   "cell_type": "markdown",
   "id": "ea41c617-ebdc-4faf-b3e7-b2be6ece8e9a",
   "metadata": {},
   "source": [
    "![Screenshot from 2024-07-14 10-57-32.png](attachment:44e97ef9-1d3c-4bae-b595-0517d5098567.png)"
   ]
  },
  {
   "cell_type": "code",
   "execution_count": 65,
   "id": "03f1c3ca-96f4-4031-aeec-9750dd752bb7",
   "metadata": {},
   "outputs": [
    {
     "data": {
      "text/plain": [
       "22.626325757487688"
      ]
     },
     "execution_count": 65,
     "metadata": {},
     "output_type": "execute_result"
    }
   ],
   "source": [
    "np.sqrt(np.mean((x - x.mean()) ** 2))"
   ]
  },
  {
   "cell_type": "code",
   "execution_count": 66,
   "id": "de3c2919-5fbb-45c0-a675-be42e101e562",
   "metadata": {},
   "outputs": [
    {
     "data": {
      "text/plain": [
       "22.626325757487688"
      ]
     },
     "execution_count": 66,
     "metadata": {},
     "output_type": "execute_result"
    }
   ],
   "source": [
    "x.std()"
   ]
  },
  {
   "cell_type": "code",
   "execution_count": 74,
   "id": "6e83f781-8780-4aff-8f7f-9894401c5997",
   "metadata": {},
   "outputs": [
    {
     "data": {
      "text/plain": [
       "<matplotlib.collections.PathCollection at 0x740ea4ba7820>"
      ]
     },
     "execution_count": 74,
     "metadata": {},
     "output_type": "execute_result"
    },
    {
     "data": {
      "image/png": "[encoded data removed]",
      "text/plain": [
       "<Figure size 640x480 with 1 Axes>"
      ]
     },
     "metadata": {},
     "output_type": "display_data"
    }
   ],
   "source": [
    "plt.scatter(x, range(len(x)))\n",
    "plt.scatter(x.std(), np.mean(range(len(x))))"
   ]
  },
  {
   "cell_type": "markdown",
   "id": "1b207d2a-26bf-431f-ab32-11be35fa60b4",
   "metadata": {},
   "source": [
    "##### Range "
   ]
  },
  {
   "cell_type": "code",
   "execution_count": 77,
   "id": "e155c6ee-de39-427c-95b7-36b9af05e906",
   "metadata": {},
   "outputs": [
    {
     "data": {
      "text/plain": [
       "67"
      ]
     },
     "execution_count": 77,
     "metadata": {},
     "output_type": "execute_result"
    }
   ],
   "source": [
    "x.max() - x.min()"
   ]
  },
  {
   "cell_type": "markdown",
   "id": "61592103-40ab-4534-96ec-532875df1eca",
   "metadata": {},
   "source": [
    "##### Skewness"
   ]
  },
  {
   "cell_type": "code",
   "execution_count": 79,
   "id": "c3c4504d-f566-4a59-8ddd-c0752de80460",
   "metadata": {},
   "outputs": [],
   "source": [
    "x = np.array([1,2,2,3,3,3,4,4,4,4,5,5,5,5,5,6,6,6,6,6,6,7,7,7,7,7,7])"
   ]
  },
  {
   "cell_type": "code",
   "execution_count": 80,
   "id": "31891c1f-62ce-465d-8f24-003a83e5fef4",
   "metadata": {},
   "outputs": [
    {
     "data": {
      "text/plain": [
       "<Axes: ylabel='Density'>"
      ]
     },
     "execution_count": 80,
     "metadata": {},
     "output_type": "execute_result"
    },
    {
     "data": {
      "image/png": "[encoded data removed]",
      "text/plain": [
       "<Figure size 640x480 with 1 Axes>"
      ]
     },
     "metadata": {},
     "output_type": "display_data"
    }
   ],
   "source": [
    "sns.kdeplot(x)"
   ]
  },
  {
   "attachments": {
    "c9a5e4c8-e198-40be-91be-02225510a9ca.png": {
     "image/png": "[encoded data removed]"
    }
   },
   "cell_type": "markdown",
   "id": "f82ff4d6-f50a-4d67-831e-b76d04ea456e",
   "metadata": {},
   "source": [
    "![Screenshot from 2024-07-14 11-18-03.png](attachment:c9a5e4c8-e198-40be-91be-02225510a9ca.png)"
   ]
  },
  {
   "cell_type": "code",
   "execution_count": 81,
   "id": "8cb26054-d523-4237-ab07-ed29d4109f99",
   "metadata": {},
   "outputs": [],
   "source": [
    "def calculate_skewness(data):\n",
    "    mean = np.mean(data)\n",
    "    std_dev = np.std(data)\n",
    "    skewness = np.mean((data - mean) ** 3) / (std_dev ** 3)\n",
    "    return skewness"
   ]
  },
  {
   "cell_type": "code",
   "execution_count": 82,
   "id": "a9d4e2bf-0133-4468-b632-7eaee2cb7088",
   "metadata": {},
   "outputs": [
    {
     "data": {
      "text/plain": [
       "-0.5406506763161562"
      ]
     },
     "execution_count": 82,
     "metadata": {},
     "output_type": "execute_result"
    }
   ],
   "source": [
    "calculate_skewness(x)"
   ]
  },
  {
   "cell_type": "code",
   "execution_count": 83,
   "id": "37475fbf-23d3-4a22-8f87-1f0aa30a4676",
   "metadata": {},
   "outputs": [
    {
     "data": {
      "text/plain": [
       "(4.925925925925926, 5.0, ModeResult(mode=6, count=6))"
      ]
     },
     "execution_count": 83,
     "metadata": {},
     "output_type": "execute_result"
    }
   ],
   "source": [
    "x.mean(), np.median(x), mode(x)"
   ]
  },
  {
   "cell_type": "code",
   "execution_count": 84,
   "id": "6f9b120c-ad2a-4707-bad5-3d3b913af19c",
   "metadata": {},
   "outputs": [],
   "source": [
    "from scipy.stats import skew"
   ]
  },
  {
   "cell_type": "code",
   "execution_count": 85,
   "id": "ec57b6ac-22fd-415e-8797-f94017758add",
   "metadata": {},
   "outputs": [
    {
     "data": {
      "text/plain": [
       "-0.5406506763161562"
      ]
     },
     "execution_count": 85,
     "metadata": {},
     "output_type": "execute_result"
    }
   ],
   "source": [
    "skew(x)"
   ]
  },
  {
   "cell_type": "code",
   "execution_count": 88,
   "id": "a34ee8db-3bed-49c3-abb6-ad7f21b7f917",
   "metadata": {},
   "outputs": [],
   "source": [
    "y = np.array([1,1,1,1,1,1,1,2,2,2,2,2,2,3,3,3,3,3,4,4,4,4,5,5,5,6,6,7])"
   ]
  },
  {
   "cell_type": "code",
   "execution_count": 89,
   "id": "cc5f5218-4884-43e8-847f-373ae3878626",
   "metadata": {},
   "outputs": [
    {
     "data": {
      "text/plain": [
       "<Axes: ylabel='Density'>"
      ]
     },
     "execution_count": 89,
     "metadata": {},
     "output_type": "execute_result"
    },
    {
     "data": {
      "image/png": "[encoded data removed]",
      "text/plain": [
       "<Figure size 640x480 with 1 Axes>"
      ]
     },
     "metadata": {},
     "output_type": "display_data"
    }
   ],
   "source": [
    "sns.kdeplot(y)"
   ]
  },
  {
   "cell_type": "code",
   "execution_count": 90,
   "id": "78ae1b4a-4efe-493f-8272-44340f89e01f",
   "metadata": {},
   "outputs": [
    {
     "data": {
      "text/plain": [
       "0.5773502691896257"
      ]
     },
     "execution_count": 90,
     "metadata": {},
     "output_type": "execute_result"
    }
   ],
   "source": [
    "skew(y)"
   ]
  },
  {
   "cell_type": "code",
   "execution_count": 91,
   "id": "69a42d7b-f428-4fe5-934d-f22b88e1197a",
   "metadata": {},
   "outputs": [
    {
     "data": {
      "text/plain": [
       "0.5773502691896258"
      ]
     },
     "execution_count": 91,
     "metadata": {},
     "output_type": "execute_result"
    }
   ],
   "source": [
    "calculate_skewness(y)"
   ]
  },
  {
   "cell_type": "code",
   "execution_count": 92,
   "id": "2fb7006c-afc7-481b-b3f5-9adf3d99b921",
   "metadata": {},
   "outputs": [
    {
     "data": {
      "text/plain": [
       "(3.0, 3.0, ModeResult(mode=1, count=7))"
      ]
     },
     "execution_count": 92,
     "metadata": {},
     "output_type": "execute_result"
    }
   ],
   "source": [
    "y.mean(), np.median(y), mode(y)"
   ]
  },
  {
   "cell_type": "markdown",
   "id": "413d778c-343f-4ad4-8da8-59bb4411ba8c",
   "metadata": {},
   "source": [
    "##### Kurtosis"
   ]
  },
  {
   "cell_type": "markdown",
   "id": "4d286d46-5a4f-4b1e-b378-fa2a87eda2ce",
   "metadata": {},
   "source": [
    "Kurtosis is a statistical measure that describes the distribution's tails relative to its mean. It indicates whether the data are heavy-tailed or light-tailed compared to a normal distribution. There are different formulations for kurtosis, but the most commonly used one is based on the fourth standardized moment."
   ]
  },
  {
   "attachments": {
    "4bfa8082-d6f2-4693-b83b-a5cd1f71820b.png": {
     "image/png": "[encoded data removed]"
    }
   },
   "cell_type": "markdown",
   "id": "29e0342a-0bb8-4698-8888-89cc7983ad5e",
   "metadata": {},
   "source": [
    "![Screenshot from 2024-07-14 11-35-18.png](attachment:4bfa8082-d6f2-4693-b83b-a5cd1f71820b.png)"
   ]
  },
  {
   "cell_type": "code",
   "execution_count": 94,
   "id": "7b259ed9-aed1-4003-b3e4-317a8a6a6a02",
   "metadata": {},
   "outputs": [],
   "source": [
    "def calculate_kurtosis(data):\n",
    "    mean = np.mean(data)\n",
    "    std_dev = np.std(data)\n",
    "    kurtosis = np.mean((data - mean) ** 4) / (std_dev ** 4) - 3\n",
    "    return kurtosis"
   ]
  },
  {
   "cell_type": "code",
   "execution_count": 96,
   "id": "77554891-4ca0-43aa-bea2-fea29fee4aad",
   "metadata": {},
   "outputs": [
    {
     "data": {
      "text/plain": [
       "-0.6821976724574141"
      ]
     },
     "execution_count": 96,
     "metadata": {},
     "output_type": "execute_result"
    }
   ],
   "source": [
    "calculate_kurtosis(x)"
   ]
  },
  {
   "cell_type": "code",
   "execution_count": 97,
   "id": "265f1cdd-bdc0-4db6-a851-6dbb48d49361",
   "metadata": {},
   "outputs": [
    {
     "data": {
      "text/plain": [
       "array([1, 2, 2, 3, 3, 3, 4, 4, 4, 4, 5, 5, 5, 5, 5, 6, 6, 6, 6, 6, 6, 7,\n",
       "       7, 7, 7, 7, 7])"
      ]
     },
     "execution_count": 97,
     "metadata": {},
     "output_type": "execute_result"
    }
   ],
   "source": [
    "x"
   ]
  },
  {
   "cell_type": "code",
   "execution_count": 98,
   "id": "d869633b-14fc-41bc-b0ed-796591320a91",
   "metadata": {},
   "outputs": [
    {
     "data": {
      "text/plain": [
       "array([1, 1, 1, 1, 1, 1, 1, 2, 2, 2, 2, 2, 2, 3, 3, 3, 3, 3, 4, 4, 4, 4,\n",
       "       5, 5, 5, 6, 6, 7])"
      ]
     },
     "execution_count": 98,
     "metadata": {},
     "output_type": "execute_result"
    }
   ],
   "source": [
    "y"
   ]
  },
  {
   "cell_type": "markdown",
   "id": "988a93ef-0a98-4f8d-a159-87bd1394e016",
   "metadata": {},
   "source": [
    "##### Z-Score"
   ]
  },
  {
   "cell_type": "code",
   "execution_count": 100,
   "id": "aa384662-8d4d-4510-98cc-2e7821394b39",
   "metadata": {},
   "outputs": [],
   "source": [
    "def calc_zscore(x):\n",
    "    z = (x - x.mean()) / x.std()\n",
    "    return z"
   ]
  },
  {
   "cell_type": "code",
   "execution_count": 101,
   "id": "fb1ae027-c48c-48d9-9956-4ecf03a7f2af",
   "metadata": {},
   "outputs": [
    {
     "data": {
      "text/plain": [
       "array([-2.28287161, -1.70138544, -1.70138544, -1.11989928, -1.11989928,\n",
       "       -1.11989928, -0.53841312, -0.53841312, -0.53841312, -0.53841312,\n",
       "        0.04307305,  0.04307305,  0.04307305,  0.04307305,  0.04307305,\n",
       "        0.62455921,  0.62455921,  0.62455921,  0.62455921,  0.62455921,\n",
       "        0.62455921,  1.20604538,  1.20604538,  1.20604538,  1.20604538,\n",
       "        1.20604538,  1.20604538])"
      ]
     },
     "execution_count": 101,
     "metadata": {},
     "output_type": "execute_result"
    }
   ],
   "source": [
    "calc_zscore(x)"
   ]
  },
  {
   "cell_type": "code",
   "execution_count": 102,
   "id": "8d236f23-db1b-4a8e-92c7-afe0822d3821",
   "metadata": {},
   "outputs": [],
   "source": [
    "x = np.array([45,22,15,37,58,59,54,18])"
   ]
  },
  {
   "cell_type": "code",
   "execution_count": 103,
   "id": "a83f12e7-893b-48b3-ae57-2e07972c8e4a",
   "metadata": {},
   "outputs": [
    {
     "data": {
      "text/plain": [
       "array([ 0.38087318, -0.96683191, -1.37700303, -0.08789381,  1.14261953,\n",
       "        1.20121541,  0.90823604, -1.20121541])"
      ]
     },
     "execution_count": 103,
     "metadata": {},
     "output_type": "execute_result"
    }
   ],
   "source": [
    "calc_zscore(x)"
   ]
  },
  {
   "cell_type": "code",
   "execution_count": 136,
   "id": "ee6df13b-c017-4ddf-9816-ec94c7d2e940",
   "metadata": {},
   "outputs": [],
   "source": [
    "x = np.arange(1,1000)"
   ]
  },
  {
   "cell_type": "code",
   "execution_count": 144,
   "id": "057b8cff-cebd-4541-adff-1d2a02d5522e",
   "metadata": {},
   "outputs": [],
   "source": [
    "x[5] = 4000"
   ]
  },
  {
   "cell_type": "code",
   "execution_count": 145,
   "id": "3372e2f5-c391-49a8-a170-37b0971f1cf1",
   "metadata": {},
   "outputs": [],
   "source": [
    "c = calc_zscore(x)"
   ]
  },
  {
   "cell_type": "code",
   "execution_count": 146,
   "id": "69b84e4e-732d-4ee0-a1e7-d930819f8139",
   "metadata": {},
   "outputs": [
    {
     "data": {
      "text/plain": [
       "array([-1.54559833e+00, -1.54254680e+00, -1.53949528e+00, -1.53644375e+00,\n",
       "       -1.53339223e+00,  1.06574453e+01, -1.52728918e+00, -1.52423766e+00,\n",
       "       -1.52118613e+00, -1.51813461e+00, -1.51508309e+00, -1.51203156e+00,\n",
       "       -1.50898004e+00, -1.50592852e+00, -1.50287699e+00, -1.49982547e+00,\n",
       "       -1.49677394e+00, -1.49372242e+00, -1.49067090e+00, -1.48761937e+00,\n",
       "       -1.48456785e+00, -1.48151633e+00, -1.47846480e+00, -1.47541328e+00,\n",
       "       -1.47236175e+00, -1.46931023e+00, -1.46625871e+00, -1.46320718e+00,\n",
       "       -1.46015566e+00, -1.45710414e+00, -1.45405261e+00, -1.45100109e+00,\n",
       "       -1.44794956e+00, -1.44489804e+00, -1.44184652e+00, -1.43879499e+00,\n",
       "       -1.43574347e+00, -1.43269195e+00, -1.42964042e+00, -1.42658890e+00,\n",
       "       -1.42353737e+00, -1.42048585e+00, -1.41743433e+00, -1.41438280e+00,\n",
       "       -1.41133128e+00, -1.40827975e+00, -1.40522823e+00, -1.40217671e+00,\n",
       "       -1.39912518e+00, -1.39607366e+00, -1.39302214e+00, -1.38997061e+00,\n",
       "       -1.38691909e+00, -1.38386756e+00, -1.38081604e+00, -1.37776452e+00,\n",
       "       -1.37471299e+00, -1.37166147e+00, -1.36860995e+00, -1.36555842e+00,\n",
       "       -1.36250690e+00, -1.35945537e+00, -1.35640385e+00, -1.35335233e+00,\n",
       "       -1.35030080e+00, -1.34724928e+00, -1.34419776e+00, -1.34114623e+00,\n",
       "       -1.33809471e+00, -1.33504318e+00, -1.33199166e+00, -1.32894014e+00,\n",
       "       -1.32588861e+00, -1.32283709e+00, -1.31978557e+00, -1.31673404e+00,\n",
       "       -1.31368252e+00, -1.31063099e+00, -1.30757947e+00, -1.30452795e+00,\n",
       "       -1.30147642e+00, -1.29842490e+00, -1.29537337e+00, -1.29232185e+00,\n",
       "       -1.28927033e+00, -1.28621880e+00, -1.28316728e+00, -1.28011576e+00,\n",
       "       -1.27706423e+00, -1.27401271e+00, -1.27096118e+00, -1.26790966e+00,\n",
       "       -1.26485814e+00, -1.26180661e+00, -1.25875509e+00, -1.25570357e+00,\n",
       "       -1.25265204e+00, -1.24960052e+00, -1.24654899e+00, -1.24349747e+00,\n",
       "       -1.24044595e+00, -1.23739442e+00, -1.23434290e+00, -1.23129138e+00,\n",
       "       -1.22823985e+00, -1.22518833e+00, -1.22213680e+00, -1.21908528e+00,\n",
       "       -1.21603376e+00, -1.21298223e+00, -1.20993071e+00, -1.20687918e+00,\n",
       "       -1.20382766e+00, -1.20077614e+00, -1.19772461e+00, -1.19467309e+00,\n",
       "       -1.19162157e+00, -1.18857004e+00, -1.18551852e+00, -1.18246699e+00,\n",
       "       -1.17941547e+00, -1.17636395e+00, -1.17331242e+00, -1.17026090e+00,\n",
       "       -1.16720938e+00, -1.16415785e+00, -1.16110633e+00, -1.15805480e+00,\n",
       "       -1.15500328e+00, -1.15195176e+00, -1.14890023e+00, -1.14584871e+00,\n",
       "       -1.14279719e+00, -1.13974566e+00, -1.13669414e+00, -1.13364261e+00,\n",
       "       -1.13059109e+00, -1.12753957e+00, -1.12448804e+00, -1.12143652e+00,\n",
       "       -1.11838500e+00, -1.11533347e+00, -1.11228195e+00, -1.10923042e+00,\n",
       "       -1.10617890e+00, -1.10312738e+00, -1.10007585e+00, -1.09702433e+00,\n",
       "       -1.09397280e+00, -1.09092128e+00, -1.08786976e+00, -1.08481823e+00,\n",
       "       -1.08176671e+00, -1.07871519e+00, -1.07566366e+00, -1.07261214e+00,\n",
       "       -1.06956061e+00, -1.06650909e+00, -1.06345757e+00, -1.06040604e+00,\n",
       "       -1.05735452e+00, -1.05430300e+00, -1.05125147e+00, -1.04819995e+00,\n",
       "       -1.04514842e+00, -1.04209690e+00, -1.03904538e+00, -1.03599385e+00,\n",
       "       -1.03294233e+00, -1.02989081e+00, -1.02683928e+00, -1.02378776e+00,\n",
       "       -1.02073623e+00, -1.01768471e+00, -1.01463319e+00, -1.01158166e+00,\n",
       "       -1.00853014e+00, -1.00547861e+00, -1.00242709e+00, -9.99375567e-01,\n",
       "       -9.96324044e-01, -9.93272520e-01, -9.90220996e-01, -9.87169472e-01,\n",
       "       -9.84117948e-01, -9.81066425e-01, -9.78014901e-01, -9.74963377e-01,\n",
       "       -9.71911853e-01, -9.68860330e-01, -9.65808806e-01, -9.62757282e-01,\n",
       "       -9.59705758e-01, -9.56654234e-01, -9.53602711e-01, -9.50551187e-01,\n",
       "       -9.47499663e-01, -9.44448139e-01, -9.41396615e-01, -9.38345092e-01,\n",
       "       -9.35293568e-01, -9.32242044e-01, -9.29190520e-01, -9.26138997e-01,\n",
       "       -9.23087473e-01, -9.20035949e-01, -9.16984425e-01, -9.13932901e-01,\n",
       "       -9.10881378e-01, -9.07829854e-01, -9.04778330e-01, -9.01726806e-01,\n",
       "       -8.98675282e-01, -8.95623759e-01, -8.92572235e-01, -8.89520711e-01,\n",
       "       -8.86469187e-01, -8.83417664e-01, -8.80366140e-01, -8.77314616e-01,\n",
       "       -8.74263092e-01, -8.71211568e-01, -8.68160045e-01, -8.65108521e-01,\n",
       "       -8.62056997e-01, -8.59005473e-01, -8.55953949e-01, -8.52902426e-01,\n",
       "       -8.49850902e-01, -8.46799378e-01, -8.43747854e-01, -8.40696331e-01,\n",
       "       -8.37644807e-01, -8.34593283e-01, -8.31541759e-01, -8.28490235e-01,\n",
       "       -8.25438712e-01, -8.22387188e-01, -8.19335664e-01, -8.16284140e-01,\n",
       "       -8.13232616e-01, -8.10181093e-01, -8.07129569e-01, -8.04078045e-01,\n",
       "       -8.01026521e-01, -7.97974997e-01, -7.94923474e-01, -7.91871950e-01,\n",
       "       -7.88820426e-01, -7.85768902e-01, -7.82717379e-01, -7.79665855e-01,\n",
       "       -7.76614331e-01, -7.73562807e-01, -7.70511283e-01, -7.67459760e-01,\n",
       "       -7.64408236e-01, -7.61356712e-01, -7.58305188e-01, -7.55253664e-01,\n",
       "       -7.52202141e-01, -7.49150617e-01, -7.46099093e-01, -7.43047569e-01,\n",
       "       -7.39996046e-01, -7.36944522e-01, -7.33892998e-01, -7.30841474e-01,\n",
       "       -7.27789950e-01, -7.24738427e-01, -7.21686903e-01, -7.18635379e-01,\n",
       "       -7.15583855e-01, -7.12532331e-01, -7.09480808e-01, -7.06429284e-01,\n",
       "       -7.03377760e-01, -7.00326236e-01, -6.97274713e-01, -6.94223189e-01,\n",
       "       -6.91171665e-01, -6.88120141e-01, -6.85068617e-01, -6.82017094e-01,\n",
       "       -6.78965570e-01, -6.75914046e-01, -6.72862522e-01, -6.69810998e-01,\n",
       "       -6.66759475e-01, -6.63707951e-01, -6.60656427e-01, -6.57604903e-01,\n",
       "       -6.54553380e-01, -6.51501856e-01, -6.48450332e-01, -6.45398808e-01,\n",
       "       -6.42347284e-01, -6.39295761e-01, -6.36244237e-01, -6.33192713e-01,\n",
       "       -6.30141189e-01, -6.27089665e-01, -6.24038142e-01, -6.20986618e-01,\n",
       "       -6.17935094e-01, -6.14883570e-01, -6.11832047e-01, -6.08780523e-01,\n",
       "       -6.05728999e-01, -6.02677475e-01, -5.99625951e-01, -5.96574428e-01,\n",
       "       -5.93522904e-01, -5.90471380e-01, -5.87419856e-01, -5.84368332e-01,\n",
       "       -5.81316809e-01, -5.78265285e-01, -5.75213761e-01, -5.72162237e-01,\n",
       "       -5.69110713e-01, -5.66059190e-01, -5.63007666e-01, -5.59956142e-01,\n",
       "       -5.56904618e-01, -5.53853095e-01, -5.50801571e-01, -5.47750047e-01,\n",
       "       -5.44698523e-01, -5.41646999e-01, -5.38595476e-01, -5.35543952e-01,\n",
       "       -5.32492428e-01, -5.29440904e-01, -5.26389380e-01, -5.23337857e-01,\n",
       "       -5.20286333e-01, -5.17234809e-01, -5.14183285e-01, -5.11131762e-01,\n",
       "       -5.08080238e-01, -5.05028714e-01, -5.01977190e-01, -4.98925666e-01,\n",
       "       -4.95874143e-01, -4.92822619e-01, -4.89771095e-01, -4.86719571e-01,\n",
       "       -4.83668047e-01, -4.80616524e-01, -4.77565000e-01, -4.74513476e-01,\n",
       "       -4.71461952e-01, -4.68410429e-01, -4.65358905e-01, -4.62307381e-01,\n",
       "       -4.59255857e-01, -4.56204333e-01, -4.53152810e-01, -4.50101286e-01,\n",
       "       -4.47049762e-01, -4.43998238e-01, -4.40946714e-01, -4.37895191e-01,\n",
       "       -4.34843667e-01, -4.31792143e-01, -4.28740619e-01, -4.25689096e-01,\n",
       "       -4.22637572e-01, -4.19586048e-01, -4.16534524e-01, -4.13483000e-01,\n",
       "       -4.10431477e-01, -4.07379953e-01, -4.04328429e-01, -4.01276905e-01,\n",
       "       -3.98225381e-01, -3.95173858e-01, -3.92122334e-01, -3.89070810e-01,\n",
       "       -3.86019286e-01, -3.82967763e-01, -3.79916239e-01, -3.76864715e-01,\n",
       "       -3.73813191e-01, -3.70761667e-01, -3.67710144e-01, -3.64658620e-01,\n",
       "       -3.61607096e-01, -3.58555572e-01, -3.55504048e-01, -3.52452525e-01,\n",
       "       -3.49401001e-01, -3.46349477e-01, -3.43297953e-01, -3.40246429e-01,\n",
       "       -3.37194906e-01, -3.34143382e-01, -3.31091858e-01, -3.28040334e-01,\n",
       "       -3.24988811e-01, -3.21937287e-01, -3.18885763e-01, -3.15834239e-01,\n",
       "       -3.12782715e-01, -3.09731192e-01, -3.06679668e-01, -3.03628144e-01,\n",
       "       -3.00576620e-01, -2.97525096e-01, -2.94473573e-01, -2.91422049e-01,\n",
       "       -2.88370525e-01, -2.85319001e-01, -2.82267478e-01, -2.79215954e-01,\n",
       "       -2.76164430e-01, -2.73112906e-01, -2.70061382e-01, -2.67009859e-01,\n",
       "       -2.63958335e-01, -2.60906811e-01, -2.57855287e-01, -2.54803763e-01,\n",
       "       -2.51752240e-01, -2.48700716e-01, -2.45649192e-01, -2.42597668e-01,\n",
       "       -2.39546145e-01, -2.36494621e-01, -2.33443097e-01, -2.30391573e-01,\n",
       "       -2.27340049e-01, -2.24288526e-01, -2.21237002e-01, -2.18185478e-01,\n",
       "       -2.15133954e-01, -2.12082430e-01, -2.09030907e-01, -2.05979383e-01,\n",
       "       -2.02927859e-01, -1.99876335e-01, -1.96824812e-01, -1.93773288e-01,\n",
       "       -1.90721764e-01, -1.87670240e-01, -1.84618716e-01, -1.81567193e-01,\n",
       "       -1.78515669e-01, -1.75464145e-01, -1.72412621e-01, -1.69361097e-01,\n",
       "       -1.66309574e-01, -1.63258050e-01, -1.60206526e-01, -1.57155002e-01,\n",
       "       -1.54103479e-01, -1.51051955e-01, -1.48000431e-01, -1.44948907e-01,\n",
       "       -1.41897383e-01, -1.38845860e-01, -1.35794336e-01, -1.32742812e-01,\n",
       "       -1.29691288e-01, -1.26639764e-01, -1.23588241e-01, -1.20536717e-01,\n",
       "       -1.17485193e-01, -1.14433669e-01, -1.11382146e-01, -1.08330622e-01,\n",
       "       -1.05279098e-01, -1.02227574e-01, -9.91760504e-02, -9.61245266e-02,\n",
       "       -9.30730028e-02, -9.00214790e-02, -8.69699552e-02, -8.39184314e-02,\n",
       "       -8.08669076e-02, -7.78153838e-02, -7.47638601e-02, -7.17123363e-02,\n",
       "       -6.86608125e-02, -6.56092887e-02, -6.25577649e-02, -5.95062411e-02,\n",
       "       -5.64547173e-02, -5.34031936e-02, -5.03516698e-02, -4.73001460e-02,\n",
       "       -4.42486222e-02, -4.11970984e-02, -3.81455746e-02, -3.50940508e-02,\n",
       "       -3.20425270e-02, -2.89910033e-02, -2.59394795e-02, -2.28879557e-02,\n",
       "        1.06574453e+01, -1.67849081e-02, -1.37333843e-02, -1.06818605e-02,\n",
       "       -7.63033676e-03, -4.57881297e-03, -1.52728918e-03,  1.52423460e-03,\n",
       "        4.57575839e-03,  7.62728218e-03,  1.06788060e-02,  1.37303298e-02,\n",
       "        1.67818535e-02,  1.98333773e-02,  2.28849011e-02,  2.59364249e-02,\n",
       "        2.89879487e-02,  3.20394725e-02,  3.50909963e-02,  3.81425200e-02,\n",
       "        4.11940438e-02,  4.42455676e-02,  4.72970914e-02,  5.03486152e-02,\n",
       "        5.34001390e-02,  5.64516628e-02,  5.95031865e-02,  6.25547103e-02,\n",
       "        6.56062341e-02,  6.86577579e-02,  7.17092817e-02,  7.47608055e-02,\n",
       "        7.78123293e-02,  8.08638531e-02,  8.39153768e-02,  8.69669006e-02,\n",
       "        9.00184244e-02,  9.30699482e-02,  9.61214720e-02,  9.91729958e-02,\n",
       "        1.02224520e-01,  1.05276043e-01,  1.08327567e-01,  1.11379091e-01,\n",
       "        1.14430615e-01,  1.17482138e-01,  1.20533662e-01,  1.23585186e-01,\n",
       "        1.26636710e-01,  1.29688234e-01,  1.32739757e-01,  1.35791281e-01,\n",
       "        1.38842805e-01,  1.41894329e-01,  1.44945853e-01,  1.47997376e-01,\n",
       "        1.51048900e-01,  1.54100424e-01,  1.57151948e-01,  1.60203472e-01,\n",
       "        1.63254995e-01,  1.66306519e-01,  1.69358043e-01,  1.72409567e-01,\n",
       "        1.75461090e-01,  1.78512614e-01,  1.81564138e-01,  1.84615662e-01,\n",
       "        1.87667186e-01,  1.90718709e-01,  1.93770233e-01,  1.96821757e-01,\n",
       "        1.99873281e-01,  2.02924805e-01,  2.05976328e-01,  2.09027852e-01,\n",
       "        2.12079376e-01,  2.15130900e-01,  2.18182423e-01,  2.21233947e-01,\n",
       "        2.24285471e-01,  2.27336995e-01,  2.30388519e-01,  2.33440042e-01,\n",
       "        2.36491566e-01,  2.39543090e-01,  2.42594614e-01,  2.45646138e-01,\n",
       "        2.48697661e-01,  2.51749185e-01,  2.54800709e-01,  2.57852233e-01,\n",
       "        2.60903756e-01,  2.63955280e-01,  2.67006804e-01,  2.70058328e-01,\n",
       "        2.73109852e-01,  2.76161375e-01,  2.79212899e-01,  2.82264423e-01,\n",
       "        2.85315947e-01,  2.88367471e-01,  2.91418994e-01,  2.94470518e-01,\n",
       "        2.97522042e-01,  3.00573566e-01,  3.03625089e-01,  3.06676613e-01,\n",
       "        3.09728137e-01,  3.12779661e-01,  3.15831185e-01,  3.18882708e-01,\n",
       "        3.21934232e-01,  3.24985756e-01,  3.28037280e-01,  3.31088804e-01,\n",
       "        3.34140327e-01,  3.37191851e-01,  3.40243375e-01,  3.43294899e-01,\n",
       "        3.46346422e-01,  3.49397946e-01,  3.52449470e-01,  3.55500994e-01,\n",
       "        3.58552518e-01,  3.61604041e-01,  3.64655565e-01,  3.67707089e-01,\n",
       "        3.70758613e-01,  3.73810137e-01,  3.76861660e-01,  3.79913184e-01,\n",
       "        3.82964708e-01,  3.86016232e-01,  3.89067756e-01,  3.92119279e-01,\n",
       "        3.95170803e-01,  3.98222327e-01,  4.01273851e-01,  4.04325374e-01,\n",
       "        4.07376898e-01,  4.10428422e-01,  4.13479946e-01,  4.16531470e-01,\n",
       "        4.19582993e-01,  4.22634517e-01,  4.25686041e-01,  4.28737565e-01,\n",
       "        4.31789089e-01,  4.34840612e-01,  4.37892136e-01,  4.40943660e-01,\n",
       "        4.43995184e-01,  4.47046707e-01,  4.50098231e-01,  4.53149755e-01,\n",
       "        4.56201279e-01,  4.59252803e-01,  4.62304326e-01,  4.65355850e-01,\n",
       "        4.68407374e-01,  4.71458898e-01,  4.74510422e-01,  4.77561945e-01,\n",
       "        4.80613469e-01,  4.83664993e-01,  4.86716517e-01,  4.89768040e-01,\n",
       "        4.92819564e-01,  4.95871088e-01,  4.98922612e-01,  5.01974136e-01,\n",
       "        5.05025659e-01,  5.08077183e-01,  5.11128707e-01,  5.14180231e-01,\n",
       "        5.17231755e-01,  5.20283278e-01,  5.23334802e-01,  5.26386326e-01,\n",
       "        5.29437850e-01,  5.32489373e-01,  5.35540897e-01,  5.38592421e-01,\n",
       "        5.41643945e-01,  5.44695469e-01,  5.47746992e-01,  5.50798516e-01,\n",
       "        5.53850040e-01,  5.56901564e-01,  5.59953088e-01,  5.63004611e-01,\n",
       "        5.66056135e-01,  5.69107659e-01,  5.72159183e-01,  5.75210706e-01,\n",
       "        5.78262230e-01,  5.81313754e-01,  5.84365278e-01,  5.87416802e-01,\n",
       "        5.90468325e-01,  5.93519849e-01,  5.96571373e-01,  5.99622897e-01,\n",
       "        6.02674421e-01,  6.05725944e-01,  6.08777468e-01,  6.11828992e-01,\n",
       "        6.14880516e-01,  6.17932040e-01,  6.20983563e-01,  6.24035087e-01,\n",
       "        6.27086611e-01,  6.30138135e-01,  6.33189658e-01,  6.36241182e-01,\n",
       "        6.39292706e-01,  6.42344230e-01,  6.45395754e-01,  6.48447277e-01,\n",
       "        6.51498801e-01,  6.54550325e-01,  6.57601849e-01,  6.60653373e-01,\n",
       "        6.63704896e-01,  6.66756420e-01,  6.69807944e-01,  6.72859468e-01,\n",
       "        6.75910991e-01,  6.78962515e-01,  6.82014039e-01,  6.85065563e-01,\n",
       "        6.88117087e-01,  6.91168610e-01,  6.94220134e-01,  6.97271658e-01,\n",
       "        7.00323182e-01,  7.03374706e-01,  7.06426229e-01,  7.09477753e-01,\n",
       "        7.12529277e-01,  7.15580801e-01,  7.18632324e-01,  7.21683848e-01,\n",
       "        7.24735372e-01,  7.27786896e-01,  7.30838420e-01,  7.33889943e-01,\n",
       "        7.36941467e-01,  7.39992991e-01,  7.43044515e-01,  7.46096039e-01,\n",
       "        7.49147562e-01,  7.52199086e-01,  7.55250610e-01,  7.58302134e-01,\n",
       "        7.61353657e-01,  7.64405181e-01,  7.67456705e-01,  7.70508229e-01,\n",
       "        7.73559753e-01,  7.76611276e-01,  7.79662800e-01,  7.82714324e-01,\n",
       "        7.85765848e-01,  7.88817372e-01,  7.91868895e-01,  7.94920419e-01,\n",
       "        7.97971943e-01,  8.01023467e-01,  8.04074990e-01,  8.07126514e-01,\n",
       "        8.10178038e-01,  8.13229562e-01,  8.16281086e-01,  8.19332609e-01,\n",
       "        8.22384133e-01,  8.25435657e-01,  8.28487181e-01,  8.31538705e-01,\n",
       "        8.34590228e-01,  8.37641752e-01,  8.40693276e-01,  8.43744800e-01,\n",
       "        8.46796323e-01,  8.49847847e-01,  8.52899371e-01,  8.55950895e-01,\n",
       "        8.59002419e-01,  8.62053942e-01,  8.65105466e-01,  8.68156990e-01,\n",
       "        8.71208514e-01,  8.74260038e-01,  8.77311561e-01,  8.80363085e-01,\n",
       "        8.83414609e-01,  8.86466133e-01,  8.89517657e-01,  8.92569180e-01,\n",
       "        8.95620704e-01,  8.98672228e-01,  9.01723752e-01,  9.04775275e-01,\n",
       "        9.07826799e-01,  9.10878323e-01,  9.13929847e-01,  9.16981371e-01,\n",
       "        9.20032894e-01,  9.23084418e-01,  9.26135942e-01,  9.29187466e-01,\n",
       "        9.32238990e-01,  9.35290513e-01,  9.38342037e-01,  9.41393561e-01,\n",
       "        9.44445085e-01,  9.47496608e-01,  9.50548132e-01,  9.53599656e-01,\n",
       "        9.56651180e-01,  9.59702704e-01,  9.62754227e-01,  9.65805751e-01,\n",
       "        9.68857275e-01,  9.71908799e-01,  9.74960323e-01,  9.78011846e-01,\n",
       "        9.81063370e-01,  9.84114894e-01,  9.87166418e-01,  9.90217941e-01,\n",
       "        9.93269465e-01,  9.96320989e-01,  9.99372513e-01,  1.00242404e+00,\n",
       "        1.00547556e+00,  1.00852708e+00,  1.01157861e+00,  1.01463013e+00,\n",
       "        1.01768166e+00,  1.02073318e+00,  1.02378470e+00,  1.02683623e+00,\n",
       "        1.02988775e+00,  1.03293927e+00,  1.03599080e+00,  1.03904232e+00,\n",
       "        1.04209385e+00,  1.04514537e+00,  1.04819689e+00,  1.05124842e+00,\n",
       "        1.05429994e+00,  1.05735146e+00,  1.06040299e+00,  1.06345451e+00,\n",
       "        1.06650604e+00,  1.06955756e+00,  1.07260908e+00,  1.07566061e+00,\n",
       "        1.07871213e+00,  1.08176366e+00,  1.08481518e+00,  1.08786670e+00,\n",
       "        1.09091823e+00,  1.09396975e+00,  1.09702127e+00,  1.10007280e+00,\n",
       "        1.10312432e+00,  1.10617585e+00,  1.10922737e+00,  1.11227889e+00,\n",
       "        1.11533042e+00,  1.11838194e+00,  1.12143346e+00,  1.12448499e+00,\n",
       "        1.12753651e+00,  1.13058804e+00,  1.13363956e+00,  1.13669108e+00,\n",
       "        1.13974261e+00,  1.14279413e+00,  1.14584565e+00,  1.14889718e+00,\n",
       "        1.15194870e+00,  1.15500023e+00,  1.15805175e+00,  1.16110327e+00,\n",
       "        1.16415480e+00,  1.16720632e+00,  1.17025784e+00,  1.17330937e+00,\n",
       "        1.17636089e+00,  1.17941242e+00,  1.18246394e+00,  1.18551546e+00,\n",
       "        1.18856699e+00,  1.19161851e+00,  1.19467004e+00,  1.19772156e+00,\n",
       "        1.20077308e+00,  1.20382461e+00,  1.20687613e+00,  1.20992765e+00,\n",
       "        1.21297918e+00,  1.21603070e+00,  1.21908223e+00,  1.22213375e+00,\n",
       "        1.22518527e+00,  1.22823680e+00,  1.23128832e+00,  1.23433984e+00,\n",
       "        1.23739137e+00,  1.24044289e+00,  1.24349442e+00,  1.24654594e+00,\n",
       "        1.24959746e+00,  1.25264899e+00,  1.25570051e+00,  1.25875203e+00,\n",
       "        1.26180356e+00,  1.26485508e+00,  1.26790661e+00,  1.27095813e+00,\n",
       "        1.27400965e+00,  1.27706118e+00,  1.28011270e+00,  1.28316422e+00,\n",
       "        1.28621575e+00,  1.28926727e+00,  1.29231880e+00,  1.29537032e+00,\n",
       "        1.29842184e+00,  1.30147337e+00,  1.30452489e+00,  1.30757642e+00,\n",
       "        1.31062794e+00,  1.31367946e+00,  1.31673099e+00,  1.31978251e+00,\n",
       "        1.32283403e+00,  1.32588556e+00,  1.32893708e+00,  1.33198861e+00,\n",
       "        1.33504013e+00,  1.33809165e+00,  1.34114318e+00,  1.34419470e+00,\n",
       "        1.34724622e+00,  1.35029775e+00,  1.35334927e+00,  1.35640080e+00,\n",
       "        1.35945232e+00,  1.36250384e+00,  1.36555537e+00,  1.36860689e+00,\n",
       "        1.37165841e+00,  1.37470994e+00,  1.37776146e+00,  1.38081299e+00,\n",
       "        1.38386451e+00,  1.38691603e+00,  1.38996756e+00,  1.39301908e+00,\n",
       "        1.39607061e+00,  1.39912213e+00,  1.40217365e+00,  1.40522518e+00,\n",
       "        1.40827670e+00,  1.41132822e+00,  1.41437975e+00,  1.41743127e+00,\n",
       "        1.42048280e+00,  1.42353432e+00,  1.42658584e+00,  1.42963737e+00,\n",
       "        1.43268889e+00,  1.43574041e+00,  1.43879194e+00,  1.44184346e+00,\n",
       "        1.44489499e+00,  1.44794651e+00,  1.45099803e+00,  1.45404956e+00,\n",
       "        1.45710108e+00,  1.46015260e+00,  1.46320413e+00,  1.46625565e+00,\n",
       "        1.46930718e+00,  1.47235870e+00,  1.47541022e+00,  1.47846175e+00,\n",
       "        1.48151327e+00,  1.48456479e+00,  1.48761632e+00,  1.49066784e+00,\n",
       "        1.49371937e+00,  1.49677089e+00,  1.49982241e+00])"
      ]
     },
     "execution_count": 146,
     "metadata": {},
     "output_type": "execute_result"
    }
   ],
   "source": [
    "c"
   ]
  },
  {
   "cell_type": "code",
   "execution_count": 143,
   "id": "f39a49ef-f951-47d6-8aba-b36a691577a9",
   "metadata": {},
   "outputs": [
    {
     "data": {
      "text/plain": [
       "1.0"
      ]
     },
     "execution_count": 143,
     "metadata": {},
     "output_type": "execute_result"
    }
   ],
   "source": [
    "c.std()"
   ]
  },
  {
   "cell_type": "markdown",
   "id": "75be1a83-52b6-4f67-9bbc-07868693acac",
   "metadata": {},
   "source": [
    "##### Measure of correlations"
   ]
  },
  {
   "cell_type": "markdown",
   "id": "da215e31-67ee-4bdd-8584-393958f56527",
   "metadata": {},
   "source": [
    "###### Pearson's r"
   ]
  },
  {
   "cell_type": "code",
   "execution_count": 5,
   "id": "ef0867b2-b217-497f-a422-f5a55a4deb23",
   "metadata": {},
   "outputs": [],
   "source": [
    "import numpy as np\n",
    "import scipy.stats as st\n",
    "import pandas as pd\n",
    "import matplotlib.pyplot as plt\n",
    "import seaborn as sns"
   ]
  },
  {
   "cell_type": "code",
   "execution_count": 4,
   "id": "0c18e830-bcb7-478b-9b57-f8ccc9357d3b",
   "metadata": {},
   "outputs": [],
   "source": [
    "x = np.array([2,7,11,16,23,28,32,30,38,45])\n",
    "y = np.array([8,19,34,34,38,54,59,66,78,82])\n",
    "z = np.array([67,78,89,56,54,32,31,22,18,9])\n",
    "p = np.array([78,55,36,52,57,87,51,57,23,56])"
   ]
  },
  {
   "cell_type": "code",
   "execution_count": 6,
   "id": "4baa06c5-e272-42a9-9ce1-22059a381455",
   "metadata": {},
   "outputs": [
    {
     "data": {
      "text/plain": [
       "<matplotlib.collections.PathCollection at 0x70f43cf9a110>"
      ]
     },
     "execution_count": 6,
     "metadata": {},
     "output_type": "execute_result"
    },
    {
     "data": {
      "image/png": "[encoded data removed]",
      "text/plain": [
       "<Figure size 640x480 with 1 Axes>"
      ]
     },
     "metadata": {},
     "output_type": "display_data"
    }
   ],
   "source": [
    "plt.scatter(x, y)"
   ]
  },
  {
   "cell_type": "code",
   "execution_count": 7,
   "id": "dbdfa69a-2049-48cf-b9d2-a64c1a23a584",
   "metadata": {},
   "outputs": [
    {
     "data": {
      "text/plain": [
       "array([[1.        , 0.97715449],\n",
       "       [0.97715449, 1.        ]])"
      ]
     },
     "execution_count": 7,
     "metadata": {},
     "output_type": "execute_result"
    }
   ],
   "source": [
    "np.corrcoef(x, y)"
   ]
  },
  {
   "cell_type": "code",
   "execution_count": 8,
   "id": "5cc60658-d8fc-4c66-b519-b3b9e2e1becd",
   "metadata": {},
   "outputs": [
    {
     "data": {
      "text/plain": [
       "<matplotlib.collections.PathCollection at 0x70f43ae657e0>"
      ]
     },
     "execution_count": 8,
     "metadata": {},
     "output_type": "execute_result"
    },
    {
     "data": {
      "image/png": "[encoded data removed]",
      "text/plain": [
       "<Figure size 640x480 with 1 Axes>"
      ]
     },
     "metadata": {},
     "output_type": "display_data"
    }
   ],
   "source": [
    "plt.scatter(x, z)"
   ]
  },
  {
   "cell_type": "code",
   "execution_count": 9,
   "id": "d25abedf-f2df-4cdb-8d5f-2057ea368b6f",
   "metadata": {},
   "outputs": [
    {
     "data": {
      "text/plain": [
       "array([[ 1.        , -0.92266527],\n",
       "       [-0.92266527,  1.        ]])"
      ]
     },
     "execution_count": 9,
     "metadata": {},
     "output_type": "execute_result"
    }
   ],
   "source": [
    "np.corrcoef(x, z)"
   ]
  },
  {
   "cell_type": "code",
   "execution_count": 10,
   "id": "0a5f12f7-81b1-42e4-b56e-7f785522713d",
   "metadata": {},
   "outputs": [
    {
     "data": {
      "text/plain": [
       "PearsonRResult(statistic=0.9771544884330167, pvalue=1.1593791299189353e-06)"
      ]
     },
     "execution_count": 10,
     "metadata": {},
     "output_type": "execute_result"
    }
   ],
   "source": [
    "st.pearsonr(x, y)"
   ]
  },
  {
   "cell_type": "code",
   "execution_count": 11,
   "id": "fe9c4908-99c8-4ed7-92ef-1260e7e346a6",
   "metadata": {},
   "outputs": [
    {
     "data": {
      "text/plain": [
       "PearsonRResult(statistic=-0.9226652716060295, pvalue=0.00014242688320990318)"
      ]
     },
     "execution_count": 11,
     "metadata": {},
     "output_type": "execute_result"
    }
   ],
   "source": [
    "st.pearsonr(x, z)"
   ]
  },
  {
   "cell_type": "code",
   "execution_count": 12,
   "id": "822c6f6f-42a4-48b5-a5f6-00ed06049572",
   "metadata": {},
   "outputs": [
    {
     "data": {
      "text/plain": [
       "<matplotlib.collections.PathCollection at 0x70f43acd58a0>"
      ]
     },
     "execution_count": 12,
     "metadata": {},
     "output_type": "execute_result"
    },
    {
     "data": {
      "image/png": "[encoded data removed]",
      "text/plain": [
       "<Figure size 640x480 with 1 Axes>"
      ]
     },
     "metadata": {},
     "output_type": "display_data"
    }
   ],
   "source": [
    "plt.scatter(x, p)"
   ]
  },
  {
   "cell_type": "code",
   "execution_count": 13,
   "id": "10c7c005-fd41-4fb3-b6c4-329c22f716b6",
   "metadata": {},
   "outputs": [
    {
     "data": {
      "text/plain": [
       "PearsonRResult(statistic=-0.24286379574117734, pvalue=0.4989775505259852)"
      ]
     },
     "execution_count": 13,
     "metadata": {},
     "output_type": "execute_result"
    }
   ],
   "source": [
    "st.pearsonr(x, p)"
   ]
  },
  {
   "cell_type": "code",
   "execution_count": 14,
   "id": "14ed2f3d-9e85-4d19-91ee-bc6b6bc852e2",
   "metadata": {},
   "outputs": [
    {
     "data": {
      "text/plain": [
       "PearsonRResult(statistic=-0.8928405373264001, pvalue=0.0005059768213761985)"
      ]
     },
     "execution_count": 14,
     "metadata": {},
     "output_type": "execute_result"
    }
   ],
   "source": [
    "st.pearsonr(z, y)"
   ]
  },
  {
   "cell_type": "code",
   "execution_count": 15,
   "id": "c253988e-e4f3-42a5-9b23-5353825fe7d5",
   "metadata": {},
   "outputs": [],
   "source": [
    "x1 = np.arange(1,11)\n",
    "y1 = np.arange(10,0,-1)"
   ]
  },
  {
   "cell_type": "code",
   "execution_count": 16,
   "id": "83df15a7-4445-49f5-a8f7-b3eae6a1dfc9",
   "metadata": {},
   "outputs": [
    {
     "data": {
      "text/plain": [
       "array([10,  9,  8,  7,  6,  5,  4,  3,  2,  1])"
      ]
     },
     "execution_count": 16,
     "metadata": {},
     "output_type": "execute_result"
    }
   ],
   "source": [
    "y1"
   ]
  },
  {
   "cell_type": "code",
   "execution_count": 17,
   "id": "3ee21113-ffc5-4eb5-84d9-bdc75e027aed",
   "metadata": {},
   "outputs": [
    {
     "data": {
      "text/plain": [
       "array([ 1,  2,  3,  4,  5,  6,  7,  8,  9, 10])"
      ]
     },
     "execution_count": 17,
     "metadata": {},
     "output_type": "execute_result"
    }
   ],
   "source": [
    "x1"
   ]
  },
  {
   "cell_type": "code",
   "execution_count": 18,
   "id": "a0fb9752-b1b7-4e4b-b769-2cd65b55371a",
   "metadata": {},
   "outputs": [
    {
     "data": {
      "text/plain": [
       "PearsonRResult(statistic=-1.0, pvalue=0.0)"
      ]
     },
     "execution_count": 18,
     "metadata": {},
     "output_type": "execute_result"
    }
   ],
   "source": [
    "st.pearsonr(x1, y1)"
   ]
  },
  {
   "cell_type": "code",
   "execution_count": 20,
   "id": "8355521e-874c-4b3c-9534-9862144a7f4c",
   "metadata": {},
   "outputs": [],
   "source": [
    "df = pd.DataFrame({\n",
    "    'x': x,\n",
    "    'y': y,\n",
    "    'z': z,\n",
    "    'p': p\n",
    "})"
   ]
  },
  {
   "cell_type": "code",
   "execution_count": 22,
   "id": "841efe63-1d55-4eee-8611-0da70fc2a81c",
   "metadata": {},
   "outputs": [
    {
     "data": {
      "text/html": [
       "<div>\n",
       "<style scoped>\n",
       "    .dataframe tbody tr th:only-of-type {\n",
       "        vertical-align: middle;\n",
       "    }\n",
       "\n",
       "    .dataframe tbody tr th {\n",
       "        vertical-align: top;\n",
       "    }\n",
       "\n",
       "    .dataframe thead th {\n",
       "        text-align: right;\n",
       "    }\n",
       "</style>\n",
       "<table border=\"1\" class=\"dataframe\">\n",
       "  <thead>\n",
       "    <tr style=\"text-align: right;\">\n",
       "      <th></th>\n",
       "      <th>x</th>\n",
       "      <th>y</th>\n",
       "      <th>z</th>\n",
       "      <th>p</th>\n",
       "    </tr>\n",
       "  </thead>\n",
       "  <tbody>\n",
       "    <tr>\n",
       "      <th>x</th>\n",
       "      <td>1.000000</td>\n",
       "      <td>0.977154</td>\n",
       "      <td>-0.922665</td>\n",
       "      <td>-0.242864</td>\n",
       "    </tr>\n",
       "    <tr>\n",
       "      <th>y</th>\n",
       "      <td>0.977154</td>\n",
       "      <td>1.000000</td>\n",
       "      <td>-0.892841</td>\n",
       "      <td>-0.340601</td>\n",
       "    </tr>\n",
       "    <tr>\n",
       "      <th>z</th>\n",
       "      <td>-0.922665</td>\n",
       "      <td>-0.892841</td>\n",
       "      <td>1.000000</td>\n",
       "      <td>0.017082</td>\n",
       "    </tr>\n",
       "    <tr>\n",
       "      <th>p</th>\n",
       "      <td>-0.242864</td>\n",
       "      <td>-0.340601</td>\n",
       "      <td>0.017082</td>\n",
       "      <td>1.000000</td>\n",
       "    </tr>\n",
       "  </tbody>\n",
       "</table>\n",
       "</div>"
      ],
      "text/plain": [
       "          x         y         z         p\n",
       "x  1.000000  0.977154 -0.922665 -0.242864\n",
       "y  0.977154  1.000000 -0.892841 -0.340601\n",
       "z -0.922665 -0.892841  1.000000  0.017082\n",
       "p -0.242864 -0.340601  0.017082  1.000000"
      ]
     },
     "execution_count": 22,
     "metadata": {},
     "output_type": "execute_result"
    }
   ],
   "source": [
    "df.corr()"
   ]
  },
  {
   "cell_type": "markdown",
   "id": "92d1af5a-97a8-4dc6-b905-fd961952ef66",
   "metadata": {},
   "source": [
    "###### Spearman's ρ"
   ]
  },
  {
   "cell_type": "code",
   "execution_count": 24,
   "id": "78efd9d0-23a1-4636-ad49-d0d8d690b8b8",
   "metadata": {},
   "outputs": [
    {
     "data": {
      "text/plain": [
       "array([ 1.,  2.,  3.,  4.,  5.,  6.,  8.,  7.,  9., 10.])"
      ]
     },
     "execution_count": 24,
     "metadata": {},
     "output_type": "execute_result"
    }
   ],
   "source": [
    "st.rankdata(x)"
   ]
  },
  {
   "cell_type": "code",
   "execution_count": 25,
   "id": "617af452-e185-4593-afd9-e85835cbda4b",
   "metadata": {},
   "outputs": [
    {
     "data": {
      "text/plain": [
       "array([ 2,  7, 11, 16, 23, 28, 32, 30, 38, 45])"
      ]
     },
     "execution_count": 25,
     "metadata": {},
     "output_type": "execute_result"
    }
   ],
   "source": [
    "x"
   ]
  },
  {
   "cell_type": "code",
   "execution_count": 26,
   "id": "4db18840-b7c2-4fde-9340-6a6b60b68a47",
   "metadata": {},
   "outputs": [
    {
     "data": {
      "text/plain": [
       "array([ 1. ,  2. ,  3.5,  3.5,  5. ,  6. ,  7. ,  8. ,  9. , 10. ])"
      ]
     },
     "execution_count": 26,
     "metadata": {},
     "output_type": "execute_result"
    }
   ],
   "source": [
    "st.rankdata(y)"
   ]
  },
  {
   "cell_type": "code",
   "execution_count": 27,
   "id": "4609988b-3922-4854-9074-bc3a6e141c28",
   "metadata": {},
   "outputs": [
    {
     "data": {
      "text/plain": [
       "array([ 8, 19, 34, 34, 38, 54, 59, 66, 78, 82])"
      ]
     },
     "execution_count": 27,
     "metadata": {},
     "output_type": "execute_result"
    }
   ],
   "source": [
    "y"
   ]
  },
  {
   "cell_type": "code",
   "execution_count": 28,
   "id": "84795305-bd2c-4c9f-b4f5-534e1564ef82",
   "metadata": {},
   "outputs": [
    {
     "data": {
      "text/plain": [
       "SignificanceResult(statistic=0.9848069807617047, pvalue=2.2888344854823716e-07)"
      ]
     },
     "execution_count": 28,
     "metadata": {},
     "output_type": "execute_result"
    }
   ],
   "source": [
    "st.spearmanr(x, y)"
   ]
  },
  {
   "cell_type": "code",
   "execution_count": 29,
   "id": "34a55b9b-a9fc-4820-82a7-58466dc52c23",
   "metadata": {},
   "outputs": [
    {
     "data": {
      "text/plain": [
       "SignificanceResult(statistic=-0.9393939393939393, pvalue=5.484052998513666e-05)"
      ]
     },
     "execution_count": 29,
     "metadata": {},
     "output_type": "execute_result"
    }
   ],
   "source": [
    "st.spearmanr(x, z)"
   ]
  },
  {
   "cell_type": "code",
   "execution_count": 30,
   "id": "49cb80f7-ed8c-4eea-b100-731c87190e58",
   "metadata": {},
   "outputs": [
    {
     "data": {
      "text/plain": [
       "PearsonRResult(statistic=0.9848069807617046, pvalue=2.2888344854824396e-07)"
      ]
     },
     "execution_count": 30,
     "metadata": {},
     "output_type": "execute_result"
    }
   ],
   "source": [
    "st.pearsonr(st.rankdata(x,), st.rankdata(y))"
   ]
  },
  {
   "cell_type": "code",
   "execution_count": 31,
   "id": "159506cc-0a12-44b7-a2a7-1140f66708be",
   "metadata": {},
   "outputs": [
    {
     "data": {
      "text/plain": [
       "PearsonRResult(statistic=-0.9393939393939394, pvalue=5.484052998513635e-05)"
      ]
     },
     "execution_count": 31,
     "metadata": {},
     "output_type": "execute_result"
    }
   ],
   "source": [
    "st.pearsonr(st.rankdata(x), st.rankdata(z))"
   ]
  },
  {
   "cell_type": "code",
   "execution_count": 34,
   "id": "86e395dd-1385-49f8-8010-f871590396d8",
   "metadata": {},
   "outputs": [
    {
     "data": {
      "text/html": [
       "<div>\n",
       "<style scoped>\n",
       "    .dataframe tbody tr th:only-of-type {\n",
       "        vertical-align: middle;\n",
       "    }\n",
       "\n",
       "    .dataframe tbody tr th {\n",
       "        vertical-align: top;\n",
       "    }\n",
       "\n",
       "    .dataframe thead th {\n",
       "        text-align: right;\n",
       "    }\n",
       "</style>\n",
       "<table border=\"1\" class=\"dataframe\">\n",
       "  <thead>\n",
       "    <tr style=\"text-align: right;\">\n",
       "      <th></th>\n",
       "      <th>x</th>\n",
       "      <th>y</th>\n",
       "      <th>z</th>\n",
       "      <th>p</th>\n",
       "    </tr>\n",
       "  </thead>\n",
       "  <tbody>\n",
       "    <tr>\n",
       "      <th>x</th>\n",
       "      <td>1.00</td>\n",
       "      <td>0.98</td>\n",
       "      <td>-0.94</td>\n",
       "      <td>-0.22</td>\n",
       "    </tr>\n",
       "    <tr>\n",
       "      <th>y</th>\n",
       "      <td>0.98</td>\n",
       "      <td>1.00</td>\n",
       "      <td>-0.94</td>\n",
       "      <td>-0.18</td>\n",
       "    </tr>\n",
       "    <tr>\n",
       "      <th>z</th>\n",
       "      <td>-0.94</td>\n",
       "      <td>-0.94</td>\n",
       "      <td>1.00</td>\n",
       "      <td>0.00</td>\n",
       "    </tr>\n",
       "    <tr>\n",
       "      <th>p</th>\n",
       "      <td>-0.22</td>\n",
       "      <td>-0.18</td>\n",
       "      <td>0.00</td>\n",
       "      <td>1.00</td>\n",
       "    </tr>\n",
       "  </tbody>\n",
       "</table>\n",
       "</div>"
      ],
      "text/plain": [
       "      x     y     z     p\n",
       "x  1.00  0.98 -0.94 -0.22\n",
       "y  0.98  1.00 -0.94 -0.18\n",
       "z -0.94 -0.94  1.00  0.00\n",
       "p -0.22 -0.18  0.00  1.00"
      ]
     },
     "execution_count": 34,
     "metadata": {},
     "output_type": "execute_result"
    }
   ],
   "source": [
    "df.corr(method='spearman').round(decimals=2)"
   ]
  },
  {
   "cell_type": "markdown",
   "id": "77e02827-4323-4d97-93cb-452c8a013132",
   "metadata": {},
   "source": [
    "###### Kendall's τ"
   ]
  },
  {
   "cell_type": "code",
   "execution_count": 37,
   "id": "cc532779-aa5e-463f-a738-31ad620b0ff9",
   "metadata": {},
   "outputs": [
    {
     "data": {
      "text/plain": [
       "SignificanceResult(statistic=0.9438798074485389, pvalue=0.00016213175204392636)"
      ]
     },
     "execution_count": 37,
     "metadata": {},
     "output_type": "execute_result"
    }
   ],
   "source": [
    "st.kendalltau(x, y)"
   ]
  },
  {
   "cell_type": "code",
   "execution_count": 38,
   "id": "ca932d87-d075-4140-93ed-4160add462d0",
   "metadata": {},
   "outputs": [
    {
     "data": {
      "text/plain": [
       "SignificanceResult(statistic=-0.8222222222222221, pvalue=0.0003576940035273369)"
      ]
     },
     "execution_count": 38,
     "metadata": {},
     "output_type": "execute_result"
    }
   ],
   "source": [
    "st.kendalltau(x, z)"
   ]
  },
  {
   "cell_type": "code",
   "execution_count": 39,
   "id": "0bca6398-b1cc-4f7b-88bc-f2b1c4751499",
   "metadata": {},
   "outputs": [
    {
     "data": {
      "text/plain": [
       "SignificanceResult(statistic=-0.1797866299901979, pvalue=0.47249761400068846)"
      ]
     },
     "execution_count": 39,
     "metadata": {},
     "output_type": "execute_result"
    }
   ],
   "source": [
    "st.kendalltau(x, p)"
   ]
  },
  {
   "cell_type": "code",
   "execution_count": 40,
   "id": "d9d07871-92e0-4aea-882d-831c21df90ae",
   "metadata": {},
   "outputs": [
    {
     "data": {
      "text/html": [
       "<div>\n",
       "<style scoped>\n",
       "    .dataframe tbody tr th:only-of-type {\n",
       "        vertical-align: middle;\n",
       "    }\n",
       "\n",
       "    .dataframe tbody tr th {\n",
       "        vertical-align: top;\n",
       "    }\n",
       "\n",
       "    .dataframe thead th {\n",
       "        text-align: right;\n",
       "    }\n",
       "</style>\n",
       "<table border=\"1\" class=\"dataframe\">\n",
       "  <thead>\n",
       "    <tr style=\"text-align: right;\">\n",
       "      <th></th>\n",
       "      <th>x</th>\n",
       "      <th>y</th>\n",
       "      <th>z</th>\n",
       "      <th>p</th>\n",
       "    </tr>\n",
       "  </thead>\n",
       "  <tbody>\n",
       "    <tr>\n",
       "      <th>x</th>\n",
       "      <td>1.000000</td>\n",
       "      <td>0.943880</td>\n",
       "      <td>-0.822222</td>\n",
       "      <td>-0.179787</td>\n",
       "    </tr>\n",
       "    <tr>\n",
       "      <th>y</th>\n",
       "      <td>0.943880</td>\n",
       "      <td>1.000000</td>\n",
       "      <td>-0.853986</td>\n",
       "      <td>-0.159091</td>\n",
       "    </tr>\n",
       "    <tr>\n",
       "      <th>z</th>\n",
       "      <td>-0.822222</td>\n",
       "      <td>-0.853986</td>\n",
       "      <td>1.000000</td>\n",
       "      <td>0.000000</td>\n",
       "    </tr>\n",
       "    <tr>\n",
       "      <th>p</th>\n",
       "      <td>-0.179787</td>\n",
       "      <td>-0.159091</td>\n",
       "      <td>0.000000</td>\n",
       "      <td>1.000000</td>\n",
       "    </tr>\n",
       "  </tbody>\n",
       "</table>\n",
       "</div>"
      ],
      "text/plain": [
       "          x         y         z         p\n",
       "x  1.000000  0.943880 -0.822222 -0.179787\n",
       "y  0.943880  1.000000 -0.853986 -0.159091\n",
       "z -0.822222 -0.853986  1.000000  0.000000\n",
       "p -0.179787 -0.159091  0.000000  1.000000"
      ]
     },
     "execution_count": 40,
     "metadata": {},
     "output_type": "execute_result"
    }
   ],
   "source": [
    "df.corr(method='kendall')"
   ]
  },
  {
   "cell_type": "markdown",
   "id": "9f445ae6-3c7e-48ec-82e2-4cbec03d2084",
   "metadata": {},
   "source": [
    "###### Regression Line"
   ]
  },
  {
   "cell_type": "code",
   "execution_count": 43,
   "id": "2a478d6a-42b8-44e3-a665-32cf3e2d739e",
   "metadata": {},
   "outputs": [
    {
     "data": {
      "text/plain": [
       "<Axes: >"
      ]
     },
     "execution_count": 43,
     "metadata": {},
     "output_type": "execute_result"
    },
    {
     "data": {
      "image/png": "[encoded data removed]",
      "text/plain": [
       "<Figure size 640x480 with 1 Axes>"
      ]
     },
     "metadata": {},
     "output_type": "display_data"
    }
   ],
   "source": [
    "sns.regplot(x=x, y=y)"
   ]
  },
  {
   "cell_type": "code",
   "execution_count": 44,
   "id": "56de6798-0ea4-47d7-978f-8696cded8f5d",
   "metadata": {},
   "outputs": [
    {
     "data": {
      "text/plain": [
       "<Axes: >"
      ]
     },
     "execution_count": 44,
     "metadata": {},
     "output_type": "execute_result"
    },
    {
     "data": {
      "image/png": "[encoded data removed]",
      "text/plain": [
       "<Figure size 640x480 with 1 Axes>"
      ]
     },
     "metadata": {},
     "output_type": "display_data"
    }
   ],
   "source": [
    "sns.regplot(x=x, y=z)"
   ]
  },
  {
   "cell_type": "markdown",
   "id": "aa8ce25f-ccfd-4876-9115-3702ebffe6a8",
   "metadata": {},
   "source": [
    "###### Measure of frequency"
   ]
  },
  {
   "cell_type": "code",
   "execution_count": 46,
   "id": "08543a03-662f-4f1f-8dce-0d38d4bbd90e",
   "metadata": {},
   "outputs": [],
   "source": [
    "marks = [89,67,63,59,46,90,63,72,74,58,66,65,69,47,65,77,53,89,65,60,49]"
   ]
  },
  {
   "cell_type": "code",
   "execution_count": 58,
   "id": "20a04e9b-eab3-4674-8d93-1ac6cb3af3e4",
   "metadata": {},
   "outputs": [
    {
     "data": {
      "image/png": "[encoded data removed]",
      "text/plain": [
       "<Figure size 640x480 with 1 Axes>"
      ]
     },
     "metadata": {},
     "output_type": "display_data"
    }
   ],
   "source": [
    "# Relative Frequency\n",
    "plt.xlabel('range of marks')\n",
    "plt.ylabel('frequency')\n",
    "plt.xticks(range(40,101,10))\n",
    "plt.yticks(range(10))\n",
    "plt.grid()\n",
    "plt.hist(marks, bins=range(40,101,10), color='blue');"
   ]
  },
  {
   "cell_type": "code",
   "execution_count": 60,
   "id": "9ec12327-0f19-4aa9-829f-8cc9e3f71be0",
   "metadata": {},
   "outputs": [
    {
     "data": {
      "image/png": "[encoded data removed]",
      "text/plain": [
       "<Figure size 640x480 with 1 Axes>"
      ]
     },
     "metadata": {},
     "output_type": "display_data"
    }
   ],
   "source": [
    "# Cumulative Frequency\n",
    "plt.xlabel('range of marks')\n",
    "plt.ylabel('frequency')\n",
    "plt.xticks(range(40,101,10))\n",
    "plt.yticks(range(40))\n",
    "plt.grid()\n",
    "plt.hist(marks, bins=range(40,101,10), color='blue', cumulative=True);"
   ]
  },
  {
   "cell_type": "code",
   "execution_count": null,
   "id": "fe6ffebd-dd33-48e3-9467-3de5abbb1305",
   "metadata": {},
   "outputs": [],
   "source": []
  }
 ],
 "metadata": {
  "kernelspec": {
   "display_name": "Python 3 (ipykernel)",
   "language": "python",
   "name": "python3"
  },
  "language_info": {
   "codemirror_mode": {
    "name": "ipython",
    "version": 3
   },
   "file_extension": ".py",
   "mimetype": "text/x-python",
   "name": "python",
   "nbconvert_exporter": "python",
   "pygments_lexer": "ipython3",
   "version": "3.10.12"
  }
 },
 "nbformat": 4,
 "nbformat_minor": 5
}
