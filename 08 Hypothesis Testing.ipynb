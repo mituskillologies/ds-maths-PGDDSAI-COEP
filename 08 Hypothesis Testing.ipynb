{
 "cells": [
  {
   "cell_type": "markdown",
   "id": "66b646ab-9e76-4499-b6dd-75b348a89566",
   "metadata": {},
   "source": [
    "##### Import the libraries"
   ]
  },
  {
   "cell_type": "code",
   "execution_count": 2,
   "id": "95e8f787-8978-4fec-8f36-f9ed6e9d7411",
   "metadata": {},
   "outputs": [],
   "source": [
    "import numpy as np\n",
    "import scipy.stats as stats"
   ]
  },
  {
   "cell_type": "markdown",
   "id": "6066f541-dd5a-4398-84fd-49712e739b44",
   "metadata": {},
   "source": [
    "##### Z-test"
   ]
  },
  {
   "cell_type": "code",
   "execution_count": 4,
   "id": "b3307c0d-8121-4e08-8415-e71938a0b386",
   "metadata": {},
   "outputs": [],
   "source": [
    "# sample Data - Average population weight in kgs\n",
    "data = [78, 62, 80, 75, 61, 74, 79, 93, 77, 95, 67, 88, 54, 69]"
   ]
  },
  {
   "cell_type": "code",
   "execution_count": 5,
   "id": "40518fd4-a34b-4729-ae39-4bc1e721a186",
   "metadata": {},
   "outputs": [],
   "source": [
    "# Define the null hypothesis (average population weight = 80)\n",
    "null_mean = 80"
   ]
  },
  {
   "cell_type": "code",
   "execution_count": 6,
   "id": "5c827243-33df-4605-a9dd-9f3db41a1e0d",
   "metadata": {},
   "outputs": [],
   "source": [
    "# Calculate the sample mean and standard deviation\n",
    "sample_mean = np.mean(data)\n",
    "sample_std = np.std(data)"
   ]
  },
  {
   "cell_type": "code",
   "execution_count": 7,
   "id": "a63a9df1-9328-40a1-a3d2-5c720dcadce7",
   "metadata": {},
   "outputs": [
    {
     "data": {
      "text/plain": [
       "75.14285714285714"
      ]
     },
     "execution_count": 7,
     "metadata": {},
     "output_type": "execute_result"
    }
   ],
   "source": [
    "sample_mean"
   ]
  },
  {
   "cell_type": "code",
   "execution_count": 8,
   "id": "182e2b0e-8f29-4e7c-bcec-0714d42a7f10",
   "metadata": {},
   "outputs": [
    {
     "data": {
      "text/plain": [
       "11.506874608915581"
      ]
     },
     "execution_count": 8,
     "metadata": {},
     "output_type": "execute_result"
    }
   ],
   "source": [
    "sample_std"
   ]
  },
  {
   "cell_type": "code",
   "execution_count": 9,
   "id": "6fddb03c-db55-4400-9568-34294a981340",
   "metadata": {},
   "outputs": [],
   "source": [
    "# Calculate the z-score\n",
    "z_score = (sample_mean - null_mean) / sample_std"
   ]
  },
  {
   "cell_type": "code",
   "execution_count": 10,
   "id": "a0947711-b3e0-46ff-b88b-3c7a7376f557",
   "metadata": {},
   "outputs": [
    {
     "data": {
      "text/plain": [
       "-0.4221079156784696"
      ]
     },
     "execution_count": 10,
     "metadata": {},
     "output_type": "execute_result"
    }
   ],
   "source": [
    "z_score"
   ]
  },
  {
   "cell_type": "code",
   "execution_count": 11,
   "id": "a0adf342-30e6-4bf2-813e-2031621e95fc",
   "metadata": {},
   "outputs": [],
   "source": [
    "p_value = 2 * (1 - stats.norm.cdf(abs(z_score)))"
   ]
  },
  {
   "cell_type": "code",
   "execution_count": 12,
   "id": "8a0d2b8d-4d39-4f21-97bc-7ffbfc576764",
   "metadata": {},
   "outputs": [
    {
     "data": {
      "text/plain": [
       "0.6729462504556214"
      ]
     },
     "execution_count": 12,
     "metadata": {},
     "output_type": "execute_result"
    }
   ],
   "source": [
    "p_value"
   ]
  },
  {
   "cell_type": "code",
   "execution_count": 13,
   "id": "03ef54e6-086a-403d-b60e-7be11a0ed689",
   "metadata": {},
   "outputs": [],
   "source": [
    "# Define significance level (alpha) - commonly used value is 0.05 (5%)\n",
    "alpha = 0.05"
   ]
  },
  {
   "cell_type": "code",
   "execution_count": 14,
   "id": "8d004569-6c5b-4359-a174-bb92560cc913",
   "metadata": {},
   "outputs": [
    {
     "name": "stdout",
     "output_type": "stream",
     "text": [
      "Fail to reject the null hypothesis. There is not enough evidence to conclude \n",
      "  the average weight is statistically different from 80 at a significance level of 0.05\n"
     ]
    }
   ],
   "source": [
    "# Interpretation\n",
    "if p_value < alpha:\n",
    "  print('''Reject the null hypothesis. The average weight is statistically different \n",
    "  from 80 at a significance level of''', alpha)\n",
    "else:\n",
    "  print('''Fail to reject the null hypothesis. There is not enough evidence to conclude \n",
    "  the average weight is statistically different from 80 at a significance level of''', alpha)"
   ]
  },
  {
   "cell_type": "code",
   "execution_count": 15,
   "id": "e315b115-ae49-4f9f-bdab-55672b803d1b",
   "metadata": {},
   "outputs": [],
   "source": [
    "from statsmodels.stats.weightstats import ztest as ztest"
   ]
  },
  {
   "cell_type": "code",
   "execution_count": 16,
   "id": "9ff26410-17bf-420e-bd61-114540e728b9",
   "metadata": {},
   "outputs": [],
   "source": [
    "#enter IQ levels for 20 patients\n",
    "data = [88, 92, 94, 94, 96, 97, 97, 97, 99, 99,\n",
    "        105, 109, 109, 109, 110, 112, 112, 113, 114, 115]"
   ]
  },
  {
   "cell_type": "code",
   "execution_count": 17,
   "id": "e2649f39-8466-4a89-bb07-42bac7b42c74",
   "metadata": {},
   "outputs": [
    {
     "data": {
      "text/plain": [
       "(1.5976240527147705, 0.1101266701438426)"
      ]
     },
     "execution_count": 17,
     "metadata": {},
     "output_type": "execute_result"
    }
   ],
   "source": [
    "#perform one sample z-test\n",
    "ztest(data, value=100)"
   ]
  },
  {
   "cell_type": "markdown",
   "id": "a08dd680-1c7b-4ae3-88f0-bb6f0a42d772",
   "metadata": {},
   "source": [
    "##### χ² Test"
   ]
  },
  {
   "cell_type": "code",
   "execution_count": 19,
   "id": "ff909f2f-0cac-4e49-a3c0-028566c3d56b",
   "metadata": {},
   "outputs": [],
   "source": [
    "from scipy.stats import chi2_contingency"
   ]
  },
  {
   "cell_type": "code",
   "execution_count": 20,
   "id": "14b5a991-dd5b-42b6-b2ee-12491d218630",
   "metadata": {},
   "outputs": [],
   "source": [
    "# defining the table\n",
    "data = [[207, 282, 241], [234, 242, 232]]\n",
    "stat, p, dof, expected = chi2_contingency(data)"
   ]
  },
  {
   "cell_type": "code",
   "execution_count": 21,
   "id": "f4301bf6-df07-4bf3-a383-81d73ea714a7",
   "metadata": {},
   "outputs": [
    {
     "data": {
      "text/plain": [
       "4.542228269825232"
      ]
     },
     "execution_count": 21,
     "metadata": {},
     "output_type": "execute_result"
    }
   ],
   "source": [
    "stat"
   ]
  },
  {
   "cell_type": "code",
   "execution_count": 22,
   "id": "2b27be3a-a4dd-4bc8-a65c-694a77ab8e84",
   "metadata": {},
   "outputs": [
    {
     "data": {
      "text/plain": [
       "array([[223.87343533, 266.00834492, 240.11821975],\n",
       "       [217.12656467, 257.99165508, 232.88178025]])"
      ]
     },
     "execution_count": 22,
     "metadata": {},
     "output_type": "execute_result"
    }
   ],
   "source": [
    "expected"
   ]
  },
  {
   "cell_type": "code",
   "execution_count": 23,
   "id": "8f56fe51-27f8-47ef-8938-e981ef5caa4f",
   "metadata": {},
   "outputs": [
    {
     "data": {
      "text/plain": [
       "2"
      ]
     },
     "execution_count": 23,
     "metadata": {},
     "output_type": "execute_result"
    }
   ],
   "source": [
    "dof"
   ]
  },
  {
   "cell_type": "code",
   "execution_count": 24,
   "id": "0a1f1493-9b21-44bb-8bd2-706cb17a70d0",
   "metadata": {},
   "outputs": [
    {
     "name": "stdout",
     "output_type": "stream",
     "text": [
      "p value is 0.1031971404730939\n",
      "Independent (H0 holds true)\n"
     ]
    }
   ],
   "source": [
    "# interpret p-value\n",
    "alpha = 0.05\n",
    "print(\"p value is \" + str(p))\n",
    "if p <= alpha:\n",
    "    print('Dependent (reject H0)')\n",
    "else:\n",
    "    print('Independent (H0 holds true)')"
   ]
  },
  {
   "cell_type": "code",
   "execution_count": null,
   "id": "286519cb-2a55-4749-a9dd-dc14d035a6c9",
   "metadata": {},
   "outputs": [],
   "source": []
  }
 ],
 "metadata": {
  "kernelspec": {
   "display_name": "Python 3 (ipykernel)",
   "language": "python",
   "name": "python3"
  },
  "language_info": {
   "codemirror_mode": {
    "name": "ipython",
    "version": 3
   },
   "file_extension": ".py",
   "mimetype": "text/x-python",
   "name": "python",
   "nbconvert_exporter": "python",
   "pygments_lexer": "ipython3",
   "version": "3.10.12"
  }
 },
 "nbformat": 4,
 "nbformat_minor": 5
}
